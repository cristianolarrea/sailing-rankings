{
 "cells": [
  {
   "cell_type": "code",
   "execution_count": 35,
   "metadata": {},
   "outputs": [],
   "source": [
    "import requests\n",
    "import pandas as pd\n",
    "import re"
   ]
  },
  {
   "cell_type": "code",
   "execution_count": 45,
   "metadata": {},
   "outputs": [],
   "source": [
    "def get_name(text):\n",
    "    text = text.split(\") \")[1]\n",
    "    return text.split(\" |\")[0]"
   ]
  },
  {
   "cell_type": "code",
   "execution_count": 46,
   "metadata": {},
   "outputs": [],
   "source": [
    "def get_position(text):\n",
    "    pattern = r'\\((.*?)\\)'\n",
    "    match = re.search(pattern, text)\n",
    "    return match.group(1)"
   ]
  },
  {
   "cell_type": "code",
   "execution_count": 153,
   "metadata": {},
   "outputs": [],
   "source": [
    "def get_flotilha(soup_object):\n",
    "    \"\"\"\n",
    "    This functions gets a input like <span style=\"display:none;\">punt_Yellow _0000003</span>\n",
    "    and returns the series of this data.\n",
    "    \"\"\"\n",
    "    if \"Yellow\" in str(soup_object) or \"Blue\" in str(soup_object) or \"Red\"in str(soup_object) or \"Pink\" in str(soup_object) or \"White\" in str(soup_object) or \"Green\" in str(soup_object) or \"Emerald\" in str(soup_object) \\\n",
    "    or \"punt_ \" in str(soup_object) or \"Gold\" in str(soup_object) or \"Silver\" in str(soup_object) or \"Bronze\" in str(soup_object):\n",
    "        return \"G\"\n",
    "    #DESCOMENTING BELOW IF THE CATEGORY IS FORMULA KITE\n",
    "    # elif \"QF\" in str(soup_object):\n",
    "    #     return \"B\"\n",
    "    # elif \"SF\" in str(soup_object):\n",
    "    #     return \"P\"\n",
    "    # elif \"Final\" in str(soup_object):\n",
    "    #     return \"O\"\n",
    "    elif \"Medal\" in str(soup_object):\n",
    "        return \"MR\"\n",
    "    else:\n",
    "        return \"aa\""
   ]
  },
  {
   "cell_type": "code",
   "execution_count": 158,
   "metadata": {},
   "outputs": [],
   "source": [
    "COMPETICAO = \"World Championship 2023\"\n",
    "CATEGORIA = \"470\""
   ]
  },
  {
   "cell_type": "code",
   "execution_count": 160,
   "metadata": {},
   "outputs": [],
   "source": [
    "r = requests.get(\"https://world-sailing-api.soticcloud.net/stats/api/event/b04bd77a-378c-4737-85c6-3a740b95cdcb?include=crews.country%2Ccrews.sailors.crewRole%2Craces.raceResults.crew.country%2Craces.raceResults.crew.sailors%2Craces.raceResults.crewCompetingStatus%2Craces.status%2Ccrews.carriedWins\")\n",
    "data = r.json()\n",
    "df_data = {\n",
    "    \"Id Resultado\": [],\n",
    "    \"Id Competidor\": [],\n",
    "    \"Nome Competidor\": [],\n",
    "    \"Id Competição\": [],\n",
    "    \"Classe Vela\": [],\n",
    "    \"Pontuação Regata\": [],\n",
    "    \"Flotilha\": [],\n",
    "    \"Posição Geral\": [],\n",
    "    \"Punição\": [],\n",
    "    \"Pontuação Total\": [],\n",
    "    \"Nett\": [],\n",
    "    \"Nome Competição\": []    \n",
    "}"
   ]
  },
  {
   "cell_type": "code",
   "execution_count": 161,
   "metadata": {},
   "outputs": [],
   "source": [
    "for race in data[\"data\"][\"races\"]:\n",
    "    for result in race[\"raceResults\"]:\n",
    "        pontuacao = result[\"averagePoints\"]\n",
    "        nome = get_name(result[\"crew\"][\"_admin_name\"])\n",
    "        posicao = get_position(result[\"crew\"][\"_admin_name\"])\n",
    "        flotilha = get_flotilha(race[\"name\"])\n",
    "        totalpoints = result[\"crew\"][\"totalPoints\"]\n",
    "        net = result[\"crew\"][\"points\"]\n",
    "        flotilha = get_flotilha(race)\n",
    "        df_data[\"Id Resultado\"].append(None)\n",
    "        df_data[\"Id Competidor\"].append(None),\n",
    "        df_data[\"Nome Competidor\"].append(nome),\n",
    "        df_data[\"Id Competição\"].append(None),\n",
    "        df_data[\"Classe Vela\"].append(CATEGORIA),\n",
    "        df_data[\"Pontuação Regata\"].append(pontuacao),\n",
    "        df_data[\"Posição Geral\"].append(posicao),\n",
    "        df_data[\"Flotilha\"].append(flotilha)\n",
    "        df_data[\"Punição\"].append(None),\n",
    "        df_data[\"Pontuação Total\"].append(totalpoints),\n",
    "        df_data[\"Nett\"].append(net),\n",
    "        df_data[\"Nome Competição\"].append(COMPETICAO) "
   ]
  },
  {
   "cell_type": "code",
   "execution_count": 162,
   "metadata": {},
   "outputs": [],
   "source": [
    "df = pd.DataFrame(df_data)"
   ]
  },
  {
   "cell_type": "code",
   "execution_count": 163,
   "metadata": {},
   "outputs": [],
   "source": [
    "df.to_csv(f\"results/{COMPETICAO}{CATEGORIA}.csv\")"
   ]
  },
  {
   "cell_type": "markdown",
   "metadata": {},
   "source": [
    "## Agreggating results"
   ]
  },
  {
   "cell_type": "code",
   "execution_count": 133,
   "metadata": {},
   "outputs": [],
   "source": [
    "import os"
   ]
  },
  {
   "cell_type": "code",
   "execution_count": 164,
   "metadata": {},
   "outputs": [],
   "source": [
    "files = [f for f in os.listdir(\"results\") if \"World Championship 2023\" in f]"
   ]
  },
  {
   "cell_type": "code",
   "execution_count": 165,
   "metadata": {},
   "outputs": [
    {
     "data": {
      "text/plain": [
       "['World Championship 202349erFX.csv',\n",
       " 'World Championship 2023IQFOIL Masc..csv',\n",
       " 'World Championship 2023Formula Kite Masc..csv',\n",
       " 'World Championship 2023470.csv',\n",
       " 'World Championship 2023ILCA 6.csv',\n",
       " 'World Championship 2023Ilca 7.csv',\n",
       " 'World Championship 202349er.csv',\n",
       " 'World Championship 2023Formula Kite Fem..csv',\n",
       " 'World Championship 2023IQFOIL Fem..csv',\n",
       " 'World Championship 2023Nacra 17.csv']"
      ]
     },
     "execution_count": 165,
     "metadata": {},
     "output_type": "execute_result"
    }
   ],
   "source": [
    "files"
   ]
  },
  {
   "cell_type": "code",
   "execution_count": 166,
   "metadata": {},
   "outputs": [],
   "source": [
    "df_init = pd.read_csv(\"results/\"+files[0])\n",
    "for file in files[1:]:\n",
    "    df_init = pd.concat([df_init, pd.read_csv(\"results/\"+file)])\n",
    "df_init.to_csv(\"results/cluster2.csv\")    "
   ]
  },
  {
   "cell_type": "code",
   "execution_count": 168,
   "metadata": {},
   "outputs": [
    {
     "data": {
      "text/plain": [
       "10841"
      ]
     },
     "execution_count": 168,
     "metadata": {},
     "output_type": "execute_result"
    }
   ],
   "source": [
    "len(df_init)"
   ]
  }
 ],
 "metadata": {
  "kernelspec": {
   "display_name": "Python 3",
   "language": "python",
   "name": "python3"
  },
  "language_info": {
   "codemirror_mode": {
    "name": "ipython",
    "version": 3
   },
   "file_extension": ".py",
   "mimetype": "text/x-python",
   "name": "python",
   "nbconvert_exporter": "python",
   "pygments_lexer": "ipython3",
   "version": "3.8.9"
  },
  "orig_nbformat": 4
 },
 "nbformat": 4,
 "nbformat_minor": 2
}
