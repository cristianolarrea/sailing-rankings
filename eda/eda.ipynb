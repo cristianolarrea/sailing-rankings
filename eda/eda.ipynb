{
 "cells": [
  {
   "cell_type": "markdown",
   "metadata": {},
   "source": [
    "# **Análise Exploratória de Dados**"
   ]
  },
  {
   "cell_type": "markdown",
   "metadata": {},
   "source": [
    "### **Perguntas:**\n",
    "\n",
    "Número de competidores/duplas\n",
    "\n",
    "Classes de vela extraídas\n",
    "\n",
    "Competições extraídas\n",
    "\n",
    "Número de competições por classe\n",
    "  \n",
    "Média de competidores por classe\n",
    "\n",
    "Número de competidores por competição\n",
    "\n",
    "Número de classes por competição\n",
    "\n",
    "Média de regatas por classe\n",
    "\n",
    "Média de regatas por classe em cada evento (evento ignora o ano)\n",
    "\n",
    "Média de competidores por evento (evento ignora o ano)\n",
    "\n",
    "Distribuição das punições\n",
    "\n",
    "Distribuição das punições por classe\n",
    "\n",
    "Distribuição das punições por evento\n",
    "\n",
    "Competidores que mais participaram / menos participaram de competições\n",
    "\n",
    "Competidores mais punidos em média\n",
    "\n",
    "Competidores que mais variaram de classe"
   ]
  },
  {
   "cell_type": "code",
   "execution_count": 1,
   "metadata": {},
   "outputs": [],
   "source": [
    "import pandas as pd\n",
    "import numpy as np\n",
    "import matplotlib.pyplot as plt\n",
    "import seaborn as sns"
   ]
  },
  {
   "cell_type": "code",
   "execution_count": 2,
   "metadata": {},
   "outputs": [],
   "source": [
    "df = pd.read_excel('../data/final_data.xlsx', index_col=0)"
   ]
  },
  {
   "cell_type": "markdown",
   "metadata": {},
   "source": [
    "## **Informações gerais do dataset**"
   ]
  },
  {
   "cell_type": "code",
   "execution_count": 3,
   "metadata": {},
   "outputs": [
    {
     "data": {
      "text/html": [
       "<div>\n",
       "<style scoped>\n",
       "    .dataframe tbody tr th:only-of-type {\n",
       "        vertical-align: middle;\n",
       "    }\n",
       "\n",
       "    .dataframe tbody tr th {\n",
       "        vertical-align: top;\n",
       "    }\n",
       "\n",
       "    .dataframe thead th {\n",
       "        text-align: right;\n",
       "    }\n",
       "</style>\n",
       "<table border=\"1\" class=\"dataframe\">\n",
       "  <thead>\n",
       "    <tr style=\"text-align: right;\">\n",
       "      <th></th>\n",
       "      <th>ID Resultado</th>\n",
       "      <th>ID Competidor</th>\n",
       "      <th>Nome Competidor</th>\n",
       "      <th>ID Competição</th>\n",
       "      <th>Classe Vela</th>\n",
       "      <th>Pontuação Regata</th>\n",
       "      <th>Descarte</th>\n",
       "      <th>Flotilha</th>\n",
       "      <th>Posição Geral</th>\n",
       "      <th>Punição</th>\n",
       "      <th>Pontuação Total</th>\n",
       "      <th>Nett</th>\n",
       "      <th>Nome Competição</th>\n",
       "    </tr>\n",
       "  </thead>\n",
       "  <tbody>\n",
       "    <tr>\n",
       "      <th>0</th>\n",
       "      <td>NaN</td>\n",
       "      <td>NaN</td>\n",
       "      <td>ALEJANDRO CLOOS</td>\n",
       "      <td>2.0</td>\n",
       "      <td>Ilca 7</td>\n",
       "      <td>24</td>\n",
       "      <td>0.0</td>\n",
       "      <td>GERAL</td>\n",
       "      <td>19</td>\n",
       "      <td>NaN</td>\n",
       "      <td>205.0</td>\n",
       "      <td>174</td>\n",
       "      <td>Central and South American Championship 2022</td>\n",
       "    </tr>\n",
       "    <tr>\n",
       "      <th>1</th>\n",
       "      <td>NaN</td>\n",
       "      <td>NaN</td>\n",
       "      <td>ALEJANDRO CLOOS</td>\n",
       "      <td>2.0</td>\n",
       "      <td>Ilca 7</td>\n",
       "      <td>18</td>\n",
       "      <td>0.0</td>\n",
       "      <td>GERAL</td>\n",
       "      <td>19</td>\n",
       "      <td>NaN</td>\n",
       "      <td>205.0</td>\n",
       "      <td>174</td>\n",
       "      <td>Central and South American Championship 2022</td>\n",
       "    </tr>\n",
       "    <tr>\n",
       "      <th>2</th>\n",
       "      <td>NaN</td>\n",
       "      <td>NaN</td>\n",
       "      <td>ALEJANDRO CLOOS</td>\n",
       "      <td>2.0</td>\n",
       "      <td>Ilca 7</td>\n",
       "      <td>20</td>\n",
       "      <td>0.0</td>\n",
       "      <td>GERAL</td>\n",
       "      <td>19</td>\n",
       "      <td>NaN</td>\n",
       "      <td>205.0</td>\n",
       "      <td>174</td>\n",
       "      <td>Central and South American Championship 2022</td>\n",
       "    </tr>\n",
       "    <tr>\n",
       "      <th>3</th>\n",
       "      <td>NaN</td>\n",
       "      <td>NaN</td>\n",
       "      <td>ALEJANDRO CLOOS</td>\n",
       "      <td>2.0</td>\n",
       "      <td>Ilca 7</td>\n",
       "      <td>22</td>\n",
       "      <td>0.0</td>\n",
       "      <td>GERAL</td>\n",
       "      <td>19</td>\n",
       "      <td>NaN</td>\n",
       "      <td>205.0</td>\n",
       "      <td>174</td>\n",
       "      <td>Central and South American Championship 2022</td>\n",
       "    </tr>\n",
       "    <tr>\n",
       "      <th>4</th>\n",
       "      <td>NaN</td>\n",
       "      <td>NaN</td>\n",
       "      <td>ALEJANDRO CLOOS</td>\n",
       "      <td>2.0</td>\n",
       "      <td>Ilca 7</td>\n",
       "      <td>24</td>\n",
       "      <td>0.0</td>\n",
       "      <td>GERAL</td>\n",
       "      <td>19</td>\n",
       "      <td>NaN</td>\n",
       "      <td>205.0</td>\n",
       "      <td>174</td>\n",
       "      <td>Central and South American Championship 2022</td>\n",
       "    </tr>\n",
       "  </tbody>\n",
       "</table>\n",
       "</div>"
      ],
      "text/plain": [
       "   ID Resultado  ID Competidor  Nome Competidor  ID Competição Classe Vela  \\\n",
       "0           NaN            NaN  ALEJANDRO CLOOS            2.0      Ilca 7   \n",
       "1           NaN            NaN  ALEJANDRO CLOOS            2.0      Ilca 7   \n",
       "2           NaN            NaN  ALEJANDRO CLOOS            2.0      Ilca 7   \n",
       "3           NaN            NaN  ALEJANDRO CLOOS            2.0      Ilca 7   \n",
       "4           NaN            NaN  ALEJANDRO CLOOS            2.0      Ilca 7   \n",
       "\n",
       "  Pontuação Regata  Descarte Flotilha  Posição Geral Punição  Pontuação Total  \\\n",
       "0               24       0.0    GERAL             19     NaN            205.0   \n",
       "1               18       0.0    GERAL             19     NaN            205.0   \n",
       "2               20       0.0    GERAL             19     NaN            205.0   \n",
       "3               22       0.0    GERAL             19     NaN            205.0   \n",
       "4               24       0.0    GERAL             19     NaN            205.0   \n",
       "\n",
       "  Nett                               Nome Competição  \n",
       "0  174  Central and South American Championship 2022  \n",
       "1  174  Central and South American Championship 2022  \n",
       "2  174  Central and South American Championship 2022  \n",
       "3  174  Central and South American Championship 2022  \n",
       "4  174  Central and South American Championship 2022  "
      ]
     },
     "execution_count": 3,
     "metadata": {},
     "output_type": "execute_result"
    }
   ],
   "source": [
    "df.head()"
   ]
  },
  {
   "cell_type": "code",
   "execution_count": 4,
   "metadata": {},
   "outputs": [
    {
     "name": "stdout",
     "output_type": "stream",
     "text": [
      "O DataFrame contém 135635 entradas com 13 colunas\n"
     ]
    }
   ],
   "source": [
    "print(\"O DataFrame contém {} entradas com {} colunas\".format(df.shape[0], df.shape[1]))"
   ]
  },
  {
   "cell_type": "code",
   "execution_count": 5,
   "metadata": {},
   "outputs": [
    {
     "name": "stdout",
     "output_type": "stream",
     "text": [
      "As colunas são: ['ID Resultado' 'ID Competidor' 'Nome Competidor' 'ID Competição'\n",
      " 'Classe Vela' 'Pontuação Regata' 'Descarte' 'Flotilha' 'Posição Geral'\n",
      " 'Punição' 'Pontuação Total' 'Nett' 'Nome Competição']\n"
     ]
    }
   ],
   "source": [
    "print(\"As colunas são: {}\".format(df.columns.values))"
   ]
  },
  {
   "cell_type": "code",
   "execution_count": 6,
   "metadata": {},
   "outputs": [
    {
     "name": "stdout",
     "output_type": "stream",
     "text": [
      "No total, há 3159 competidores ou duplas\n"
     ]
    }
   ],
   "source": [
    "competidores = np.unique(df['Nome Competidor'])\n",
    "print(\"No total, há {} competidores ou duplas\".format(len(competidores)))"
   ]
  },
  {
   "cell_type": "code",
   "execution_count": 7,
   "metadata": {},
   "outputs": [
    {
     "name": "stdout",
     "output_type": "stream",
     "text": [
      "As classes de vela extraídas para análise foram: ['Ilca 7', 'Ilca 6', 'Formula Kite Fem.', 'Formula Kite Masc.', 'IQFOIL Masc.', 'IQFOIL Fem.', '49er', '49erFX', 'Nacra 17', '470']\n"
     ]
    }
   ],
   "source": [
    "classes = df['Classe Vela'].unique().tolist()\n",
    "print(\"As classes de vela extraídas para análise foram: {}\".format(classes))"
   ]
  },
  {
   "cell_type": "code",
   "execution_count": 8,
   "metadata": {},
   "outputs": [
    {
     "name": "stdout",
     "output_type": "stream",
     "text": [
      "As competições extraídas para análise foram: ['Central and South American Championship 2022', 'Central and South American Championship 2023', 'European Championship 2021', 'European Championship 2022', 'European Championship 2023', 'Semaine Olympique Francaise De Voile 2015', 'Semaine Olympique Francaise De Voile 2016', 'Semaine Olympique Francaise De Voile 2022', 'Semaine Olympique Francaise De Voile 2023', 'Trofeo S.A.R Princesa Sofia 2015', 'Trofeo S.A.R Princesa Sofia 2016', 'Trofeo S.A.R Princesa Sofia 2019', 'Trofeo S.A.R Princesa Sofia 2022', 'Trofeo S.A.R Princesa Sofia 2023', 'World Championship 2021', 'World Championship 2022', 'World Championship 2023', 'World Championship 2015', 'World Championship 2016', 'World Championship 2017', 'World Championship 2019', 'World Championship 2020', 'Semaine Olympique Francaise De Voile 2018', 'Semaine Olympique Francaise De Voile 2017', 'World Championship 2018', 'Central and South American Championship 2021', 'Trofeo S.A.R Princesa Sofia 2018', 'Trofeo S.A.R Princesa Sofia 2017', nan, 'European Championship 2016', 'European Championship 2020', 'European Championship 2017', 'European Championship 2018']\n"
     ]
    }
   ],
   "source": [
    "competicoes = df['Nome Competição'].unique().tolist()\n",
    "print(\"As competições extraídas para análise foram: {}\".format(competicoes))"
   ]
  },
  {
   "cell_type": "markdown",
   "metadata": {},
   "source": [
    "### **Número de competições por classe**"
   ]
  },
  {
   "cell_type": "code",
   "execution_count": 9,
   "metadata": {},
   "outputs": [
    {
     "data": {
      "text/html": [
       "<div>\n",
       "<style scoped>\n",
       "    .dataframe tbody tr th:only-of-type {\n",
       "        vertical-align: middle;\n",
       "    }\n",
       "\n",
       "    .dataframe tbody tr th {\n",
       "        vertical-align: top;\n",
       "    }\n",
       "\n",
       "    .dataframe thead th {\n",
       "        text-align: right;\n",
       "    }\n",
       "</style>\n",
       "<table border=\"1\" class=\"dataframe\">\n",
       "  <thead>\n",
       "    <tr style=\"text-align: right;\">\n",
       "      <th></th>\n",
       "      <th>Classe Vela</th>\n",
       "      <th>Número de Competições</th>\n",
       "    </tr>\n",
       "  </thead>\n",
       "  <tbody>\n",
       "    <tr>\n",
       "      <th>0</th>\n",
       "      <td>49er</td>\n",
       "      <td>27</td>\n",
       "    </tr>\n",
       "    <tr>\n",
       "      <th>1</th>\n",
       "      <td>Ilca 6</td>\n",
       "      <td>27</td>\n",
       "    </tr>\n",
       "    <tr>\n",
       "      <th>2</th>\n",
       "      <td>Ilca 7</td>\n",
       "      <td>27</td>\n",
       "    </tr>\n",
       "    <tr>\n",
       "      <th>3</th>\n",
       "      <td>49erFX</td>\n",
       "      <td>25</td>\n",
       "    </tr>\n",
       "    <tr>\n",
       "      <th>4</th>\n",
       "      <td>470</td>\n",
       "      <td>7</td>\n",
       "    </tr>\n",
       "    <tr>\n",
       "      <th>5</th>\n",
       "      <td>IQFOIL Fem.</td>\n",
       "      <td>7</td>\n",
       "    </tr>\n",
       "    <tr>\n",
       "      <th>6</th>\n",
       "      <td>IQFOIL Masc.</td>\n",
       "      <td>7</td>\n",
       "    </tr>\n",
       "    <tr>\n",
       "      <th>7</th>\n",
       "      <td>Nacra 17</td>\n",
       "      <td>7</td>\n",
       "    </tr>\n",
       "    <tr>\n",
       "      <th>8</th>\n",
       "      <td>Formula Kite Fem.</td>\n",
       "      <td>6</td>\n",
       "    </tr>\n",
       "    <tr>\n",
       "      <th>9</th>\n",
       "      <td>Formula Kite Masc.</td>\n",
       "      <td>6</td>\n",
       "    </tr>\n",
       "  </tbody>\n",
       "</table>\n",
       "</div>"
      ],
      "text/plain": [
       "          Classe Vela  Número de Competições\n",
       "0                49er                     27\n",
       "1              Ilca 6                     27\n",
       "2              Ilca 7                     27\n",
       "3              49erFX                     25\n",
       "4                 470                      7\n",
       "5         IQFOIL Fem.                      7\n",
       "6        IQFOIL Masc.                      7\n",
       "7            Nacra 17                      7\n",
       "8   Formula Kite Fem.                      6\n",
       "9  Formula Kite Masc.                      6"
      ]
     },
     "execution_count": 9,
     "metadata": {},
     "output_type": "execute_result"
    }
   ],
   "source": [
    "competitions_by_class = df.groupby('Classe Vela')['ID Competição']\\\n",
    "                          .nunique()\\\n",
    "                          .sort_values(ascending=False)\\\n",
    "                          .reset_index(name='Número de Competições')\n",
    "\n",
    "competitions_by_class"
   ]
  },
  {
   "cell_type": "markdown",
   "metadata": {},
   "source": [
    "### **Média de competidores por classe em competições**"
   ]
  },
  {
   "cell_type": "code",
   "execution_count": 10,
   "metadata": {},
   "outputs": [
    {
     "data": {
      "text/html": [
       "<div>\n",
       "<style scoped>\n",
       "    .dataframe tbody tr th:only-of-type {\n",
       "        vertical-align: middle;\n",
       "    }\n",
       "\n",
       "    .dataframe tbody tr th {\n",
       "        vertical-align: top;\n",
       "    }\n",
       "\n",
       "    .dataframe thead th {\n",
       "        text-align: right;\n",
       "    }\n",
       "</style>\n",
       "<table border=\"1\" class=\"dataframe\">\n",
       "  <thead>\n",
       "    <tr style=\"text-align: right;\">\n",
       "      <th></th>\n",
       "      <th>Classe Vela</th>\n",
       "      <th>Média de Competidores</th>\n",
       "    </tr>\n",
       "  </thead>\n",
       "  <tbody>\n",
       "    <tr>\n",
       "      <th>0</th>\n",
       "      <td>Nacra 17</td>\n",
       "      <td>37.285714</td>\n",
       "    </tr>\n",
       "    <tr>\n",
       "      <th>1</th>\n",
       "      <td>49erFX</td>\n",
       "      <td>41.240000</td>\n",
       "    </tr>\n",
       "    <tr>\n",
       "      <th>2</th>\n",
       "      <td>Formula Kite Fem.</td>\n",
       "      <td>47.500000</td>\n",
       "    </tr>\n",
       "    <tr>\n",
       "      <th>3</th>\n",
       "      <td>470</td>\n",
       "      <td>60.857143</td>\n",
       "    </tr>\n",
       "    <tr>\n",
       "      <th>4</th>\n",
       "      <td>49er</td>\n",
       "      <td>64.259259</td>\n",
       "    </tr>\n",
       "    <tr>\n",
       "      <th>5</th>\n",
       "      <td>IQFOIL Fem.</td>\n",
       "      <td>75.142857</td>\n",
       "    </tr>\n",
       "    <tr>\n",
       "      <th>6</th>\n",
       "      <td>Ilca 6</td>\n",
       "      <td>86.000000</td>\n",
       "    </tr>\n",
       "    <tr>\n",
       "      <th>7</th>\n",
       "      <td>Formula Kite Masc.</td>\n",
       "      <td>90.000000</td>\n",
       "    </tr>\n",
       "    <tr>\n",
       "      <th>8</th>\n",
       "      <td>IQFOIL Masc.</td>\n",
       "      <td>105.428571</td>\n",
       "    </tr>\n",
       "    <tr>\n",
       "      <th>9</th>\n",
       "      <td>Ilca 7</td>\n",
       "      <td>120.629630</td>\n",
       "    </tr>\n",
       "  </tbody>\n",
       "</table>\n",
       "</div>"
      ],
      "text/plain": [
       "          Classe Vela  Média de Competidores\n",
       "0            Nacra 17              37.285714\n",
       "1              49erFX              41.240000\n",
       "2   Formula Kite Fem.              47.500000\n",
       "3                 470              60.857143\n",
       "4                49er              64.259259\n",
       "5         IQFOIL Fem.              75.142857\n",
       "6              Ilca 6              86.000000\n",
       "7  Formula Kite Masc.              90.000000\n",
       "8        IQFOIL Masc.             105.428571\n",
       "9              Ilca 7             120.629630"
      ]
     },
     "execution_count": 10,
     "metadata": {},
     "output_type": "execute_result"
    }
   ],
   "source": [
    "competitors_by_class_and_competition = df.groupby(['Classe Vela', 'ID Competição'])['Nome Competidor']\\\n",
    "                                         .nunique()\\\n",
    "                                         .sort_values(ascending=False)\n",
    "\n",
    "mean_ncompetitors_by_class = competitors_by_class_and_competition.groupby('Classe Vela')\\\n",
    "                                                                 .mean()\\\n",
    "                                                                 .sort_values(ascending=True)\\\n",
    "                                                                 .reset_index(name=\"Média de Competidores\")\n",
    "\n",
    "mean_ncompetitors_by_class"
   ]
  },
  {
   "cell_type": "code",
   "execution_count": 11,
   "metadata": {},
   "outputs": [
    {
     "data": {
      "image/png": "[encoded data removed]",
      "text/plain": [
       "<Figure size 1000x500 with 1 Axes>"
      ]
     },
     "metadata": {},
     "output_type": "display_data"
    }
   ],
   "source": [
    "#plots the data above\n",
    "plt.figure(figsize=(10,5))\n",
    "plt.barh(mean_ncompetitors_by_class['Classe Vela'], mean_ncompetitors_by_class['Média de Competidores'])\n",
    "plt.title('Média de competidores por classe em competições')\n",
    "plt.xlabel('Média de competidores')\t\n",
    "plt.ylabel('Classe Vela')\n",
    "plt.show()"
   ]
  },
  {
   "cell_type": "markdown",
   "metadata": {},
   "source": [
    "### **Número de competidores por competição**"
   ]
  },
  {
   "cell_type": "code",
   "execution_count": 12,
   "metadata": {},
   "outputs": [
    {
     "data": {
      "text/html": [
       "<div>\n",
       "<style scoped>\n",
       "    .dataframe tbody tr th:only-of-type {\n",
       "        vertical-align: middle;\n",
       "    }\n",
       "\n",
       "    .dataframe tbody tr th {\n",
       "        vertical-align: top;\n",
       "    }\n",
       "\n",
       "    .dataframe thead th {\n",
       "        text-align: right;\n",
       "    }\n",
       "</style>\n",
       "<table border=\"1\" class=\"dataframe\">\n",
       "  <thead>\n",
       "    <tr style=\"text-align: right;\">\n",
       "      <th></th>\n",
       "      <th>Nome Competição</th>\n",
       "      <th>Número de Competidores</th>\n",
       "    </tr>\n",
       "  </thead>\n",
       "  <tbody>\n",
       "    <tr>\n",
       "      <th>22</th>\n",
       "      <td>Trofeo S.A.R Princesa Sofia 2023</td>\n",
       "      <td>976</td>\n",
       "    </tr>\n",
       "    <tr>\n",
       "      <th>31</th>\n",
       "      <td>World Championship 2023</td>\n",
       "      <td>816</td>\n",
       "    </tr>\n",
       "    <tr>\n",
       "      <th>8</th>\n",
       "      <td>European Championship 2022</td>\n",
       "      <td>796</td>\n",
       "    </tr>\n",
       "    <tr>\n",
       "      <th>30</th>\n",
       "      <td>World Championship 2022</td>\n",
       "      <td>672</td>\n",
       "    </tr>\n",
       "    <tr>\n",
       "      <th>15</th>\n",
       "      <td>Semaine Olympique Francaise De Voile 2023</td>\n",
       "      <td>666</td>\n",
       "    </tr>\n",
       "  </tbody>\n",
       "</table>\n",
       "</div>"
      ],
      "text/plain": [
       "                              Nome Competição  Número de Competidores\n",
       "22           Trofeo S.A.R Princesa Sofia 2023                     976\n",
       "31                    World Championship 2023                     816\n",
       "8                  European Championship 2022                     796\n",
       "30                    World Championship 2022                     672\n",
       "15  Semaine Olympique Francaise De Voile 2023                     666"
      ]
     },
     "execution_count": 12,
     "metadata": {},
     "output_type": "execute_result"
    }
   ],
   "source": [
    "competitors_by_competition = df.groupby('Nome Competição')['Nome Competidor']\\\n",
    "                               .nunique()\\\n",
    "                               .reset_index(name='Número de Competidores')\\\n",
    "                               .sort_values(by='Número de Competidores', ascending=False)\n",
    "\n",
    "competitors_by_competition.head()"
   ]
  },
  {
   "cell_type": "markdown",
   "metadata": {},
   "source": [
    "### **Número de classes por competição**"
   ]
  },
  {
   "cell_type": "code",
   "execution_count": 13,
   "metadata": {},
   "outputs": [
    {
     "data": {
      "text/html": [
       "<div>\n",
       "<style scoped>\n",
       "    .dataframe tbody tr th:only-of-type {\n",
       "        vertical-align: middle;\n",
       "    }\n",
       "\n",
       "    .dataframe tbody tr th {\n",
       "        vertical-align: top;\n",
       "    }\n",
       "\n",
       "    .dataframe thead th {\n",
       "        text-align: right;\n",
       "    }\n",
       "</style>\n",
       "<table border=\"1\" class=\"dataframe\">\n",
       "  <thead>\n",
       "    <tr style=\"text-align: right;\">\n",
       "      <th></th>\n",
       "      <th>Nome Competição</th>\n",
       "      <th>Número de Classes</th>\n",
       "    </tr>\n",
       "  </thead>\n",
       "  <tbody>\n",
       "    <tr>\n",
       "      <th>31</th>\n",
       "      <td>World Championship 2023</td>\n",
       "      <td>10</td>\n",
       "    </tr>\n",
       "    <tr>\n",
       "      <th>15</th>\n",
       "      <td>Semaine Olympique Francaise De Voile 2023</td>\n",
       "      <td>10</td>\n",
       "    </tr>\n",
       "    <tr>\n",
       "      <th>14</th>\n",
       "      <td>Semaine Olympique Francaise De Voile 2022</td>\n",
       "      <td>10</td>\n",
       "    </tr>\n",
       "    <tr>\n",
       "      <th>22</th>\n",
       "      <td>Trofeo S.A.R Princesa Sofia 2023</td>\n",
       "      <td>10</td>\n",
       "    </tr>\n",
       "    <tr>\n",
       "      <th>8</th>\n",
       "      <td>European Championship 2022</td>\n",
       "      <td>9</td>\n",
       "    </tr>\n",
       "  </tbody>\n",
       "</table>\n",
       "</div>"
      ],
      "text/plain": [
       "                              Nome Competição  Número de Classes\n",
       "31                    World Championship 2023                 10\n",
       "15  Semaine Olympique Francaise De Voile 2023                 10\n",
       "14  Semaine Olympique Francaise De Voile 2022                 10\n",
       "22           Trofeo S.A.R Princesa Sofia 2023                 10\n",
       "8                  European Championship 2022                  9"
      ]
     },
     "execution_count": 13,
     "metadata": {},
     "output_type": "execute_result"
    }
   ],
   "source": [
    "classes_by_competition = df.groupby('Nome Competição')['Classe Vela']\\\n",
    "                            .nunique()\\\n",
    "                            .reset_index(name='Número de Classes')\\\n",
    "                            .sort_values(by='Número de Classes', ascending=False)\n",
    "\n",
    "classes_by_competition.head()"
   ]
  },
  {
   "cell_type": "markdown",
   "metadata": {},
   "source": [
    "### **Média de regatas por classe**"
   ]
  },
  {
   "cell_type": "code",
   "execution_count": 14,
   "metadata": {},
   "outputs": [
    {
     "data": {
      "text/html": [
       "<div>\n",
       "<style scoped>\n",
       "    .dataframe tbody tr th:only-of-type {\n",
       "        vertical-align: middle;\n",
       "    }\n",
       "\n",
       "    .dataframe tbody tr th {\n",
       "        vertical-align: top;\n",
       "    }\n",
       "\n",
       "    .dataframe thead th {\n",
       "        text-align: right;\n",
       "    }\n",
       "</style>\n",
       "<table border=\"1\" class=\"dataframe\">\n",
       "  <thead>\n",
       "    <tr style=\"text-align: right;\">\n",
       "      <th></th>\n",
       "      <th>Nome Competição</th>\n",
       "      <th>Classe Vela</th>\n",
       "      <th>Número de Regatas</th>\n",
       "    </tr>\n",
       "  </thead>\n",
       "  <tbody>\n",
       "    <tr>\n",
       "      <th>0</th>\n",
       "      <td>Central and South American Championship 2021</td>\n",
       "      <td>Ilca 6</td>\n",
       "      <td>8</td>\n",
       "    </tr>\n",
       "    <tr>\n",
       "      <th>1</th>\n",
       "      <td>Central and South American Championship 2021</td>\n",
       "      <td>Ilca 7</td>\n",
       "      <td>8</td>\n",
       "    </tr>\n",
       "    <tr>\n",
       "      <th>2</th>\n",
       "      <td>Central and South American Championship 2022</td>\n",
       "      <td>Ilca 6</td>\n",
       "      <td>10</td>\n",
       "    </tr>\n",
       "    <tr>\n",
       "      <th>3</th>\n",
       "      <td>Central and South American Championship 2022</td>\n",
       "      <td>Ilca 7</td>\n",
       "      <td>10</td>\n",
       "    </tr>\n",
       "    <tr>\n",
       "      <th>4</th>\n",
       "      <td>Central and South American Championship 2023</td>\n",
       "      <td>Ilca 6</td>\n",
       "      <td>9</td>\n",
       "    </tr>\n",
       "  </tbody>\n",
       "</table>\n",
       "</div>"
      ],
      "text/plain": [
       "                                Nome Competição Classe Vela  Número de Regatas\n",
       "0  Central and South American Championship 2021      Ilca 6                  8\n",
       "1  Central and South American Championship 2021      Ilca 7                  8\n",
       "2  Central and South American Championship 2022      Ilca 6                 10\n",
       "3  Central and South American Championship 2022      Ilca 7                 10\n",
       "4  Central and South American Championship 2023      Ilca 6                  9"
      ]
     },
     "execution_count": 14,
     "metadata": {},
     "output_type": "execute_result"
    }
   ],
   "source": [
    "# pego o numero de regatas por competidor\n",
    "nregatas_por_competidor = df.groupby(['Nome Competidor', 'Classe Vela', 'Nome Competição'])['Nome Competidor'].count().reset_index(name='Número de Regatas')\n",
    "\n",
    "# pego o numero maximo de regatas (competidor que correu todas)\n",
    "max_regatas = nregatas_por_competidor.groupby(['Nome Competição', 'Classe Vela'])['Número de Regatas'].max().reset_index(name='Número de Regatas')\n",
    "\n",
    "max_regatas.head()"
   ]
  },
  {
   "cell_type": "code",
   "execution_count": 15,
   "metadata": {},
   "outputs": [],
   "source": [
    "media_regatas_por_classe = max_regatas.groupby('Classe Vela')['Número de Regatas'].mean().reset_index(name='Média de Regatas').sort_values(by='Média de Regatas', ascending=True)"
   ]
  },
  {
   "cell_type": "code",
   "execution_count": 16,
   "metadata": {},
   "outputs": [
    {
     "data": {
      "image/png": "[encoded data removed]",
      "text/plain": [
       "<Figure size 1000x500 with 1 Axes>"
      ]
     },
     "metadata": {},
     "output_type": "display_data"
    }
   ],
   "source": [
    "#plots the data above\n",
    "plt.figure(figsize=(10,5))\n",
    "plt.barh(media_regatas_por_classe['Classe Vela'], media_regatas_por_classe['Média de Regatas'])\n",
    "plt.title('Média de regatas por classe em competições')\n",
    "plt.xlabel('Média de regatas')\t\n",
    "plt.ylabel('Classe')\n",
    "plt.show()"
   ]
  },
  {
   "cell_type": "markdown",
   "metadata": {},
   "source": [
    "### **Média de regatas por classe em cada evento**"
   ]
  },
  {
   "cell_type": "code",
   "execution_count": 17,
   "metadata": {},
   "outputs": [],
   "source": [
    "dfProv = df.copy()\n",
    "\n",
    "#competição sem ano (sem os ultimos 4 caracteres)\n",
    "dfProv['Evento'] = dfProv['Nome Competição'].str[:-5]"
   ]
  },
  {
   "cell_type": "code",
   "execution_count": 18,
   "metadata": {},
   "outputs": [
    {
     "data": {
      "text/html": [
       "<div>\n",
       "<style scoped>\n",
       "    .dataframe tbody tr th:only-of-type {\n",
       "        vertical-align: middle;\n",
       "    }\n",
       "\n",
       "    .dataframe tbody tr th {\n",
       "        vertical-align: top;\n",
       "    }\n",
       "\n",
       "    .dataframe thead th {\n",
       "        text-align: right;\n",
       "    }\n",
       "</style>\n",
       "<table border=\"1\" class=\"dataframe\">\n",
       "  <thead>\n",
       "    <tr style=\"text-align: right;\">\n",
       "      <th></th>\n",
       "      <th>ID Resultado</th>\n",
       "      <th>ID Competidor</th>\n",
       "      <th>Nome Competidor</th>\n",
       "      <th>ID Competição</th>\n",
       "      <th>Classe Vela</th>\n",
       "      <th>Pontuação Regata</th>\n",
       "      <th>Descarte</th>\n",
       "      <th>Flotilha</th>\n",
       "      <th>Posição Geral</th>\n",
       "      <th>Punição</th>\n",
       "      <th>Pontuação Total</th>\n",
       "      <th>Nett</th>\n",
       "      <th>Nome Competição</th>\n",
       "      <th>Evento</th>\n",
       "    </tr>\n",
       "  </thead>\n",
       "  <tbody>\n",
       "    <tr>\n",
       "      <th>0</th>\n",
       "      <td>NaN</td>\n",
       "      <td>NaN</td>\n",
       "      <td>ALEJANDRO CLOOS</td>\n",
       "      <td>2.0</td>\n",
       "      <td>Ilca 7</td>\n",
       "      <td>24</td>\n",
       "      <td>0.0</td>\n",
       "      <td>GERAL</td>\n",
       "      <td>19</td>\n",
       "      <td>NaN</td>\n",
       "      <td>205.0</td>\n",
       "      <td>174</td>\n",
       "      <td>Central and South American Championship 2022</td>\n",
       "      <td>Central and South American Championship</td>\n",
       "    </tr>\n",
       "    <tr>\n",
       "      <th>1</th>\n",
       "      <td>NaN</td>\n",
       "      <td>NaN</td>\n",
       "      <td>ALEJANDRO CLOOS</td>\n",
       "      <td>2.0</td>\n",
       "      <td>Ilca 7</td>\n",
       "      <td>18</td>\n",
       "      <td>0.0</td>\n",
       "      <td>GERAL</td>\n",
       "      <td>19</td>\n",
       "      <td>NaN</td>\n",
       "      <td>205.0</td>\n",
       "      <td>174</td>\n",
       "      <td>Central and South American Championship 2022</td>\n",
       "      <td>Central and South American Championship</td>\n",
       "    </tr>\n",
       "    <tr>\n",
       "      <th>2</th>\n",
       "      <td>NaN</td>\n",
       "      <td>NaN</td>\n",
       "      <td>ALEJANDRO CLOOS</td>\n",
       "      <td>2.0</td>\n",
       "      <td>Ilca 7</td>\n",
       "      <td>20</td>\n",
       "      <td>0.0</td>\n",
       "      <td>GERAL</td>\n",
       "      <td>19</td>\n",
       "      <td>NaN</td>\n",
       "      <td>205.0</td>\n",
       "      <td>174</td>\n",
       "      <td>Central and South American Championship 2022</td>\n",
       "      <td>Central and South American Championship</td>\n",
       "    </tr>\n",
       "    <tr>\n",
       "      <th>3</th>\n",
       "      <td>NaN</td>\n",
       "      <td>NaN</td>\n",
       "      <td>ALEJANDRO CLOOS</td>\n",
       "      <td>2.0</td>\n",
       "      <td>Ilca 7</td>\n",
       "      <td>22</td>\n",
       "      <td>0.0</td>\n",
       "      <td>GERAL</td>\n",
       "      <td>19</td>\n",
       "      <td>NaN</td>\n",
       "      <td>205.0</td>\n",
       "      <td>174</td>\n",
       "      <td>Central and South American Championship 2022</td>\n",
       "      <td>Central and South American Championship</td>\n",
       "    </tr>\n",
       "    <tr>\n",
       "      <th>4</th>\n",
       "      <td>NaN</td>\n",
       "      <td>NaN</td>\n",
       "      <td>ALEJANDRO CLOOS</td>\n",
       "      <td>2.0</td>\n",
       "      <td>Ilca 7</td>\n",
       "      <td>24</td>\n",
       "      <td>0.0</td>\n",
       "      <td>GERAL</td>\n",
       "      <td>19</td>\n",
       "      <td>NaN</td>\n",
       "      <td>205.0</td>\n",
       "      <td>174</td>\n",
       "      <td>Central and South American Championship 2022</td>\n",
       "      <td>Central and South American Championship</td>\n",
       "    </tr>\n",
       "  </tbody>\n",
       "</table>\n",
       "</div>"
      ],
      "text/plain": [
       "   ID Resultado  ID Competidor  Nome Competidor  ID Competição Classe Vela  \\\n",
       "0           NaN            NaN  ALEJANDRO CLOOS            2.0      Ilca 7   \n",
       "1           NaN            NaN  ALEJANDRO CLOOS            2.0      Ilca 7   \n",
       "2           NaN            NaN  ALEJANDRO CLOOS            2.0      Ilca 7   \n",
       "3           NaN            NaN  ALEJANDRO CLOOS            2.0      Ilca 7   \n",
       "4           NaN            NaN  ALEJANDRO CLOOS            2.0      Ilca 7   \n",
       "\n",
       "  Pontuação Regata  Descarte Flotilha  Posição Geral Punição  Pontuação Total  \\\n",
       "0               24       0.0    GERAL             19     NaN            205.0   \n",
       "1               18       0.0    GERAL             19     NaN            205.0   \n",
       "2               20       0.0    GERAL             19     NaN            205.0   \n",
       "3               22       0.0    GERAL             19     NaN            205.0   \n",
       "4               24       0.0    GERAL             19     NaN            205.0   \n",
       "\n",
       "  Nett                               Nome Competição  \\\n",
       "0  174  Central and South American Championship 2022   \n",
       "1  174  Central and South American Championship 2022   \n",
       "2  174  Central and South American Championship 2022   \n",
       "3  174  Central and South American Championship 2022   \n",
       "4  174  Central and South American Championship 2022   \n",
       "\n",
       "                                    Evento  \n",
       "0  Central and South American Championship  \n",
       "1  Central and South American Championship  \n",
       "2  Central and South American Championship  \n",
       "3  Central and South American Championship  \n",
       "4  Central and South American Championship  "
      ]
     },
     "execution_count": 18,
     "metadata": {},
     "output_type": "execute_result"
    }
   ],
   "source": [
    "dfProv.head()"
   ]
  },
  {
   "cell_type": "code",
   "execution_count": 19,
   "metadata": {},
   "outputs": [
    {
     "data": {
      "text/html": [
       "<div>\n",
       "<style scoped>\n",
       "    .dataframe tbody tr th:only-of-type {\n",
       "        vertical-align: middle;\n",
       "    }\n",
       "\n",
       "    .dataframe tbody tr th {\n",
       "        vertical-align: top;\n",
       "    }\n",
       "\n",
       "    .dataframe thead th {\n",
       "        text-align: right;\n",
       "    }\n",
       "</style>\n",
       "<table border=\"1\" class=\"dataframe\">\n",
       "  <thead>\n",
       "    <tr style=\"text-align: right;\">\n",
       "      <th></th>\n",
       "      <th>Classe Vela</th>\n",
       "      <th>Evento</th>\n",
       "      <th>Média de Regatas</th>\n",
       "    </tr>\n",
       "  </thead>\n",
       "  <tbody>\n",
       "    <tr>\n",
       "      <th>0</th>\n",
       "      <td>470</td>\n",
       "      <td>European Championship</td>\n",
       "      <td>12.000000</td>\n",
       "    </tr>\n",
       "    <tr>\n",
       "      <th>1</th>\n",
       "      <td>470</td>\n",
       "      <td>Semaine Olympique Francaise De Voile</td>\n",
       "      <td>10.500000</td>\n",
       "    </tr>\n",
       "    <tr>\n",
       "      <th>2</th>\n",
       "      <td>470</td>\n",
       "      <td>Trofeo S.A.R Princesa Sofia</td>\n",
       "      <td>11.000000</td>\n",
       "    </tr>\n",
       "    <tr>\n",
       "      <th>3</th>\n",
       "      <td>470</td>\n",
       "      <td>World Championship</td>\n",
       "      <td>13.000000</td>\n",
       "    </tr>\n",
       "    <tr>\n",
       "      <th>4</th>\n",
       "      <td>49er</td>\n",
       "      <td>European Championship</td>\n",
       "      <td>14.166667</td>\n",
       "    </tr>\n",
       "  </tbody>\n",
       "</table>\n",
       "</div>"
      ],
      "text/plain": [
       "  Classe Vela                                Evento  Média de Regatas\n",
       "0         470                 European Championship         12.000000\n",
       "1         470  Semaine Olympique Francaise De Voile         10.500000\n",
       "2         470           Trofeo S.A.R Princesa Sofia         11.000000\n",
       "3         470                    World Championship         13.000000\n",
       "4        49er                 European Championship         14.166667"
      ]
     },
     "execution_count": 19,
     "metadata": {},
     "output_type": "execute_result"
    }
   ],
   "source": [
    "# pego o numero de regatas por competidor\n",
    "nregatas_por_competidor = dfProv.groupby(['Nome Competidor', 'Classe Vela', 'Nome Competição', 'Evento'])['Nome Competidor'].count().reset_index(name='Número de Regatas')\n",
    "\n",
    "# pego o numero maximo de regatas (competidor que correu todas)\n",
    "max_regatas = nregatas_por_competidor.groupby(['Nome Competição', 'Classe Vela', 'Evento'])['Número de Regatas'].max().reset_index(name='Número de Regatas')\n",
    "\n",
    "# faço a média de regatas por evento\n",
    "media_regatas_classe_evento = max_regatas.groupby(['Classe Vela', 'Evento'])['Número de Regatas'].mean().reset_index(name='Média de Regatas')\n",
    "\n",
    "media_regatas_classe_evento.head()"
   ]
  },
  {
   "cell_type": "code",
   "execution_count": 20,
   "metadata": {},
   "outputs": [],
   "source": [
    "eventos = media_regatas_classe_evento['Evento'].unique().tolist()"
   ]
  },
  {
   "cell_type": "code",
   "execution_count": 21,
   "metadata": {},
   "outputs": [
    {
     "data": {
      "image/png": "[encoded data removed]",
      "text/plain": [
       "<Figure size 1200x1000 with 4 Axes>"
      ]
     },
     "metadata": {},
     "output_type": "display_data"
    }
   ],
   "source": [
    "# Classe Vela in different subplots, Punicao in x axis and freq in y axis\n",
    "fig, axes = plt.subplots(nrows=3, ncols=2, figsize=(12,10))\n",
    "fig.suptitle('Média de regatas por classe em cada evento', fontsize=16)\n",
    "fig.tight_layout(pad=3.0)\n",
    "for i, evento in enumerate(eventos):\n",
    "    ax = axes[i//2, i%2]\n",
    "    ax.set_title(evento)\n",
    "    ax.set_xlabel('Punição')\n",
    "    ax.set_ylabel('Porcentagem (%)')\n",
    "    # horizontal bar plot\n",
    "    sns.barplot(x='Média de Regatas', y='Classe Vela', \n",
    "                data=media_regatas_classe_evento[media_regatas_classe_evento['Evento']==evento].sort_values(by='Média de Regatas', ascending=False),\n",
    "                ax=ax,\n",
    "                color='blue')\n",
    "    \n",
    "# increase space between subplots\n",
    "fig.subplots_adjust(hspace=0.5, wspace=0.5)\n",
    "\n",
    "# delete the last subplot\n",
    "fig.delaxes(axes[2,0])\n",
    "fig.delaxes(axes[2,1])\n",
    "    \n",
    "plt.show()"
   ]
  },
  {
   "cell_type": "markdown",
   "metadata": {},
   "source": [
    "### **Média de competidores por Evento (ignorando o ano)**"
   ]
  },
  {
   "cell_type": "code",
   "execution_count": 22,
   "metadata": {},
   "outputs": [
    {
     "data": {
      "text/html": [
       "<div>\n",
       "<style scoped>\n",
       "    .dataframe tbody tr th:only-of-type {\n",
       "        vertical-align: middle;\n",
       "    }\n",
       "\n",
       "    .dataframe tbody tr th {\n",
       "        vertical-align: top;\n",
       "    }\n",
       "\n",
       "    .dataframe thead th {\n",
       "        text-align: right;\n",
       "    }\n",
       "</style>\n",
       "<table border=\"1\" class=\"dataframe\">\n",
       "  <thead>\n",
       "    <tr style=\"text-align: right;\">\n",
       "      <th></th>\n",
       "      <th>Evento</th>\n",
       "      <th>Média de Competidores</th>\n",
       "    </tr>\n",
       "  </thead>\n",
       "  <tbody>\n",
       "    <tr>\n",
       "      <th>0</th>\n",
       "      <td>Central and South American Championship</td>\n",
       "      <td>112.333333</td>\n",
       "    </tr>\n",
       "    <tr>\n",
       "      <th>1</th>\n",
       "      <td>European Championship</td>\n",
       "      <td>302.285714</td>\n",
       "    </tr>\n",
       "    <tr>\n",
       "      <th>2</th>\n",
       "      <td>Semaine Olympique Francaise De Voile</td>\n",
       "      <td>317.666667</td>\n",
       "    </tr>\n",
       "    <tr>\n",
       "      <th>3</th>\n",
       "      <td>World Championship</td>\n",
       "      <td>431.000000</td>\n",
       "    </tr>\n",
       "    <tr>\n",
       "      <th>4</th>\n",
       "      <td>Trofeo S.A.R Princesa Sofia</td>\n",
       "      <td>475.666667</td>\n",
       "    </tr>\n",
       "  </tbody>\n",
       "</table>\n",
       "</div>"
      ],
      "text/plain": [
       "                                    Evento  Média de Competidores\n",
       "0  Central and South American Championship             112.333333\n",
       "1                    European Championship             302.285714\n",
       "2     Semaine Olympique Francaise De Voile             317.666667\n",
       "3                       World Championship             431.000000\n",
       "4              Trofeo S.A.R Princesa Sofia             475.666667"
      ]
     },
     "execution_count": 22,
     "metadata": {},
     "output_type": "execute_result"
    }
   ],
   "source": [
    "#groups the data per class and then per competition and then counts the unique competitors\n",
    "competitors_by_class_and_event = dfProv.groupby(['Evento', 'ID Competição'])['Nome Competidor']\\\n",
    "                                       .nunique()\\\n",
    "                                       .sort_values(ascending=False)\n",
    "\n",
    "#now takes the mean inside each class\n",
    "mean_ncompetitors_by_class = competitors_by_class_and_event.groupby('Evento')\\\n",
    "                                                           .mean()\\\n",
    "                                                           .sort_values(ascending=True)\\\n",
    "                                                           .reset_index(name=\"Média de Competidores\")\n",
    "\n",
    "mean_ncompetitors_by_class"
   ]
  },
  {
   "cell_type": "code",
   "execution_count": 23,
   "metadata": {},
   "outputs": [
    {
     "data": {
      "image/png": "[encoded data removed]",
      "text/plain": [
       "<Figure size 1000x300 with 1 Axes>"
      ]
     },
     "metadata": {},
     "output_type": "display_data"
    }
   ],
   "source": [
    "#plots the data above\n",
    "plt.figure(figsize=(10,3))\n",
    "plt.barh(mean_ncompetitors_by_class['Evento'], mean_ncompetitors_by_class['Média de Competidores'])\n",
    "plt.title('Média de competidores por Evento')\n",
    "plt.xlabel('Média de competidores')\t\n",
    "plt.ylabel('Evento')\n",
    "plt.show()"
   ]
  },
  {
   "cell_type": "markdown",
   "metadata": {},
   "source": [
    "### **Distribuição das punições**"
   ]
  },
  {
   "cell_type": "code",
   "execution_count": 24,
   "metadata": {},
   "outputs": [
    {
     "data": {
      "image/png": "[encoded data removed]",
      "text/plain": [
       "<Figure size 1000x500 with 1 Axes>"
      ]
     },
     "metadata": {},
     "output_type": "display_data"
    }
   ],
   "source": [
    "#show the frequency of each punishment\n",
    "punicao = df['Punição'].value_counts().sort_values(ascending=True)\n",
    "\n",
    "#plots the data above\n",
    "plt.figure(figsize=(10,5))\n",
    "plt.title('Frequência de punições')\n",
    "plt.xlabel('Frequência')\n",
    "plt.ylabel('Punição')\n",
    "plt.barh(punicao.index, punicao.values)\n",
    "plt.show()"
   ]
  },
  {
   "cell_type": "markdown",
   "metadata": {},
   "source": [
    "### **Distribuição das punições por classe**"
   ]
  },
  {
   "cell_type": "code",
   "execution_count": 25,
   "metadata": {},
   "outputs": [
    {
     "data": {
      "text/html": [
       "<div>\n",
       "<style scoped>\n",
       "    .dataframe tbody tr th:only-of-type {\n",
       "        vertical-align: middle;\n",
       "    }\n",
       "\n",
       "    .dataframe tbody tr th {\n",
       "        vertical-align: top;\n",
       "    }\n",
       "\n",
       "    .dataframe thead th {\n",
       "        text-align: right;\n",
       "    }\n",
       "</style>\n",
       "<table border=\"1\" class=\"dataframe\">\n",
       "  <thead>\n",
       "    <tr style=\"text-align: right;\">\n",
       "      <th></th>\n",
       "      <th>Classe Vela</th>\n",
       "      <th>Punição</th>\n",
       "      <th>Frequência</th>\n",
       "    </tr>\n",
       "  </thead>\n",
       "  <tbody>\n",
       "    <tr>\n",
       "      <th>0</th>\n",
       "      <td>Ilca 7</td>\n",
       "      <td>DNC</td>\n",
       "      <td>827</td>\n",
       "    </tr>\n",
       "    <tr>\n",
       "      <th>1</th>\n",
       "      <td>49er</td>\n",
       "      <td>DNC</td>\n",
       "      <td>799</td>\n",
       "    </tr>\n",
       "    <tr>\n",
       "      <th>2</th>\n",
       "      <td>Ilca 7</td>\n",
       "      <td>BFD</td>\n",
       "      <td>556</td>\n",
       "    </tr>\n",
       "    <tr>\n",
       "      <th>3</th>\n",
       "      <td>Formula Kite Masc.</td>\n",
       "      <td>DNC</td>\n",
       "      <td>540</td>\n",
       "    </tr>\n",
       "    <tr>\n",
       "      <th>4</th>\n",
       "      <td>Ilca 6</td>\n",
       "      <td>DNC</td>\n",
       "      <td>530</td>\n",
       "    </tr>\n",
       "  </tbody>\n",
       "</table>\n",
       "</div>"
      ],
      "text/plain": [
       "          Classe Vela Punição  Frequência\n",
       "0              Ilca 7     DNC         827\n",
       "1                49er     DNC         799\n",
       "2              Ilca 7     BFD         556\n",
       "3  Formula Kite Masc.     DNC         540\n",
       "4              Ilca 6     DNC         530"
      ]
     },
     "execution_count": 25,
     "metadata": {},
     "output_type": "execute_result"
    }
   ],
   "source": [
    "npunicoes_por_classe = df.groupby(['Classe Vela', 'Punição'])['Punição'].count().sort_values(ascending=False).reset_index(name='Frequência')\n",
    "npunicoes_por_classe.head()"
   ]
  },
  {
   "cell_type": "code",
   "execution_count": 26,
   "metadata": {},
   "outputs": [
    {
     "data": {
      "text/html": [
       "<div>\n",
       "<style scoped>\n",
       "    .dataframe tbody tr th:only-of-type {\n",
       "        vertical-align: middle;\n",
       "    }\n",
       "\n",
       "    .dataframe tbody tr th {\n",
       "        vertical-align: top;\n",
       "    }\n",
       "\n",
       "    .dataframe thead th {\n",
       "        text-align: right;\n",
       "    }\n",
       "</style>\n",
       "<table border=\"1\" class=\"dataframe\">\n",
       "  <thead>\n",
       "    <tr style=\"text-align: right;\">\n",
       "      <th></th>\n",
       "      <th>Classe Vela</th>\n",
       "      <th>Total de Punições</th>\n",
       "    </tr>\n",
       "  </thead>\n",
       "  <tbody>\n",
       "    <tr>\n",
       "      <th>0</th>\n",
       "      <td>Ilca 7</td>\n",
       "      <td>2036</td>\n",
       "    </tr>\n",
       "    <tr>\n",
       "      <th>1</th>\n",
       "      <td>49er</td>\n",
       "      <td>1689</td>\n",
       "    </tr>\n",
       "    <tr>\n",
       "      <th>2</th>\n",
       "      <td>Ilca 6</td>\n",
       "      <td>1245</td>\n",
       "    </tr>\n",
       "    <tr>\n",
       "      <th>3</th>\n",
       "      <td>49erFX</td>\n",
       "      <td>975</td>\n",
       "    </tr>\n",
       "    <tr>\n",
       "      <th>4</th>\n",
       "      <td>IQFOIL Masc.</td>\n",
       "      <td>963</td>\n",
       "    </tr>\n",
       "  </tbody>\n",
       "</table>\n",
       "</div>"
      ],
      "text/plain": [
       "    Classe Vela  Total de Punições\n",
       "0        Ilca 7               2036\n",
       "1          49er               1689\n",
       "2        Ilca 6               1245\n",
       "3        49erFX                975\n",
       "4  IQFOIL Masc.                963"
      ]
     },
     "execution_count": 26,
     "metadata": {},
     "output_type": "execute_result"
    }
   ],
   "source": [
    "total_punicoes_por_classe = df.groupby(['Classe Vela'])['Punição'].count().sort_values(ascending=False).reset_index(name='Total de Punições')\n",
    "total_punicoes_por_classe.head()"
   ]
  },
  {
   "cell_type": "code",
   "execution_count": 27,
   "metadata": {},
   "outputs": [],
   "source": [
    "npunicoes_por_classe = npunicoes_por_classe.merge(total_punicoes_por_classe, on='Classe Vela')\n",
    "npunicoes_por_classe['Porcentagem'] = (npunicoes_por_classe['Frequência'] / npunicoes_por_classe['Total de Punições']) * 100"
   ]
  },
  {
   "cell_type": "code",
   "execution_count": 28,
   "metadata": {},
   "outputs": [
    {
     "data": {
      "text/html": [
       "<div>\n",
       "<style scoped>\n",
       "    .dataframe tbody tr th:only-of-type {\n",
       "        vertical-align: middle;\n",
       "    }\n",
       "\n",
       "    .dataframe tbody tr th {\n",
       "        vertical-align: top;\n",
       "    }\n",
       "\n",
       "    .dataframe thead th {\n",
       "        text-align: right;\n",
       "    }\n",
       "</style>\n",
       "<table border=\"1\" class=\"dataframe\">\n",
       "  <thead>\n",
       "    <tr style=\"text-align: right;\">\n",
       "      <th></th>\n",
       "      <th>Classe Vela</th>\n",
       "      <th>Punição</th>\n",
       "      <th>Frequência</th>\n",
       "      <th>Total de Punições</th>\n",
       "      <th>Porcentagem</th>\n",
       "    </tr>\n",
       "  </thead>\n",
       "  <tbody>\n",
       "    <tr>\n",
       "      <th>0</th>\n",
       "      <td>Ilca 7</td>\n",
       "      <td>DNC</td>\n",
       "      <td>827</td>\n",
       "      <td>2036</td>\n",
       "      <td>40.618861</td>\n",
       "    </tr>\n",
       "    <tr>\n",
       "      <th>1</th>\n",
       "      <td>Ilca 7</td>\n",
       "      <td>BFD</td>\n",
       "      <td>556</td>\n",
       "      <td>2036</td>\n",
       "      <td>27.308448</td>\n",
       "    </tr>\n",
       "    <tr>\n",
       "      <th>2</th>\n",
       "      <td>Ilca 7</td>\n",
       "      <td>UFD</td>\n",
       "      <td>200</td>\n",
       "      <td>2036</td>\n",
       "      <td>9.823183</td>\n",
       "    </tr>\n",
       "    <tr>\n",
       "      <th>3</th>\n",
       "      <td>Ilca 7</td>\n",
       "      <td>STP</td>\n",
       "      <td>134</td>\n",
       "      <td>2036</td>\n",
       "      <td>6.581532</td>\n",
       "    </tr>\n",
       "    <tr>\n",
       "      <th>4</th>\n",
       "      <td>Ilca 7</td>\n",
       "      <td>DNF</td>\n",
       "      <td>99</td>\n",
       "      <td>2036</td>\n",
       "      <td>4.862475</td>\n",
       "    </tr>\n",
       "  </tbody>\n",
       "</table>\n",
       "</div>"
      ],
      "text/plain": [
       "  Classe Vela Punição  Frequência  Total de Punições  Porcentagem\n",
       "0      Ilca 7     DNC         827               2036    40.618861\n",
       "1      Ilca 7     BFD         556               2036    27.308448\n",
       "2      Ilca 7     UFD         200               2036     9.823183\n",
       "3      Ilca 7     STP         134               2036     6.581532\n",
       "4      Ilca 7     DNF          99               2036     4.862475"
      ]
     },
     "execution_count": 28,
     "metadata": {},
     "output_type": "execute_result"
    }
   ],
   "source": [
    "npunicoes_por_classe.head()"
   ]
  },
  {
   "cell_type": "code",
   "execution_count": 29,
   "metadata": {},
   "outputs": [
    {
     "data": {
      "image/png": "[encoded data removed]",
      "text/plain": [
       "<Figure size 1200x1000 with 10 Axes>"
      ]
     },
     "metadata": {},
     "output_type": "display_data"
    }
   ],
   "source": [
    "# Classe Vela in different subplots, Punicao in x axis and freq in y axis\n",
    "fig, axes = plt.subplots(nrows=5, ncols=2, figsize=(12,10))\n",
    "fig.subplots_adjust(hspace=1)\n",
    "fig.suptitle('Porcentagem de punições por classe de vela', fontsize=16)\n",
    "fig.tight_layout(pad=3.0)\n",
    "for i, classe in enumerate(classes):\n",
    "    ax = axes[i//2, i%2]\n",
    "    ax.set_title(classe)\n",
    "    ax.set_xlabel('Punição')\n",
    "    ax.set_ylabel('Porcentagem (%)')\n",
    "    ax.bar(npunicoes_por_classe[npunicoes_por_classe['Classe Vela'] == classe]['Punição'], \n",
    "           npunicoes_por_classe[npunicoes_por_classe['Classe Vela'] == classe]['Porcentagem'])\n",
    "    \n",
    "plt.show()"
   ]
  },
  {
   "cell_type": "markdown",
   "metadata": {},
   "source": [
    "### **Distribuição das punições por evento**"
   ]
  },
  {
   "cell_type": "code",
   "execution_count": 30,
   "metadata": {},
   "outputs": [
    {
     "data": {
      "text/html": [
       "<div>\n",
       "<style scoped>\n",
       "    .dataframe tbody tr th:only-of-type {\n",
       "        vertical-align: middle;\n",
       "    }\n",
       "\n",
       "    .dataframe tbody tr th {\n",
       "        vertical-align: top;\n",
       "    }\n",
       "\n",
       "    .dataframe thead th {\n",
       "        text-align: right;\n",
       "    }\n",
       "</style>\n",
       "<table border=\"1\" class=\"dataframe\">\n",
       "  <thead>\n",
       "    <tr style=\"text-align: right;\">\n",
       "      <th></th>\n",
       "      <th>Evento</th>\n",
       "      <th>Punição</th>\n",
       "      <th>Frequência</th>\n",
       "    </tr>\n",
       "  </thead>\n",
       "  <tbody>\n",
       "    <tr>\n",
       "      <th>0</th>\n",
       "      <td>Trofeo S.A.R Princesa Sofia</td>\n",
       "      <td>DNC</td>\n",
       "      <td>1892</td>\n",
       "    </tr>\n",
       "    <tr>\n",
       "      <th>1</th>\n",
       "      <td>European Championship</td>\n",
       "      <td>DNC</td>\n",
       "      <td>1026</td>\n",
       "    </tr>\n",
       "    <tr>\n",
       "      <th>2</th>\n",
       "      <td>Semaine Olympique Francaise De Voile</td>\n",
       "      <td>DNC</td>\n",
       "      <td>595</td>\n",
       "    </tr>\n",
       "    <tr>\n",
       "      <th>3</th>\n",
       "      <td>World Championship</td>\n",
       "      <td>DNC</td>\n",
       "      <td>548</td>\n",
       "    </tr>\n",
       "    <tr>\n",
       "      <th>4</th>\n",
       "      <td>World Championship</td>\n",
       "      <td>BFD</td>\n",
       "      <td>488</td>\n",
       "    </tr>\n",
       "  </tbody>\n",
       "</table>\n",
       "</div>"
      ],
      "text/plain": [
       "                                 Evento Punição  Frequência\n",
       "0           Trofeo S.A.R Princesa Sofia     DNC        1892\n",
       "1                 European Championship     DNC        1026\n",
       "2  Semaine Olympique Francaise De Voile     DNC         595\n",
       "3                    World Championship     DNC         548\n",
       "4                    World Championship     BFD         488"
      ]
     },
     "execution_count": 30,
     "metadata": {},
     "output_type": "execute_result"
    }
   ],
   "source": [
    "npunicoes_por_competicao = dfProv.groupby(['Evento', 'Punição'])['Punição'].count().sort_values(ascending=False).reset_index(name='Frequência')\n",
    "npunicoes_por_competicao.head()"
   ]
  },
  {
   "cell_type": "code",
   "execution_count": 31,
   "metadata": {},
   "outputs": [
    {
     "data": {
      "text/html": [
       "<div>\n",
       "<style scoped>\n",
       "    .dataframe tbody tr th:only-of-type {\n",
       "        vertical-align: middle;\n",
       "    }\n",
       "\n",
       "    .dataframe tbody tr th {\n",
       "        vertical-align: top;\n",
       "    }\n",
       "\n",
       "    .dataframe thead th {\n",
       "        text-align: right;\n",
       "    }\n",
       "</style>\n",
       "<table border=\"1\" class=\"dataframe\">\n",
       "  <thead>\n",
       "    <tr style=\"text-align: right;\">\n",
       "      <th></th>\n",
       "      <th>Evento</th>\n",
       "      <th>Total de Punições</th>\n",
       "    </tr>\n",
       "  </thead>\n",
       "  <tbody>\n",
       "    <tr>\n",
       "      <th>0</th>\n",
       "      <td>Trofeo S.A.R Princesa Sofia</td>\n",
       "      <td>3611</td>\n",
       "    </tr>\n",
       "    <tr>\n",
       "      <th>1</th>\n",
       "      <td>European Championship</td>\n",
       "      <td>2169</td>\n",
       "    </tr>\n",
       "    <tr>\n",
       "      <th>2</th>\n",
       "      <td>World Championship</td>\n",
       "      <td>1709</td>\n",
       "    </tr>\n",
       "    <tr>\n",
       "      <th>3</th>\n",
       "      <td>Semaine Olympique Francaise De Voile</td>\n",
       "      <td>1220</td>\n",
       "    </tr>\n",
       "    <tr>\n",
       "      <th>4</th>\n",
       "      <td>Central and South American Championship</td>\n",
       "      <td>239</td>\n",
       "    </tr>\n",
       "  </tbody>\n",
       "</table>\n",
       "</div>"
      ],
      "text/plain": [
       "                                    Evento  Total de Punições\n",
       "0              Trofeo S.A.R Princesa Sofia               3611\n",
       "1                    European Championship               2169\n",
       "2                       World Championship               1709\n",
       "3     Semaine Olympique Francaise De Voile               1220\n",
       "4  Central and South American Championship                239"
      ]
     },
     "execution_count": 31,
     "metadata": {},
     "output_type": "execute_result"
    }
   ],
   "source": [
    "total_punicoes_por_competicao = dfProv.groupby(['Evento'])['Punição'].count().sort_values(ascending=False).reset_index(name='Total de Punições')\n",
    "total_punicoes_por_competicao.head()"
   ]
  },
  {
   "cell_type": "code",
   "execution_count": 32,
   "metadata": {},
   "outputs": [],
   "source": [
    "npunicoes_por_competicao = npunicoes_por_competicao.merge(total_punicoes_por_competicao, on='Evento')\n",
    "npunicoes_por_competicao['Porcentagem'] = (npunicoes_por_competicao['Frequência'] / npunicoes_por_competicao['Total de Punições']) * 100"
   ]
  },
  {
   "cell_type": "code",
   "execution_count": 33,
   "metadata": {},
   "outputs": [],
   "source": [
    "eventos = npunicoes_por_competicao['Evento'].unique().tolist()"
   ]
  },
  {
   "cell_type": "code",
   "execution_count": 34,
   "metadata": {},
   "outputs": [
    {
     "data": {
      "text/html": [
       "<div>\n",
       "<style scoped>\n",
       "    .dataframe tbody tr th:only-of-type {\n",
       "        vertical-align: middle;\n",
       "    }\n",
       "\n",
       "    .dataframe tbody tr th {\n",
       "        vertical-align: top;\n",
       "    }\n",
       "\n",
       "    .dataframe thead th {\n",
       "        text-align: right;\n",
       "    }\n",
       "</style>\n",
       "<table border=\"1\" class=\"dataframe\">\n",
       "  <thead>\n",
       "    <tr style=\"text-align: right;\">\n",
       "      <th></th>\n",
       "      <th>Evento</th>\n",
       "      <th>Punição</th>\n",
       "      <th>Frequência</th>\n",
       "      <th>Total de Punições</th>\n",
       "      <th>Porcentagem</th>\n",
       "    </tr>\n",
       "  </thead>\n",
       "  <tbody>\n",
       "    <tr>\n",
       "      <th>0</th>\n",
       "      <td>Trofeo S.A.R Princesa Sofia</td>\n",
       "      <td>DNC</td>\n",
       "      <td>1892</td>\n",
       "      <td>3611</td>\n",
       "      <td>52.395458</td>\n",
       "    </tr>\n",
       "    <tr>\n",
       "      <th>1</th>\n",
       "      <td>Trofeo S.A.R Princesa Sofia</td>\n",
       "      <td>BFD</td>\n",
       "      <td>483</td>\n",
       "      <td>3611</td>\n",
       "      <td>13.375796</td>\n",
       "    </tr>\n",
       "    <tr>\n",
       "      <th>2</th>\n",
       "      <td>Trofeo S.A.R Princesa Sofia</td>\n",
       "      <td>UFD</td>\n",
       "      <td>481</td>\n",
       "      <td>3611</td>\n",
       "      <td>13.320410</td>\n",
       "    </tr>\n",
       "    <tr>\n",
       "      <th>3</th>\n",
       "      <td>Trofeo S.A.R Princesa Sofia</td>\n",
       "      <td>STP</td>\n",
       "      <td>236</td>\n",
       "      <td>3611</td>\n",
       "      <td>6.535586</td>\n",
       "    </tr>\n",
       "    <tr>\n",
       "      <th>4</th>\n",
       "      <td>Trofeo S.A.R Princesa Sofia</td>\n",
       "      <td>DNF</td>\n",
       "      <td>203</td>\n",
       "      <td>3611</td>\n",
       "      <td>5.621711</td>\n",
       "    </tr>\n",
       "  </tbody>\n",
       "</table>\n",
       "</div>"
      ],
      "text/plain": [
       "                        Evento Punição  Frequência  Total de Punições  \\\n",
       "0  Trofeo S.A.R Princesa Sofia     DNC        1892               3611   \n",
       "1  Trofeo S.A.R Princesa Sofia     BFD         483               3611   \n",
       "2  Trofeo S.A.R Princesa Sofia     UFD         481               3611   \n",
       "3  Trofeo S.A.R Princesa Sofia     STP         236               3611   \n",
       "4  Trofeo S.A.R Princesa Sofia     DNF         203               3611   \n",
       "\n",
       "   Porcentagem  \n",
       "0    52.395458  \n",
       "1    13.375796  \n",
       "2    13.320410  \n",
       "3     6.535586  \n",
       "4     5.621711  "
      ]
     },
     "execution_count": 34,
     "metadata": {},
     "output_type": "execute_result"
    }
   ],
   "source": [
    "npunicoes_por_competicao.head()"
   ]
  },
  {
   "cell_type": "code",
   "execution_count": 35,
   "metadata": {},
   "outputs": [
    {
     "data": {
      "image/png": "[encoded data removed]",
      "text/plain": [
       "<Figure size 1400x1000 with 5 Axes>"
      ]
     },
     "metadata": {},
     "output_type": "display_data"
    }
   ],
   "source": [
    "fig, axes = plt.subplots(nrows=3, ncols=2, figsize=(14,10))\n",
    "fig.subplots_adjust(hspace=1)\n",
    "fig.suptitle('Porcentagem de punições por Evento', fontsize=16)\n",
    "fig.tight_layout(pad=3.0)\n",
    "for i, evento in enumerate(eventos):\n",
    "    ax = axes[i//2, i%2]\n",
    "    ax.set_title(evento)\n",
    "    ax.set_xlabel('Punição')\n",
    "    ax.set_ylabel('Porcentagem (%)')\n",
    "    ax.bar(npunicoes_por_competicao[npunicoes_por_competicao['Evento'] == evento]['Punição'], \n",
    "           npunicoes_por_competicao[npunicoes_por_competicao['Evento'] == evento]['Porcentagem'])\n",
    "    \n",
    "# remove last subplot\n",
    "fig.delaxes(axes[2,1])\n",
    "\n",
    "plt.show()"
   ]
  },
  {
   "cell_type": "markdown",
   "metadata": {},
   "source": [
    "### **Competidores com mais punições**"
   ]
  },
  {
   "cell_type": "code",
   "execution_count": 36,
   "metadata": {},
   "outputs": [],
   "source": [
    "# pegar o numero de regatas que o competidor correu por campeonato\n",
    "# contar em quantas regatas ele tomou punição\n",
    "# tirar a média por competidor desse percentual de regatas que ele tomou punição por campeonato"
   ]
  },
  {
   "cell_type": "code",
   "execution_count": 37,
   "metadata": {},
   "outputs": [
    {
     "data": {
      "text/html": [
       "<div>\n",
       "<style scoped>\n",
       "    .dataframe tbody tr th:only-of-type {\n",
       "        vertical-align: middle;\n",
       "    }\n",
       "\n",
       "    .dataframe tbody tr th {\n",
       "        vertical-align: top;\n",
       "    }\n",
       "\n",
       "    .dataframe thead th {\n",
       "        text-align: right;\n",
       "    }\n",
       "</style>\n",
       "<table border=\"1\" class=\"dataframe\">\n",
       "  <thead>\n",
       "    <tr style=\"text-align: right;\">\n",
       "      <th></th>\n",
       "      <th>Nome Competidor</th>\n",
       "      <th>Nome Competição</th>\n",
       "      <th>Número de Regatas</th>\n",
       "    </tr>\n",
       "  </thead>\n",
       "  <tbody>\n",
       "    <tr>\n",
       "      <th>0</th>\n",
       "      <td>ABAY BERKAY</td>\n",
       "      <td>European Championship 2022</td>\n",
       "      <td>9</td>\n",
       "    </tr>\n",
       "    <tr>\n",
       "      <th>1</th>\n",
       "      <td>ABAY BERKAY</td>\n",
       "      <td>European Championship 2023</td>\n",
       "      <td>10</td>\n",
       "    </tr>\n",
       "    <tr>\n",
       "      <th>2</th>\n",
       "      <td>ABAY BERKAY</td>\n",
       "      <td>Semaine Olympique Francaise De Voile 2022</td>\n",
       "      <td>9</td>\n",
       "    </tr>\n",
       "    <tr>\n",
       "      <th>3</th>\n",
       "      <td>ABAY BERKAY</td>\n",
       "      <td>Semaine Olympique Francaise De Voile 2023</td>\n",
       "      <td>10</td>\n",
       "    </tr>\n",
       "    <tr>\n",
       "      <th>4</th>\n",
       "      <td>ABAY BERKAY</td>\n",
       "      <td>Trofeo S.A.R Princesa Sofia 2017</td>\n",
       "      <td>10</td>\n",
       "    </tr>\n",
       "  </tbody>\n",
       "</table>\n",
       "</div>"
      ],
      "text/plain": [
       "  Nome Competidor                            Nome Competição  \\\n",
       "0     ABAY BERKAY                 European Championship 2022   \n",
       "1     ABAY BERKAY                 European Championship 2023   \n",
       "2     ABAY BERKAY  Semaine Olympique Francaise De Voile 2022   \n",
       "3     ABAY BERKAY  Semaine Olympique Francaise De Voile 2023   \n",
       "4     ABAY BERKAY           Trofeo S.A.R Princesa Sofia 2017   \n",
       "\n",
       "   Número de Regatas  \n",
       "0                  9  \n",
       "1                 10  \n",
       "2                  9  \n",
       "3                 10  \n",
       "4                 10  "
      ]
     },
     "execution_count": 37,
     "metadata": {},
     "output_type": "execute_result"
    }
   ],
   "source": [
    "nregatas_por_competidor = df.groupby(['Nome Competidor', 'Nome Competição'])['Nome Competidor'].count().reset_index(name='Número de Regatas')\n",
    "nregatas_por_competidor.head()"
   ]
  },
  {
   "cell_type": "code",
   "execution_count": 38,
   "metadata": {},
   "outputs": [
    {
     "data": {
      "text/html": [
       "<div>\n",
       "<style scoped>\n",
       "    .dataframe tbody tr th:only-of-type {\n",
       "        vertical-align: middle;\n",
       "    }\n",
       "\n",
       "    .dataframe tbody tr th {\n",
       "        vertical-align: top;\n",
       "    }\n",
       "\n",
       "    .dataframe thead th {\n",
       "        text-align: right;\n",
       "    }\n",
       "</style>\n",
       "<table border=\"1\" class=\"dataframe\">\n",
       "  <thead>\n",
       "    <tr style=\"text-align: right;\">\n",
       "      <th></th>\n",
       "      <th>Nome Competidor</th>\n",
       "      <th>Nome Competição</th>\n",
       "      <th>Número de Punições</th>\n",
       "    </tr>\n",
       "  </thead>\n",
       "  <tbody>\n",
       "    <tr>\n",
       "      <th>0</th>\n",
       "      <td>MICHELE LAURENZA</td>\n",
       "      <td>European Championship 2022</td>\n",
       "      <td>20</td>\n",
       "    </tr>\n",
       "    <tr>\n",
       "      <th>1</th>\n",
       "      <td>BRICE YRIEIX, ALBANE DUBOIS</td>\n",
       "      <td>European Championship 2016</td>\n",
       "      <td>18</td>\n",
       "    </tr>\n",
       "    <tr>\n",
       "      <th>2</th>\n",
       "      <td>CHAVDAR ALEKSANDROV</td>\n",
       "      <td>Trofeo S.A.R Princesa Sofia 2023</td>\n",
       "      <td>16</td>\n",
       "    </tr>\n",
       "    <tr>\n",
       "      <th>3</th>\n",
       "      <td>THOMAS CROOK</td>\n",
       "      <td>Semaine Olympique Francaise De Voile 2022</td>\n",
       "      <td>16</td>\n",
       "    </tr>\n",
       "    <tr>\n",
       "      <th>4</th>\n",
       "      <td>YOUSSEF BEN ALI</td>\n",
       "      <td>Trofeo S.A.R Princesa Sofia 2023</td>\n",
       "      <td>16</td>\n",
       "    </tr>\n",
       "  </tbody>\n",
       "</table>\n",
       "</div>"
      ],
      "text/plain": [
       "               Nome Competidor                            Nome Competição  \\\n",
       "0             MICHELE LAURENZA                 European Championship 2022   \n",
       "1  BRICE YRIEIX, ALBANE DUBOIS                 European Championship 2016   \n",
       "2          CHAVDAR ALEKSANDROV           Trofeo S.A.R Princesa Sofia 2023   \n",
       "3                 THOMAS CROOK  Semaine Olympique Francaise De Voile 2022   \n",
       "4              YOUSSEF BEN ALI           Trofeo S.A.R Princesa Sofia 2023   \n",
       "\n",
       "   Número de Punições  \n",
       "0                  20  \n",
       "1                  18  \n",
       "2                  16  \n",
       "3                  16  \n",
       "4                  16  "
      ]
     },
     "execution_count": 38,
     "metadata": {},
     "output_type": "execute_result"
    }
   ],
   "source": [
    "npunicoes_por_competidor = df.groupby(['Nome Competidor', 'Nome Competição'])['Punição'].count().sort_values(ascending=False).reset_index(name='Número de Punições')\n",
    "npunicoes_por_competidor.head()"
   ]
  },
  {
   "cell_type": "code",
   "execution_count": 39,
   "metadata": {},
   "outputs": [],
   "source": [
    "nregatas_por_competidor = nregatas_por_competidor.merge(npunicoes_por_competidor, on=['Nome Competidor', 'Nome Competição'])"
   ]
  },
  {
   "cell_type": "code",
   "execution_count": 40,
   "metadata": {},
   "outputs": [],
   "source": [
    "nregatas_por_competidor['Porcentagem de Punições'] = (nregatas_por_competidor['Número de Punições'] / nregatas_por_competidor['Número de Regatas']) * 100"
   ]
  },
  {
   "cell_type": "markdown",
   "metadata": {},
   "source": [
    "❗**COMO LER:** Das competições que o competidor $x$ participou, ele foi punido em média em $y\\%$ das regatas."
   ]
  },
  {
   "cell_type": "code",
   "execution_count": 41,
   "metadata": {},
   "outputs": [
    {
     "data": {
      "text/html": [
       "<div>\n",
       "<style scoped>\n",
       "    .dataframe tbody tr th:only-of-type {\n",
       "        vertical-align: middle;\n",
       "    }\n",
       "\n",
       "    .dataframe tbody tr th {\n",
       "        vertical-align: top;\n",
       "    }\n",
       "\n",
       "    .dataframe thead th {\n",
       "        text-align: right;\n",
       "    }\n",
       "</style>\n",
       "<table border=\"1\" class=\"dataframe\">\n",
       "  <thead>\n",
       "    <tr style=\"text-align: right;\">\n",
       "      <th></th>\n",
       "      <th>Nome Competidor</th>\n",
       "      <th>Média de Punições</th>\n",
       "    </tr>\n",
       "  </thead>\n",
       "  <tbody>\n",
       "    <tr>\n",
       "      <th>0</th>\n",
       "      <td>CIAN BYRNE, PATRICK CROSBIE</td>\n",
       "      <td>100.0</td>\n",
       "    </tr>\n",
       "    <tr>\n",
       "      <th>1</th>\n",
       "      <td>GWENDAL NAEL, BREWAL NAEL</td>\n",
       "      <td>100.0</td>\n",
       "    </tr>\n",
       "    <tr>\n",
       "      <th>2</th>\n",
       "      <td>EVAN SJOSTEDT, GARRETT BROWN</td>\n",
       "      <td>100.0</td>\n",
       "    </tr>\n",
       "    <tr>\n",
       "      <th>3</th>\n",
       "      <td>AKSELI KESKINEN, RONI PATTERSON</td>\n",
       "      <td>100.0</td>\n",
       "    </tr>\n",
       "    <tr>\n",
       "      <th>4</th>\n",
       "      <td>MARTINSEN NICHOLAS FADLE, MORTENSEN MARTINE ST...</td>\n",
       "      <td>100.0</td>\n",
       "    </tr>\n",
       "  </tbody>\n",
       "</table>\n",
       "</div>"
      ],
      "text/plain": [
       "                                     Nome Competidor  Média de Punições\n",
       "0                        CIAN BYRNE, PATRICK CROSBIE              100.0\n",
       "1                          GWENDAL NAEL, BREWAL NAEL              100.0\n",
       "2                       EVAN SJOSTEDT, GARRETT BROWN              100.0\n",
       "3                    AKSELI KESKINEN, RONI PATTERSON              100.0\n",
       "4  MARTINSEN NICHOLAS FADLE, MORTENSEN MARTINE ST...              100.0"
      ]
     },
     "execution_count": 41,
     "metadata": {},
     "output_type": "execute_result"
    }
   ],
   "source": [
    "media_punicoes_por_competidor = nregatas_por_competidor.groupby('Nome Competidor')['Porcentagem de Punições'].mean().sort_values(ascending=False).reset_index(name='Média de Punições')\n",
    "media_punicoes_por_competidor.head()"
   ]
  },
  {
   "cell_type": "markdown",
   "metadata": {},
   "source": [
    "### **Competidores que mais participaram / menos participaram de competições**"
   ]
  },
  {
   "cell_type": "code",
   "execution_count": 42,
   "metadata": {},
   "outputs": [
    {
     "data": {
      "text/html": [
       "<div>\n",
       "<style scoped>\n",
       "    .dataframe tbody tr th:only-of-type {\n",
       "        vertical-align: middle;\n",
       "    }\n",
       "\n",
       "    .dataframe tbody tr th {\n",
       "        vertical-align: top;\n",
       "    }\n",
       "\n",
       "    .dataframe thead th {\n",
       "        text-align: right;\n",
       "    }\n",
       "</style>\n",
       "<table border=\"1\" class=\"dataframe\">\n",
       "  <thead>\n",
       "    <tr style=\"text-align: right;\">\n",
       "      <th></th>\n",
       "      <th>Nome Competidor</th>\n",
       "      <th>Número de Competições</th>\n",
       "    </tr>\n",
       "  </thead>\n",
       "  <tbody>\n",
       "    <tr>\n",
       "      <th>20</th>\n",
       "      <td>AGATA BARWINSKA</td>\n",
       "      <td>24</td>\n",
       "    </tr>\n",
       "    <tr>\n",
       "      <th>1185</th>\n",
       "      <td>HELENE NAESS, MARIE RONNINGEN</td>\n",
       "      <td>24</td>\n",
       "    </tr>\n",
       "    <tr>\n",
       "      <th>2126</th>\n",
       "      <td>MAXIME JONKER</td>\n",
       "      <td>23</td>\n",
       "    </tr>\n",
       "    <tr>\n",
       "      <th>2170</th>\n",
       "      <td>MICHON PERNELLE</td>\n",
       "      <td>23</td>\n",
       "    </tr>\n",
       "    <tr>\n",
       "      <th>3036</th>\n",
       "      <td>VIKTORIJA ANDRULYTE</td>\n",
       "      <td>23</td>\n",
       "    </tr>\n",
       "    <tr>\n",
       "      <th>2997</th>\n",
       "      <td>VASILEIA KARACHALIOU</td>\n",
       "      <td>22</td>\n",
       "    </tr>\n",
       "    <tr>\n",
       "      <th>2949</th>\n",
       "      <td>TONCI STIPANOVIC</td>\n",
       "      <td>22</td>\n",
       "    </tr>\n",
       "    <tr>\n",
       "      <th>938</th>\n",
       "      <td>FILIP JURISIC</td>\n",
       "      <td>22</td>\n",
       "    </tr>\n",
       "    <tr>\n",
       "      <th>3077</th>\n",
       "      <td>WILLIAM DE SMET</td>\n",
       "      <td>22</td>\n",
       "    </tr>\n",
       "    <tr>\n",
       "      <th>1826</th>\n",
       "      <td>LUCIA FALASCA</td>\n",
       "      <td>22</td>\n",
       "    </tr>\n",
       "  </tbody>\n",
       "</table>\n",
       "</div>"
      ],
      "text/plain": [
       "                    Nome Competidor  Número de Competições\n",
       "20                  AGATA BARWINSKA                     24\n",
       "1185  HELENE NAESS, MARIE RONNINGEN                     24\n",
       "2126                  MAXIME JONKER                     23\n",
       "2170                MICHON PERNELLE                     23\n",
       "3036            VIKTORIJA ANDRULYTE                     23\n",
       "2997           VASILEIA KARACHALIOU                     22\n",
       "2949               TONCI STIPANOVIC                     22\n",
       "938                   FILIP JURISIC                     22\n",
       "3077                WILLIAM DE SMET                     22\n",
       "1826                  LUCIA FALASCA                     22"
      ]
     },
     "execution_count": 42,
     "metadata": {},
     "output_type": "execute_result"
    }
   ],
   "source": [
    "ncompetitions_por_competidor = df.groupby('Nome Competidor')['Nome Competição'].nunique().reset_index(name='Número de Competições').sort_values(by='Número de Competições', ascending=False)\n",
    "ncompetitions_por_competidor.head(10)"
   ]
  },
  {
   "cell_type": "code",
   "execution_count": 43,
   "metadata": {},
   "outputs": [
    {
     "data": {
      "text/plain": [
       "array(['Ilca 6'], dtype=object)"
      ]
     },
     "execution_count": 43,
     "metadata": {},
     "output_type": "execute_result"
    }
   ],
   "source": [
    "df.query('`Nome Competidor` == \"AGATA BARWINSKA\"')[\"Classe Vela\"].unique()"
   ]
  },
  {
   "cell_type": "code",
   "execution_count": 44,
   "metadata": {},
   "outputs": [
    {
     "data": {
      "text/plain": [
       "array(['49erFX'], dtype=object)"
      ]
     },
     "execution_count": 44,
     "metadata": {},
     "output_type": "execute_result"
    }
   ],
   "source": [
    "df.query('`Nome Competidor` == \"HELENE NAESS, MARIE RONNINGEN\"')[\"Classe Vela\"].unique()"
   ]
  },
  {
   "cell_type": "code",
   "execution_count": 45,
   "metadata": {},
   "outputs": [
    {
     "data": {
      "text/plain": [
       "array(['Ilca 6'], dtype=object)"
      ]
     },
     "execution_count": 45,
     "metadata": {},
     "output_type": "execute_result"
    }
   ],
   "source": [
    "df.query('`Nome Competidor` == \"VASILEIA KARACHALIOU\"')[\"Classe Vela\"].unique()"
   ]
  },
  {
   "cell_type": "code",
   "execution_count": 46,
   "metadata": {},
   "outputs": [
    {
     "name": "stdout",
     "output_type": "stream",
     "text": [
      "O número médio de competições por competidor é: 3.66\n",
      "1227 competidores participaram de apenas uma competição\n"
     ]
    }
   ],
   "source": [
    "print(\"O número médio de competições por competidor é: {}\".format(ncompetitions_por_competidor['Número de Competições'].mean().round(2)))\n",
    "print(\"{} competidores participaram de apenas uma competição\".format(len(ncompetitions_por_competidor.query('`Número de Competições` == 1'))))"
   ]
  },
  {
   "cell_type": "markdown",
   "metadata": {},
   "source": [
    "#### **Hipótese:** competidores que participaram apenas uma competição teriam desistido do esporte por terem obtido um número alto de punições. \n",
    "\n",
    "❗ Os competidores que participaram de **apenas uma competição** só foram punidos, em média, em **13.2%** das regatas que participaram.\n",
    "\n",
    "❗ Os competidores que participaram de **mais de uma competição** foram punidos em média em **7.26%**."
   ]
  },
  {
   "cell_type": "code",
   "execution_count": 47,
   "metadata": {},
   "outputs": [
    {
     "data": {
      "text/html": [
       "<div>\n",
       "<style scoped>\n",
       "    .dataframe tbody tr th:only-of-type {\n",
       "        vertical-align: middle;\n",
       "    }\n",
       "\n",
       "    .dataframe tbody tr th {\n",
       "        vertical-align: top;\n",
       "    }\n",
       "\n",
       "    .dataframe thead th {\n",
       "        text-align: right;\n",
       "    }\n",
       "</style>\n",
       "<table border=\"1\" class=\"dataframe\">\n",
       "  <thead>\n",
       "    <tr style=\"text-align: right;\">\n",
       "      <th></th>\n",
       "      <th>Nome Competidor</th>\n",
       "      <th>Número de Competições</th>\n",
       "      <th>Média de Punições</th>\n",
       "    </tr>\n",
       "  </thead>\n",
       "  <tbody>\n",
       "    <tr>\n",
       "      <th>2143</th>\n",
       "      <td>DANI CARDONA</td>\n",
       "      <td>1</td>\n",
       "      <td>100.0</td>\n",
       "    </tr>\n",
       "    <tr>\n",
       "      <th>2549</th>\n",
       "      <td>JOHANNES NEUMANN, TIL FERNHOLZ</td>\n",
       "      <td>1</td>\n",
       "      <td>100.0</td>\n",
       "    </tr>\n",
       "    <tr>\n",
       "      <th>2215</th>\n",
       "      <td>TSOTRAS ANTONIS</td>\n",
       "      <td>1</td>\n",
       "      <td>100.0</td>\n",
       "    </tr>\n",
       "    <tr>\n",
       "      <th>3001</th>\n",
       "      <td>HANNES WESTBERG, TBC TBC</td>\n",
       "      <td>1</td>\n",
       "      <td>100.0</td>\n",
       "    </tr>\n",
       "    <tr>\n",
       "      <th>2995</th>\n",
       "      <td>MEHDI GHARBI, NOUR EL BEJI</td>\n",
       "      <td>1</td>\n",
       "      <td>100.0</td>\n",
       "    </tr>\n",
       "    <tr>\n",
       "      <th>...</th>\n",
       "      <td>...</td>\n",
       "      <td>...</td>\n",
       "      <td>...</td>\n",
       "    </tr>\n",
       "    <tr>\n",
       "      <th>2484</th>\n",
       "      <td>TIAGO ALVES, RICARDO ALVES</td>\n",
       "      <td>1</td>\n",
       "      <td>0.0</td>\n",
       "    </tr>\n",
       "    <tr>\n",
       "      <th>2489</th>\n",
       "      <td>MARCO ANESSI PE', FRANCESCO PIETRO TIRA</td>\n",
       "      <td>1</td>\n",
       "      <td>0.0</td>\n",
       "    </tr>\n",
       "    <tr>\n",
       "      <th>2493</th>\n",
       "      <td>MARCELO ADOLFO GONZALEZ PONDAL</td>\n",
       "      <td>1</td>\n",
       "      <td>0.0</td>\n",
       "    </tr>\n",
       "    <tr>\n",
       "      <th>2496</th>\n",
       "      <td>JIAN SHI</td>\n",
       "      <td>1</td>\n",
       "      <td>0.0</td>\n",
       "    </tr>\n",
       "    <tr>\n",
       "      <th>2545</th>\n",
       "      <td>JOLBERT VAN DIJK, DANIEL BRAMERVAER</td>\n",
       "      <td>1</td>\n",
       "      <td>0.0</td>\n",
       "    </tr>\n",
       "  </tbody>\n",
       "</table>\n",
       "<p>1227 rows × 3 columns</p>\n",
       "</div>"
      ],
      "text/plain": [
       "                              Nome Competidor  Número de Competições  \\\n",
       "2143                             DANI CARDONA                      1   \n",
       "2549           JOHANNES NEUMANN, TIL FERNHOLZ                      1   \n",
       "2215                          TSOTRAS ANTONIS                      1   \n",
       "3001                 HANNES WESTBERG, TBC TBC                      1   \n",
       "2995               MEHDI GHARBI, NOUR EL BEJI                      1   \n",
       "...                                       ...                    ...   \n",
       "2484               TIAGO ALVES, RICARDO ALVES                      1   \n",
       "2489  MARCO ANESSI PE', FRANCESCO PIETRO TIRA                      1   \n",
       "2493           MARCELO ADOLFO GONZALEZ PONDAL                      1   \n",
       "2496                                 JIAN SHI                      1   \n",
       "2545      JOLBERT VAN DIJK, DANIEL BRAMERVAER                      1   \n",
       "\n",
       "      Média de Punições  \n",
       "2143              100.0  \n",
       "2549              100.0  \n",
       "2215              100.0  \n",
       "3001              100.0  \n",
       "2995              100.0  \n",
       "...                 ...  \n",
       "2484                0.0  \n",
       "2489                0.0  \n",
       "2493                0.0  \n",
       "2496                0.0  \n",
       "2545                0.0  \n",
       "\n",
       "[1227 rows x 3 columns]"
      ]
     },
     "execution_count": 47,
     "metadata": {},
     "output_type": "execute_result"
    }
   ],
   "source": [
    "ncompetitions_por_competidor = ncompetitions_por_competidor.merge(media_punicoes_por_competidor, on='Nome Competidor')\n",
    "ncompetitions_por_competidor.query('`Número de Competições` == 1').sort_values(by='Média de Punições', ascending=False)"
   ]
  },
  {
   "cell_type": "code",
   "execution_count": 48,
   "metadata": {},
   "outputs": [
    {
     "data": {
      "text/plain": [
       "13.24918660583122"
      ]
     },
     "execution_count": 48,
     "metadata": {},
     "output_type": "execute_result"
    }
   ],
   "source": [
    "ncompetitions_por_competidor.query('`Número de Competições` == 1').sort_values(by='Média de Punições', ascending=False)[\"Média de Punições\"].mean()"
   ]
  },
  {
   "cell_type": "code",
   "execution_count": 49,
   "metadata": {},
   "outputs": [
    {
     "data": {
      "text/plain": [
       "7.267771222029377"
      ]
     },
     "execution_count": 49,
     "metadata": {},
     "output_type": "execute_result"
    }
   ],
   "source": [
    "ncompetitions_por_competidor.query('`Número de Competições` > 1').sort_values(by='Média de Punições', ascending=False)[\"Média de Punições\"].mean()"
   ]
  },
  {
   "cell_type": "markdown",
   "metadata": {},
   "source": [
    "### **Competidores que mais variaram de classe**"
   ]
  },
  {
   "cell_type": "code",
   "execution_count": 50,
   "metadata": {},
   "outputs": [
    {
     "data": {
      "text/html": [
       "<div>\n",
       "<style scoped>\n",
       "    .dataframe tbody tr th:only-of-type {\n",
       "        vertical-align: middle;\n",
       "    }\n",
       "\n",
       "    .dataframe tbody tr th {\n",
       "        vertical-align: top;\n",
       "    }\n",
       "\n",
       "    .dataframe thead th {\n",
       "        text-align: right;\n",
       "    }\n",
       "</style>\n",
       "<table border=\"1\" class=\"dataframe\">\n",
       "  <thead>\n",
       "    <tr style=\"text-align: right;\">\n",
       "      <th></th>\n",
       "      <th>Nome Competidor</th>\n",
       "      <th>Número de Classes</th>\n",
       "    </tr>\n",
       "  </thead>\n",
       "  <tbody>\n",
       "    <tr>\n",
       "      <th>919</th>\n",
       "      <td>FELIPE RONDINA</td>\n",
       "      <td>2</td>\n",
       "    </tr>\n",
       "    <tr>\n",
       "      <th>278</th>\n",
       "      <td>ARTURO MITNIK</td>\n",
       "      <td>2</td>\n",
       "    </tr>\n",
       "    <tr>\n",
       "      <th>190</th>\n",
       "      <td>ANDREY DE OLIVEIRA GODOY</td>\n",
       "      <td>2</td>\n",
       "    </tr>\n",
       "    <tr>\n",
       "      <th>2277</th>\n",
       "      <td>NICK GRAEL</td>\n",
       "      <td>2</td>\n",
       "    </tr>\n",
       "    <tr>\n",
       "      <th>2786</th>\n",
       "      <td>STEFANO CAIAFA</td>\n",
       "      <td>2</td>\n",
       "    </tr>\n",
       "    <tr>\n",
       "      <th>2066</th>\n",
       "      <td>MATEO VIDAL</td>\n",
       "      <td>2</td>\n",
       "    </tr>\n",
       "    <tr>\n",
       "      <th>2453</th>\n",
       "      <td>PIERO CASTANEDA</td>\n",
       "      <td>2</td>\n",
       "    </tr>\n",
       "    <tr>\n",
       "      <th>1949</th>\n",
       "      <td>MARIA ASHIDA</td>\n",
       "      <td>2</td>\n",
       "    </tr>\n",
       "    <tr>\n",
       "      <th>1504</th>\n",
       "      <td>JUAN GRUNWALDT</td>\n",
       "      <td>2</td>\n",
       "    </tr>\n",
       "    <tr>\n",
       "      <th>255</th>\n",
       "      <td>ARIEL ZERPA</td>\n",
       "      <td>2</td>\n",
       "    </tr>\n",
       "  </tbody>\n",
       "</table>\n",
       "</div>"
      ],
      "text/plain": [
       "               Nome Competidor  Número de Classes\n",
       "919             FELIPE RONDINA                  2\n",
       "278              ARTURO MITNIK                  2\n",
       "190   ANDREY DE OLIVEIRA GODOY                  2\n",
       "2277                NICK GRAEL                  2\n",
       "2786            STEFANO CAIAFA                  2\n",
       "2066               MATEO VIDAL                  2\n",
       "2453           PIERO CASTANEDA                  2\n",
       "1949              MARIA ASHIDA                  2\n",
       "1504            JUAN GRUNWALDT                  2\n",
       "255                ARIEL ZERPA                  2"
      ]
     },
     "execution_count": 50,
     "metadata": {},
     "output_type": "execute_result"
    }
   ],
   "source": [
    "nclasses_por_competidor = df.groupby('Nome Competidor')['Classe Vela'].nunique().reset_index(name='Número de Classes').sort_values(by='Número de Classes', ascending=False)\n",
    "nclasses_por_competidor.head(10)"
   ]
  },
  {
   "cell_type": "markdown",
   "metadata": {},
   "source": [
    "❗**Os competidores passaram por no máximo 2 classes diferentes**. Vários dos homens que passaram por duas classes diferentes competiram pelo Ilca 6 e Ilca 7"
   ]
  },
  {
   "cell_type": "code",
   "execution_count": 51,
   "metadata": {},
   "outputs": [
    {
     "name": "stdout",
     "output_type": "stream",
     "text": [
      "O número de competidores que competiram por uma única classe 3119\n",
      "O número de competidores que já competiram por duas classes diferentes é 40\n"
     ]
    }
   ],
   "source": [
    "print(\"O número de competidores que competiram por uma única classe {}\".format(len(nclasses_por_competidor.query('`Número de Classes` == 1'))))\n",
    "print(\"O número de competidores que já competiram por duas classes diferentes é {}\".format(len(nclasses_por_competidor.query('`Número de Classes` == 2'))))"
   ]
  },
  {
   "cell_type": "code",
   "execution_count": 52,
   "metadata": {},
   "outputs": [
    {
     "data": {
      "text/plain": [
       "array(['Formula Kite Fem.', 'Ilca 6'], dtype=object)"
      ]
     },
     "execution_count": 52,
     "metadata": {},
     "output_type": "execute_result"
    }
   ],
   "source": [
    "df.query('`Nome Competidor` == \"MARIA ASHIDA\"')[\"Classe Vela\"].unique()"
   ]
  },
  {
   "cell_type": "code",
   "execution_count": 53,
   "metadata": {},
   "outputs": [
    {
     "data": {
      "text/plain": [
       "array(['Ilca 7', 'Ilca 6'], dtype=object)"
      ]
     },
     "execution_count": 53,
     "metadata": {},
     "output_type": "execute_result"
    }
   ],
   "source": [
    "df.query('`Nome Competidor` == \"NICK GRAEL\"')[\"Classe Vela\"].unique()"
   ]
  }
 ],
 "metadata": {
  "kernelspec": {
   "display_name": "Python 3",
   "language": "python",
   "name": "python3"
  },
  "language_info": {
   "codemirror_mode": {
    "name": "ipython",
    "version": 3
   },
   "file_extension": ".py",
   "mimetype": "text/x-python",
   "name": "python",
   "nbconvert_exporter": "python",
   "pygments_lexer": "ipython3",
   "version": "3.10.12"
  },
  "orig_nbformat": 4
 },
 "nbformat": 4,
 "nbformat_minor": 2
}
