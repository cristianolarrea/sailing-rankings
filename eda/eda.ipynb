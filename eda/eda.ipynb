{
 "cells": [
  {
   "cell_type": "markdown",
   "metadata": {},
   "source": [
    "# **Análise Exploratória de Dados**"
   ]
  },
  {
   "cell_type": "markdown",
   "metadata": {},
   "source": [
    "### **Perguntas:**\n",
    "\n",
    "Número de competidores/duplas\n",
    "\n",
    "Classes de vela extraídas\n",
    "\n",
    "Competições extraídas\n",
    "\n",
    "Número de competições por classe\n",
    "  \n",
    "Média de competidores por classe\n",
    "\n",
    "Número de competidores por competição\n",
    "\n",
    "Número de classes por competição\n",
    "\n",
    "Média de regatas por classe\n",
    "\n",
    "Média de regatas por classe em cada evento (evento ignora o ano)\n",
    "\n",
    "Média de competidores por evento (evento ignora o ano)\n",
    "\n",
    "Distribuição das punições\n",
    "\n",
    "Distribuição das punições por classe\n",
    "\n",
    "Distribuição das punições por evento\n",
    "\n",
    "Competidores que mais participaram / menos participaram de competições\n",
    "\n",
    "Competidores mais punidos em média\n",
    "\n",
    "Competidores que mais variaram de classe"
   ]
  },
  {
   "cell_type": "code",
   "execution_count": 1,
   "metadata": {},
   "outputs": [],
   "source": [
    "import pandas as pd\n",
    "import numpy as np\n",
    "import matplotlib.pyplot as plt\n",
    "import seaborn as sns"
   ]
  },
  {
   "cell_type": "code",
   "execution_count": 2,
   "metadata": {},
   "outputs": [],
   "source": [
    "df = pd.read_excel('../data/final_data.xlsx')"
   ]
  },
  {
   "cell_type": "markdown",
   "metadata": {},
   "source": [
    "## **Informações gerais do dataset**"
   ]
  },
  {
   "cell_type": "code",
   "execution_count": 3,
   "metadata": {},
   "outputs": [
    {
     "data": {
      "text/html": [
       "<div>\n",
       "<style scoped>\n",
       "    .dataframe tbody tr th:only-of-type {\n",
       "        vertical-align: middle;\n",
       "    }\n",
       "\n",
       "    .dataframe tbody tr th {\n",
       "        vertical-align: top;\n",
       "    }\n",
       "\n",
       "    .dataframe thead th {\n",
       "        text-align: right;\n",
       "    }\n",
       "</style>\n",
       "<table border=\"1\" class=\"dataframe\">\n",
       "  <thead>\n",
       "    <tr style=\"text-align: right;\">\n",
       "      <th></th>\n",
       "      <th>Unnamed: 0</th>\n",
       "      <th>ID Resultado</th>\n",
       "      <th>ID Competidor</th>\n",
       "      <th>Nome Competidor</th>\n",
       "      <th>ID Competição</th>\n",
       "      <th>Classe Vela</th>\n",
       "      <th>Pontuação Regata</th>\n",
       "      <th>Descarte</th>\n",
       "      <th>Flotilha</th>\n",
       "      <th>Posição Geral</th>\n",
       "      <th>Punição</th>\n",
       "      <th>Pontuação Total</th>\n",
       "      <th>Nett</th>\n",
       "      <th>Nome Competição</th>\n",
       "    </tr>\n",
       "  </thead>\n",
       "  <tbody>\n",
       "    <tr>\n",
       "      <th>0</th>\n",
       "      <td>0</td>\n",
       "      <td>1</td>\n",
       "      <td>1</td>\n",
       "      <td>WILLIAM JONES, EVAN DEPAUL</td>\n",
       "      <td>17</td>\n",
       "      <td>49er</td>\n",
       "      <td>11</td>\n",
       "      <td>1</td>\n",
       "      <td>GERAL</td>\n",
       "      <td>1</td>\n",
       "      <td>UFD</td>\n",
       "      <td>44.0</td>\n",
       "      <td>33.0</td>\n",
       "      <td>World Championship 2017</td>\n",
       "    </tr>\n",
       "    <tr>\n",
       "      <th>1</th>\n",
       "      <td>1</td>\n",
       "      <td>2</td>\n",
       "      <td>2</td>\n",
       "      <td>DOMINIK BUKSAK, SZYMON WIERZBICKI</td>\n",
       "      <td>7</td>\n",
       "      <td>49er</td>\n",
       "      <td>3</td>\n",
       "      <td>0</td>\n",
       "      <td>GERAL</td>\n",
       "      <td>1</td>\n",
       "      <td>NaN</td>\n",
       "      <td>89.0</td>\n",
       "      <td>66.0</td>\n",
       "      <td>Semaine Olympique Francaise De Voile 2022</td>\n",
       "    </tr>\n",
       "    <tr>\n",
       "      <th>2</th>\n",
       "      <td>2</td>\n",
       "      <td>3</td>\n",
       "      <td>2</td>\n",
       "      <td>DOMINIK BUKSAK, SZYMON WIERZBICKI</td>\n",
       "      <td>7</td>\n",
       "      <td>49er</td>\n",
       "      <td>1</td>\n",
       "      <td>0</td>\n",
       "      <td>GERAL</td>\n",
       "      <td>1</td>\n",
       "      <td>NaN</td>\n",
       "      <td>89.0</td>\n",
       "      <td>66.0</td>\n",
       "      <td>Semaine Olympique Francaise De Voile 2022</td>\n",
       "    </tr>\n",
       "    <tr>\n",
       "      <th>3</th>\n",
       "      <td>3</td>\n",
       "      <td>4</td>\n",
       "      <td>2</td>\n",
       "      <td>DOMINIK BUKSAK, SZYMON WIERZBICKI</td>\n",
       "      <td>7</td>\n",
       "      <td>49er</td>\n",
       "      <td>1</td>\n",
       "      <td>0</td>\n",
       "      <td>GERAL</td>\n",
       "      <td>1</td>\n",
       "      <td>NaN</td>\n",
       "      <td>89.0</td>\n",
       "      <td>66.0</td>\n",
       "      <td>Semaine Olympique Francaise De Voile 2022</td>\n",
       "    </tr>\n",
       "    <tr>\n",
       "      <th>4</th>\n",
       "      <td>4</td>\n",
       "      <td>5</td>\n",
       "      <td>2</td>\n",
       "      <td>DOMINIK BUKSAK, SZYMON WIERZBICKI</td>\n",
       "      <td>7</td>\n",
       "      <td>49er</td>\n",
       "      <td>3</td>\n",
       "      <td>0</td>\n",
       "      <td>GERAL</td>\n",
       "      <td>1</td>\n",
       "      <td>NaN</td>\n",
       "      <td>89.0</td>\n",
       "      <td>66.0</td>\n",
       "      <td>Semaine Olympique Francaise De Voile 2022</td>\n",
       "    </tr>\n",
       "  </tbody>\n",
       "</table>\n",
       "</div>"
      ],
      "text/plain": [
       "   Unnamed: 0  ID Resultado  ID Competidor                    Nome Competidor  \\\n",
       "0           0             1              1         WILLIAM JONES, EVAN DEPAUL   \n",
       "1           1             2              2  DOMINIK BUKSAK, SZYMON WIERZBICKI   \n",
       "2           2             3              2  DOMINIK BUKSAK, SZYMON WIERZBICKI   \n",
       "3           3             4              2  DOMINIK BUKSAK, SZYMON WIERZBICKI   \n",
       "4           4             5              2  DOMINIK BUKSAK, SZYMON WIERZBICKI   \n",
       "\n",
       "   ID Competição Classe Vela Pontuação Regata  Descarte Flotilha  \\\n",
       "0             17        49er               11         1    GERAL   \n",
       "1              7        49er                3         0    GERAL   \n",
       "2              7        49er                1         0    GERAL   \n",
       "3              7        49er                1         0    GERAL   \n",
       "4              7        49er                3         0    GERAL   \n",
       "\n",
       "   Posição Geral Punição  Pontuação Total  Nett  \\\n",
       "0              1     UFD             44.0  33.0   \n",
       "1              1     NaN             89.0  66.0   \n",
       "2              1     NaN             89.0  66.0   \n",
       "3              1     NaN             89.0  66.0   \n",
       "4              1     NaN             89.0  66.0   \n",
       "\n",
       "                             Nome Competição  \n",
       "0                    World Championship 2017  \n",
       "1  Semaine Olympique Francaise De Voile 2022  \n",
       "2  Semaine Olympique Francaise De Voile 2022  \n",
       "3  Semaine Olympique Francaise De Voile 2022  \n",
       "4  Semaine Olympique Francaise De Voile 2022  "
      ]
     },
     "execution_count": 3,
     "metadata": {},
     "output_type": "execute_result"
    }
   ],
   "source": [
    "df.head()"
   ]
  },
  {
   "cell_type": "code",
   "execution_count": 4,
   "metadata": {},
   "outputs": [
    {
     "name": "stdout",
     "output_type": "stream",
     "text": [
      "O DataFrame contém 136618 entradas com 14 colunas\n"
     ]
    }
   ],
   "source": [
    "print(\"O DataFrame contém {} entradas com {} colunas\".format(df.shape[0], df.shape[1]))"
   ]
  },
  {
   "cell_type": "code",
   "execution_count": 5,
   "metadata": {},
   "outputs": [
    {
     "name": "stdout",
     "output_type": "stream",
     "text": [
      "As colunas são: ['Unnamed: 0' 'ID Resultado' 'ID Competidor' 'Nome Competidor'\n",
      " 'ID Competição' 'Classe Vela' 'Pontuação Regata' 'Descarte' 'Flotilha'\n",
      " 'Posição Geral' 'Punição' 'Pontuação Total' 'Nett' 'Nome Competição']\n"
     ]
    }
   ],
   "source": [
    "print(\"As colunas são: {}\".format(df.columns.values))"
   ]
  },
  {
   "cell_type": "code",
   "execution_count": 6,
   "metadata": {},
   "outputs": [
    {
     "name": "stdout",
     "output_type": "stream",
     "text": [
      "No total, há 3170 competidores ou duplas\n"
     ]
    }
   ],
   "source": [
    "competidores = np.unique(df['Nome Competidor'])\n",
    "print(\"No total, há {} competidores ou duplas\".format(len(competidores)))"
   ]
  },
  {
   "cell_type": "code",
   "execution_count": 7,
   "metadata": {},
   "outputs": [
    {
     "name": "stdout",
     "output_type": "stream",
     "text": [
      "As classes de vela extraídas para análise foram: ['49er', '49erFX', 'Nacra 17', '470.0', 'Ilca 6', 'IQFOIL Fem.', 'Formula Kite Masc.', 'IQFOIL Masc.', 'Formula Kite Fem.', 'Ilca 7']\n"
     ]
    }
   ],
   "source": [
    "classes = df['Classe Vela'].unique().tolist()\n",
    "print(\"As classes de vela extraídas para análise foram: {}\".format(classes))"
   ]
  },
  {
   "cell_type": "code",
   "execution_count": 8,
   "metadata": {},
   "outputs": [
    {
     "name": "stdout",
     "output_type": "stream",
     "text": [
      "As competições extraídas para análise foram: ['World Championship 2017', 'Semaine Olympique Francaise De Voile 2022', 'Semaine Olympique Francaise De Voile 2015', 'Semaine Olympique Francaise De Voile 2016', 'Semaine Olympique Francaise De Voile 2023', 'Trofeo S.A.R Princesa Sofia 2015', 'Trofeo S.A.R Princesa Sofia 2016', 'Trofeo S.A.R Princesa Sofia 2017', 'Trofeo S.A.R Princesa Sofia 2018', 'Trofeo S.A.R Princesa Sofia 2019', 'Trofeo S.A.R Princesa Sofia 2022', 'Trofeo S.A.R Princesa Sofia 2023', 'World Championship 2021', 'World Championship 2022', 'World Championship 2023', 'Semaine Olympique Francaise De Voile 2018', 'World Championship 2018', 'World Championship 2015', 'European Championship 2016', 'World Championship 2016', 'Semaine Olympique Francaise De Voile 2017', 'European Championship 2020', 'European Championship 2022', 'European Championship 2023', 'World Championship 2019', 'European Championship 2021', 'World Championship 2020', 'European Championship 2017', 'European Championship 2018', 'Central and South American Championship 2023', 'Central and South American Championship 2022', 'Central and South American Championship 2021']\n"
     ]
    }
   ],
   "source": [
    "competicoes = df['Nome Competição'].unique().tolist()\n",
    "print(\"As competições extraídas para análise foram: {}\".format(competicoes))"
   ]
  },
  {
   "cell_type": "markdown",
   "metadata": {},
   "source": [
    "### **Número de competições por classe**"
   ]
  },
  {
   "cell_type": "code",
   "execution_count": 9,
   "metadata": {},
   "outputs": [
    {
     "data": {
      "text/html": [
       "<div>\n",
       "<style scoped>\n",
       "    .dataframe tbody tr th:only-of-type {\n",
       "        vertical-align: middle;\n",
       "    }\n",
       "\n",
       "    .dataframe tbody tr th {\n",
       "        vertical-align: top;\n",
       "    }\n",
       "\n",
       "    .dataframe thead th {\n",
       "        text-align: right;\n",
       "    }\n",
       "</style>\n",
       "<table border=\"1\" class=\"dataframe\">\n",
       "  <thead>\n",
       "    <tr style=\"text-align: right;\">\n",
       "      <th></th>\n",
       "      <th>Classe Vela</th>\n",
       "      <th>Número de Competições</th>\n",
       "    </tr>\n",
       "  </thead>\n",
       "  <tbody>\n",
       "    <tr>\n",
       "      <th>0</th>\n",
       "      <td>49er</td>\n",
       "      <td>28</td>\n",
       "    </tr>\n",
       "    <tr>\n",
       "      <th>1</th>\n",
       "      <td>Ilca 6</td>\n",
       "      <td>28</td>\n",
       "    </tr>\n",
       "    <tr>\n",
       "      <th>2</th>\n",
       "      <td>Ilca 7</td>\n",
       "      <td>28</td>\n",
       "    </tr>\n",
       "    <tr>\n",
       "      <th>3</th>\n",
       "      <td>49erFX</td>\n",
       "      <td>27</td>\n",
       "    </tr>\n",
       "    <tr>\n",
       "      <th>4</th>\n",
       "      <td>470.0</td>\n",
       "      <td>7</td>\n",
       "    </tr>\n",
       "    <tr>\n",
       "      <th>5</th>\n",
       "      <td>IQFOIL Fem.</td>\n",
       "      <td>7</td>\n",
       "    </tr>\n",
       "    <tr>\n",
       "      <th>6</th>\n",
       "      <td>IQFOIL Masc.</td>\n",
       "      <td>7</td>\n",
       "    </tr>\n",
       "    <tr>\n",
       "      <th>7</th>\n",
       "      <td>Nacra 17</td>\n",
       "      <td>7</td>\n",
       "    </tr>\n",
       "    <tr>\n",
       "      <th>8</th>\n",
       "      <td>Formula Kite Fem.</td>\n",
       "      <td>6</td>\n",
       "    </tr>\n",
       "    <tr>\n",
       "      <th>9</th>\n",
       "      <td>Formula Kite Masc.</td>\n",
       "      <td>6</td>\n",
       "    </tr>\n",
       "  </tbody>\n",
       "</table>\n",
       "</div>"
      ],
      "text/plain": [
       "          Classe Vela  Número de Competições\n",
       "0                49er                     28\n",
       "1              Ilca 6                     28\n",
       "2              Ilca 7                     28\n",
       "3              49erFX                     27\n",
       "4               470.0                      7\n",
       "5         IQFOIL Fem.                      7\n",
       "6        IQFOIL Masc.                      7\n",
       "7            Nacra 17                      7\n",
       "8   Formula Kite Fem.                      6\n",
       "9  Formula Kite Masc.                      6"
      ]
     },
     "execution_count": 9,
     "metadata": {},
     "output_type": "execute_result"
    }
   ],
   "source": [
    "competitions_by_class = df.groupby('Classe Vela')['ID Competição']\\\n",
    "                          .nunique()\\\n",
    "                          .sort_values(ascending=False)\\\n",
    "                          .reset_index(name='Número de Competições')\n",
    "\n",
    "competitions_by_class"
   ]
  },
  {
   "cell_type": "markdown",
   "metadata": {},
   "source": [
    "### **Média de competidores por classe em competições**"
   ]
  },
  {
   "cell_type": "code",
   "execution_count": 10,
   "metadata": {},
   "outputs": [
    {
     "data": {
      "text/html": [
       "<div>\n",
       "<style scoped>\n",
       "    .dataframe tbody tr th:only-of-type {\n",
       "        vertical-align: middle;\n",
       "    }\n",
       "\n",
       "    .dataframe tbody tr th {\n",
       "        vertical-align: top;\n",
       "    }\n",
       "\n",
       "    .dataframe thead th {\n",
       "        text-align: right;\n",
       "    }\n",
       "</style>\n",
       "<table border=\"1\" class=\"dataframe\">\n",
       "  <thead>\n",
       "    <tr style=\"text-align: right;\">\n",
       "      <th></th>\n",
       "      <th>Classe Vela</th>\n",
       "      <th>Média de Competidores</th>\n",
       "    </tr>\n",
       "  </thead>\n",
       "  <tbody>\n",
       "    <tr>\n",
       "      <th>0</th>\n",
       "      <td>Nacra 17</td>\n",
       "      <td>37.285714</td>\n",
       "    </tr>\n",
       "    <tr>\n",
       "      <th>1</th>\n",
       "      <td>49erFX</td>\n",
       "      <td>43.222222</td>\n",
       "    </tr>\n",
       "    <tr>\n",
       "      <th>2</th>\n",
       "      <td>Formula Kite Fem.</td>\n",
       "      <td>47.500000</td>\n",
       "    </tr>\n",
       "    <tr>\n",
       "      <th>3</th>\n",
       "      <td>470.0</td>\n",
       "      <td>60.857143</td>\n",
       "    </tr>\n",
       "    <tr>\n",
       "      <th>4</th>\n",
       "      <td>49er</td>\n",
       "      <td>65.821429</td>\n",
       "    </tr>\n",
       "    <tr>\n",
       "      <th>5</th>\n",
       "      <td>IQFOIL Fem.</td>\n",
       "      <td>75.142857</td>\n",
       "    </tr>\n",
       "    <tr>\n",
       "      <th>6</th>\n",
       "      <td>Ilca 6</td>\n",
       "      <td>87.142857</td>\n",
       "    </tr>\n",
       "    <tr>\n",
       "      <th>7</th>\n",
       "      <td>Formula Kite Masc.</td>\n",
       "      <td>90.000000</td>\n",
       "    </tr>\n",
       "    <tr>\n",
       "      <th>8</th>\n",
       "      <td>IQFOIL Masc.</td>\n",
       "      <td>105.428571</td>\n",
       "    </tr>\n",
       "    <tr>\n",
       "      <th>9</th>\n",
       "      <td>Ilca 7</td>\n",
       "      <td>123.000000</td>\n",
       "    </tr>\n",
       "  </tbody>\n",
       "</table>\n",
       "</div>"
      ],
      "text/plain": [
       "          Classe Vela  Média de Competidores\n",
       "0            Nacra 17              37.285714\n",
       "1              49erFX              43.222222\n",
       "2   Formula Kite Fem.              47.500000\n",
       "3               470.0              60.857143\n",
       "4                49er              65.821429\n",
       "5         IQFOIL Fem.              75.142857\n",
       "6              Ilca 6              87.142857\n",
       "7  Formula Kite Masc.              90.000000\n",
       "8        IQFOIL Masc.             105.428571\n",
       "9              Ilca 7             123.000000"
      ]
     },
     "execution_count": 10,
     "metadata": {},
     "output_type": "execute_result"
    }
   ],
   "source": [
    "competitors_by_class_and_competition = df.groupby(['Classe Vela', 'ID Competição'])['Nome Competidor']\\\n",
    "                                         .nunique()\\\n",
    "                                         .sort_values(ascending=False)\n",
    "\n",
    "mean_ncompetitors_by_class = competitors_by_class_and_competition.groupby('Classe Vela')\\\n",
    "                                                                 .mean()\\\n",
    "                                                                 .sort_values(ascending=True)\\\n",
    "                                                                 .reset_index(name=\"Média de Competidores\")\n",
    "\n",
    "mean_ncompetitors_by_class"
   ]
  },
  {
   "cell_type": "code",
   "execution_count": 11,
   "metadata": {},
   "outputs": [
    {
     "data": {
      "image/png": "[encoded data removed]",
      "text/plain": [
       "<Figure size 1000x500 with 1 Axes>"
      ]
     },
     "metadata": {},
     "output_type": "display_data"
    }
   ],
   "source": [
    "#plots the data above\n",
    "plt.figure(figsize=(10,5))\n",
    "plt.barh(mean_ncompetitors_by_class['Classe Vela'], mean_ncompetitors_by_class['Média de Competidores'])\n",
    "plt.title('Média de competidores por classe em competições')\n",
    "plt.xlabel('Média de competidores')\t\n",
    "plt.ylabel('Classe Vela')\n",
    "plt.show()"
   ]
  },
  {
   "cell_type": "markdown",
   "metadata": {},
   "source": [
    "### **Número de competidores por competição**"
   ]
  },
  {
   "cell_type": "code",
   "execution_count": 12,
   "metadata": {},
   "outputs": [
    {
     "data": {
      "text/html": [
       "<div>\n",
       "<style scoped>\n",
       "    .dataframe tbody tr th:only-of-type {\n",
       "        vertical-align: middle;\n",
       "    }\n",
       "\n",
       "    .dataframe tbody tr th {\n",
       "        vertical-align: top;\n",
       "    }\n",
       "\n",
       "    .dataframe thead th {\n",
       "        text-align: right;\n",
       "    }\n",
       "</style>\n",
       "<table border=\"1\" class=\"dataframe\">\n",
       "  <thead>\n",
       "    <tr style=\"text-align: right;\">\n",
       "      <th></th>\n",
       "      <th>Nome Competição</th>\n",
       "      <th>Número de Competidores</th>\n",
       "    </tr>\n",
       "  </thead>\n",
       "  <tbody>\n",
       "    <tr>\n",
       "      <th>22</th>\n",
       "      <td>Trofeo S.A.R Princesa Sofia 2023</td>\n",
       "      <td>976</td>\n",
       "    </tr>\n",
       "    <tr>\n",
       "      <th>8</th>\n",
       "      <td>European Championship 2022</td>\n",
       "      <td>866</td>\n",
       "    </tr>\n",
       "    <tr>\n",
       "      <th>31</th>\n",
       "      <td>World Championship 2023</td>\n",
       "      <td>816</td>\n",
       "    </tr>\n",
       "    <tr>\n",
       "      <th>30</th>\n",
       "      <td>World Championship 2022</td>\n",
       "      <td>672</td>\n",
       "    </tr>\n",
       "    <tr>\n",
       "      <th>15</th>\n",
       "      <td>Semaine Olympique Francaise De Voile 2023</td>\n",
       "      <td>666</td>\n",
       "    </tr>\n",
       "  </tbody>\n",
       "</table>\n",
       "</div>"
      ],
      "text/plain": [
       "                              Nome Competição  Número de Competidores\n",
       "22           Trofeo S.A.R Princesa Sofia 2023                     976\n",
       "8                  European Championship 2022                     866\n",
       "31                    World Championship 2023                     816\n",
       "30                    World Championship 2022                     672\n",
       "15  Semaine Olympique Francaise De Voile 2023                     666"
      ]
     },
     "execution_count": 12,
     "metadata": {},
     "output_type": "execute_result"
    }
   ],
   "source": [
    "competitors_by_competition = df.groupby('Nome Competição')['Nome Competidor']\\\n",
    "                               .nunique()\\\n",
    "                               .reset_index(name='Número de Competidores')\\\n",
    "                               .sort_values(by='Número de Competidores', ascending=False)\n",
    "\n",
    "competitors_by_competition.head()"
   ]
  },
  {
   "cell_type": "markdown",
   "metadata": {},
   "source": [
    "### **Número de classes por competição**"
   ]
  },
  {
   "cell_type": "code",
   "execution_count": 13,
   "metadata": {},
   "outputs": [
    {
     "data": {
      "text/html": [
       "<div>\n",
       "<style scoped>\n",
       "    .dataframe tbody tr th:only-of-type {\n",
       "        vertical-align: middle;\n",
       "    }\n",
       "\n",
       "    .dataframe tbody tr th {\n",
       "        vertical-align: top;\n",
       "    }\n",
       "\n",
       "    .dataframe thead th {\n",
       "        text-align: right;\n",
       "    }\n",
       "</style>\n",
       "<table border=\"1\" class=\"dataframe\">\n",
       "  <thead>\n",
       "    <tr style=\"text-align: right;\">\n",
       "      <th></th>\n",
       "      <th>Nome Competição</th>\n",
       "      <th>Número de Classes</th>\n",
       "    </tr>\n",
       "  </thead>\n",
       "  <tbody>\n",
       "    <tr>\n",
       "      <th>31</th>\n",
       "      <td>World Championship 2023</td>\n",
       "      <td>10</td>\n",
       "    </tr>\n",
       "    <tr>\n",
       "      <th>15</th>\n",
       "      <td>Semaine Olympique Francaise De Voile 2023</td>\n",
       "      <td>10</td>\n",
       "    </tr>\n",
       "    <tr>\n",
       "      <th>14</th>\n",
       "      <td>Semaine Olympique Francaise De Voile 2022</td>\n",
       "      <td>10</td>\n",
       "    </tr>\n",
       "    <tr>\n",
       "      <th>22</th>\n",
       "      <td>Trofeo S.A.R Princesa Sofia 2023</td>\n",
       "      <td>10</td>\n",
       "    </tr>\n",
       "    <tr>\n",
       "      <th>8</th>\n",
       "      <td>European Championship 2022</td>\n",
       "      <td>10</td>\n",
       "    </tr>\n",
       "  </tbody>\n",
       "</table>\n",
       "</div>"
      ],
      "text/plain": [
       "                              Nome Competição  Número de Classes\n",
       "31                    World Championship 2023                 10\n",
       "15  Semaine Olympique Francaise De Voile 2023                 10\n",
       "14  Semaine Olympique Francaise De Voile 2022                 10\n",
       "22           Trofeo S.A.R Princesa Sofia 2023                 10\n",
       "8                  European Championship 2022                 10"
      ]
     },
     "execution_count": 13,
     "metadata": {},
     "output_type": "execute_result"
    }
   ],
   "source": [
    "classes_by_competition = df.groupby('Nome Competição')['Classe Vela']\\\n",
    "                            .nunique()\\\n",
    "                            .reset_index(name='Número de Classes')\\\n",
    "                            .sort_values(by='Número de Classes', ascending=False)\n",
    "\n",
    "classes_by_competition.head()"
   ]
  },
  {
   "cell_type": "markdown",
   "metadata": {},
   "source": [
    "### **Média de regatas por classe**"
   ]
  },
  {
   "cell_type": "code",
   "execution_count": 14,
   "metadata": {},
   "outputs": [
    {
     "data": {
      "text/html": [
       "<div>\n",
       "<style scoped>\n",
       "    .dataframe tbody tr th:only-of-type {\n",
       "        vertical-align: middle;\n",
       "    }\n",
       "\n",
       "    .dataframe tbody tr th {\n",
       "        vertical-align: top;\n",
       "    }\n",
       "\n",
       "    .dataframe thead th {\n",
       "        text-align: right;\n",
       "    }\n",
       "</style>\n",
       "<table border=\"1\" class=\"dataframe\">\n",
       "  <thead>\n",
       "    <tr style=\"text-align: right;\">\n",
       "      <th></th>\n",
       "      <th>Nome Competição</th>\n",
       "      <th>Classe Vela</th>\n",
       "      <th>Número de Regatas</th>\n",
       "    </tr>\n",
       "  </thead>\n",
       "  <tbody>\n",
       "    <tr>\n",
       "      <th>0</th>\n",
       "      <td>Central and South American Championship 2021</td>\n",
       "      <td>Ilca 6</td>\n",
       "      <td>8</td>\n",
       "    </tr>\n",
       "    <tr>\n",
       "      <th>1</th>\n",
       "      <td>Central and South American Championship 2021</td>\n",
       "      <td>Ilca 7</td>\n",
       "      <td>8</td>\n",
       "    </tr>\n",
       "    <tr>\n",
       "      <th>2</th>\n",
       "      <td>Central and South American Championship 2022</td>\n",
       "      <td>Ilca 6</td>\n",
       "      <td>10</td>\n",
       "    </tr>\n",
       "    <tr>\n",
       "      <th>3</th>\n",
       "      <td>Central and South American Championship 2022</td>\n",
       "      <td>Ilca 7</td>\n",
       "      <td>10</td>\n",
       "    </tr>\n",
       "    <tr>\n",
       "      <th>4</th>\n",
       "      <td>Central and South American Championship 2023</td>\n",
       "      <td>Ilca 6</td>\n",
       "      <td>9</td>\n",
       "    </tr>\n",
       "  </tbody>\n",
       "</table>\n",
       "</div>"
      ],
      "text/plain": [
       "                                Nome Competição Classe Vela  Número de Regatas\n",
       "0  Central and South American Championship 2021      Ilca 6                  8\n",
       "1  Central and South American Championship 2021      Ilca 7                  8\n",
       "2  Central and South American Championship 2022      Ilca 6                 10\n",
       "3  Central and South American Championship 2022      Ilca 7                 10\n",
       "4  Central and South American Championship 2023      Ilca 6                  9"
      ]
     },
     "execution_count": 14,
     "metadata": {},
     "output_type": "execute_result"
    }
   ],
   "source": [
    "# pego o numero de regatas por competidor\n",
    "nregatas_por_competidor = df.groupby(['Nome Competidor', 'Classe Vela', 'Nome Competição'])['Nome Competidor'].count().reset_index(name='Número de Regatas')\n",
    "\n",
    "# pego o numero maximo de regatas (competidor que correu todas)\n",
    "max_regatas = nregatas_por_competidor.groupby(['Nome Competição', 'Classe Vela'])['Número de Regatas'].max().reset_index(name='Número de Regatas')\n",
    "\n",
    "max_regatas.head()"
   ]
  },
  {
   "cell_type": "code",
   "execution_count": 15,
   "metadata": {},
   "outputs": [],
   "source": [
    "media_regatas_por_classe = max_regatas.groupby('Classe Vela')['Número de Regatas'].mean().reset_index(name='Média de Regatas').sort_values(by='Média de Regatas', ascending=True)"
   ]
  },
  {
   "cell_type": "code",
   "execution_count": 16,
   "metadata": {},
   "outputs": [
    {
     "data": {
      "image/png": "[encoded data removed]",
      "text/plain": [
       "<Figure size 1000x500 with 1 Axes>"
      ]
     },
     "metadata": {},
     "output_type": "display_data"
    }
   ],
   "source": [
    "#plots the data above\n",
    "plt.figure(figsize=(10,5))\n",
    "plt.barh(media_regatas_por_classe['Classe Vela'], media_regatas_por_classe['Média de Regatas'])\n",
    "plt.title('Média de regatas por classe em competições')\n",
    "plt.xlabel('Média de regatas')\t\n",
    "plt.ylabel('Classe')\n",
    "plt.show()"
   ]
  },
  {
   "cell_type": "markdown",
   "metadata": {},
   "source": [
    "### **Média de regatas por classe em cada evento**"
   ]
  },
  {
   "cell_type": "code",
   "execution_count": 17,
   "metadata": {},
   "outputs": [],
   "source": [
    "dfProv = df.copy()\n",
    "\n",
    "#competição sem ano (sem os ultimos 4 caracteres)\n",
    "dfProv['Evento'] = dfProv['Nome Competição'].str[:-5]"
   ]
  },
  {
   "cell_type": "code",
   "execution_count": 18,
   "metadata": {},
   "outputs": [
    {
     "data": {
      "text/html": [
       "<div>\n",
       "<style scoped>\n",
       "    .dataframe tbody tr th:only-of-type {\n",
       "        vertical-align: middle;\n",
       "    }\n",
       "\n",
       "    .dataframe tbody tr th {\n",
       "        vertical-align: top;\n",
       "    }\n",
       "\n",
       "    .dataframe thead th {\n",
       "        text-align: right;\n",
       "    }\n",
       "</style>\n",
       "<table border=\"1\" class=\"dataframe\">\n",
       "  <thead>\n",
       "    <tr style=\"text-align: right;\">\n",
       "      <th></th>\n",
       "      <th>Unnamed: 0</th>\n",
       "      <th>ID Resultado</th>\n",
       "      <th>ID Competidor</th>\n",
       "      <th>Nome Competidor</th>\n",
       "      <th>ID Competição</th>\n",
       "      <th>Classe Vela</th>\n",
       "      <th>Pontuação Regata</th>\n",
       "      <th>Descarte</th>\n",
       "      <th>Flotilha</th>\n",
       "      <th>Posição Geral</th>\n",
       "      <th>Punição</th>\n",
       "      <th>Pontuação Total</th>\n",
       "      <th>Nett</th>\n",
       "      <th>Nome Competição</th>\n",
       "      <th>Evento</th>\n",
       "    </tr>\n",
       "  </thead>\n",
       "  <tbody>\n",
       "    <tr>\n",
       "      <th>0</th>\n",
       "      <td>0</td>\n",
       "      <td>1</td>\n",
       "      <td>1</td>\n",
       "      <td>WILLIAM JONES, EVAN DEPAUL</td>\n",
       "      <td>17</td>\n",
       "      <td>49er</td>\n",
       "      <td>11</td>\n",
       "      <td>1</td>\n",
       "      <td>GERAL</td>\n",
       "      <td>1</td>\n",
       "      <td>UFD</td>\n",
       "      <td>44.0</td>\n",
       "      <td>33.0</td>\n",
       "      <td>World Championship 2017</td>\n",
       "      <td>World Championship</td>\n",
       "    </tr>\n",
       "    <tr>\n",
       "      <th>1</th>\n",
       "      <td>1</td>\n",
       "      <td>2</td>\n",
       "      <td>2</td>\n",
       "      <td>DOMINIK BUKSAK, SZYMON WIERZBICKI</td>\n",
       "      <td>7</td>\n",
       "      <td>49er</td>\n",
       "      <td>3</td>\n",
       "      <td>0</td>\n",
       "      <td>GERAL</td>\n",
       "      <td>1</td>\n",
       "      <td>NaN</td>\n",
       "      <td>89.0</td>\n",
       "      <td>66.0</td>\n",
       "      <td>Semaine Olympique Francaise De Voile 2022</td>\n",
       "      <td>Semaine Olympique Francaise De Voile</td>\n",
       "    </tr>\n",
       "    <tr>\n",
       "      <th>2</th>\n",
       "      <td>2</td>\n",
       "      <td>3</td>\n",
       "      <td>2</td>\n",
       "      <td>DOMINIK BUKSAK, SZYMON WIERZBICKI</td>\n",
       "      <td>7</td>\n",
       "      <td>49er</td>\n",
       "      <td>1</td>\n",
       "      <td>0</td>\n",
       "      <td>GERAL</td>\n",
       "      <td>1</td>\n",
       "      <td>NaN</td>\n",
       "      <td>89.0</td>\n",
       "      <td>66.0</td>\n",
       "      <td>Semaine Olympique Francaise De Voile 2022</td>\n",
       "      <td>Semaine Olympique Francaise De Voile</td>\n",
       "    </tr>\n",
       "    <tr>\n",
       "      <th>3</th>\n",
       "      <td>3</td>\n",
       "      <td>4</td>\n",
       "      <td>2</td>\n",
       "      <td>DOMINIK BUKSAK, SZYMON WIERZBICKI</td>\n",
       "      <td>7</td>\n",
       "      <td>49er</td>\n",
       "      <td>1</td>\n",
       "      <td>0</td>\n",
       "      <td>GERAL</td>\n",
       "      <td>1</td>\n",
       "      <td>NaN</td>\n",
       "      <td>89.0</td>\n",
       "      <td>66.0</td>\n",
       "      <td>Semaine Olympique Francaise De Voile 2022</td>\n",
       "      <td>Semaine Olympique Francaise De Voile</td>\n",
       "    </tr>\n",
       "    <tr>\n",
       "      <th>4</th>\n",
       "      <td>4</td>\n",
       "      <td>5</td>\n",
       "      <td>2</td>\n",
       "      <td>DOMINIK BUKSAK, SZYMON WIERZBICKI</td>\n",
       "      <td>7</td>\n",
       "      <td>49er</td>\n",
       "      <td>3</td>\n",
       "      <td>0</td>\n",
       "      <td>GERAL</td>\n",
       "      <td>1</td>\n",
       "      <td>NaN</td>\n",
       "      <td>89.0</td>\n",
       "      <td>66.0</td>\n",
       "      <td>Semaine Olympique Francaise De Voile 2022</td>\n",
       "      <td>Semaine Olympique Francaise De Voile</td>\n",
       "    </tr>\n",
       "  </tbody>\n",
       "</table>\n",
       "</div>"
      ],
      "text/plain": [
       "   Unnamed: 0  ID Resultado  ID Competidor                    Nome Competidor  \\\n",
       "0           0             1              1         WILLIAM JONES, EVAN DEPAUL   \n",
       "1           1             2              2  DOMINIK BUKSAK, SZYMON WIERZBICKI   \n",
       "2           2             3              2  DOMINIK BUKSAK, SZYMON WIERZBICKI   \n",
       "3           3             4              2  DOMINIK BUKSAK, SZYMON WIERZBICKI   \n",
       "4           4             5              2  DOMINIK BUKSAK, SZYMON WIERZBICKI   \n",
       "\n",
       "   ID Competição Classe Vela Pontuação Regata  Descarte Flotilha  \\\n",
       "0             17        49er               11         1    GERAL   \n",
       "1              7        49er                3         0    GERAL   \n",
       "2              7        49er                1         0    GERAL   \n",
       "3              7        49er                1         0    GERAL   \n",
       "4              7        49er                3         0    GERAL   \n",
       "\n",
       "   Posição Geral Punição  Pontuação Total  Nett  \\\n",
       "0              1     UFD             44.0  33.0   \n",
       "1              1     NaN             89.0  66.0   \n",
       "2              1     NaN             89.0  66.0   \n",
       "3              1     NaN             89.0  66.0   \n",
       "4              1     NaN             89.0  66.0   \n",
       "\n",
       "                             Nome Competição  \\\n",
       "0                    World Championship 2017   \n",
       "1  Semaine Olympique Francaise De Voile 2022   \n",
       "2  Semaine Olympique Francaise De Voile 2022   \n",
       "3  Semaine Olympique Francaise De Voile 2022   \n",
       "4  Semaine Olympique Francaise De Voile 2022   \n",
       "\n",
       "                                 Evento  \n",
       "0                    World Championship  \n",
       "1  Semaine Olympique Francaise De Voile  \n",
       "2  Semaine Olympique Francaise De Voile  \n",
       "3  Semaine Olympique Francaise De Voile  \n",
       "4  Semaine Olympique Francaise De Voile  "
      ]
     },
     "execution_count": 18,
     "metadata": {},
     "output_type": "execute_result"
    }
   ],
   "source": [
    "dfProv.head()"
   ]
  },
  {
   "cell_type": "code",
   "execution_count": 19,
   "metadata": {},
   "outputs": [
    {
     "data": {
      "text/html": [
       "<div>\n",
       "<style scoped>\n",
       "    .dataframe tbody tr th:only-of-type {\n",
       "        vertical-align: middle;\n",
       "    }\n",
       "\n",
       "    .dataframe tbody tr th {\n",
       "        vertical-align: top;\n",
       "    }\n",
       "\n",
       "    .dataframe thead th {\n",
       "        text-align: right;\n",
       "    }\n",
       "</style>\n",
       "<table border=\"1\" class=\"dataframe\">\n",
       "  <thead>\n",
       "    <tr style=\"text-align: right;\">\n",
       "      <th></th>\n",
       "      <th>Classe Vela</th>\n",
       "      <th>Evento</th>\n",
       "      <th>Média de Regatas</th>\n",
       "    </tr>\n",
       "  </thead>\n",
       "  <tbody>\n",
       "    <tr>\n",
       "      <th>0</th>\n",
       "      <td>470.0</td>\n",
       "      <td>European Championship</td>\n",
       "      <td>12.000000</td>\n",
       "    </tr>\n",
       "    <tr>\n",
       "      <th>1</th>\n",
       "      <td>470.0</td>\n",
       "      <td>Semaine Olympique Francaise De Voile</td>\n",
       "      <td>10.500000</td>\n",
       "    </tr>\n",
       "    <tr>\n",
       "      <th>2</th>\n",
       "      <td>470.0</td>\n",
       "      <td>Trofeo S.A.R Princesa Sofia</td>\n",
       "      <td>11.000000</td>\n",
       "    </tr>\n",
       "    <tr>\n",
       "      <th>3</th>\n",
       "      <td>470.0</td>\n",
       "      <td>World Championship</td>\n",
       "      <td>13.000000</td>\n",
       "    </tr>\n",
       "    <tr>\n",
       "      <th>4</th>\n",
       "      <td>49er</td>\n",
       "      <td>European Championship</td>\n",
       "      <td>14.166667</td>\n",
       "    </tr>\n",
       "  </tbody>\n",
       "</table>\n",
       "</div>"
      ],
      "text/plain": [
       "  Classe Vela                                Evento  Média de Regatas\n",
       "0       470.0                 European Championship         12.000000\n",
       "1       470.0  Semaine Olympique Francaise De Voile         10.500000\n",
       "2       470.0           Trofeo S.A.R Princesa Sofia         11.000000\n",
       "3       470.0                    World Championship         13.000000\n",
       "4        49er                 European Championship         14.166667"
      ]
     },
     "execution_count": 19,
     "metadata": {},
     "output_type": "execute_result"
    }
   ],
   "source": [
    "# pego o numero de regatas por competidor\n",
    "nregatas_por_competidor = dfProv.groupby(['Nome Competidor', 'Classe Vela', 'Nome Competição', 'Evento'])['Nome Competidor'].count().reset_index(name='Número de Regatas')\n",
    "\n",
    "# pego o numero maximo de regatas (competidor que correu todas)\n",
    "max_regatas = nregatas_por_competidor.groupby(['Nome Competição', 'Classe Vela', 'Evento'])['Número de Regatas'].max().reset_index(name='Número de Regatas')\n",
    "\n",
    "# faço a média de regatas por evento\n",
    "media_regatas_classe_evento = max_regatas.groupby(['Classe Vela', 'Evento'])['Número de Regatas'].mean().reset_index(name='Média de Regatas')\n",
    "\n",
    "media_regatas_classe_evento.head()"
   ]
  },
  {
   "cell_type": "code",
   "execution_count": 20,
   "metadata": {},
   "outputs": [],
   "source": [
    "eventos = media_regatas_classe_evento['Evento'].unique().tolist()"
   ]
  },
  {
   "cell_type": "code",
   "execution_count": 21,
   "metadata": {},
   "outputs": [
    {
     "data": {
      "image/png": "[encoded data removed]",
      "text/plain": [
       "<Figure size 1200x1000 with 4 Axes>"
      ]
     },
     "metadata": {},
     "output_type": "display_data"
    }
   ],
   "source": [
    "# Classe Vela in different subplots, Punicao in x axis and freq in y axis\n",
    "fig, axes = plt.subplots(nrows=3, ncols=2, figsize=(12,10))\n",
    "fig.suptitle('Média de regatas por classe em cada evento', fontsize=16)\n",
    "fig.tight_layout(pad=3.0)\n",
    "for i, evento in enumerate(eventos):\n",
    "    ax = axes[i//2, i%2]\n",
    "    ax.set_title(evento)\n",
    "    ax.set_xlabel('Punição')\n",
    "    ax.set_ylabel('Porcentagem (%)')\n",
    "    # horizontal bar plot\n",
    "    sns.barplot(x='Média de Regatas', y='Classe Vela', \n",
    "                data=media_regatas_classe_evento[media_regatas_classe_evento['Evento']==evento].sort_values(by='Média de Regatas', ascending=False),\n",
    "                ax=ax,\n",
    "                color='blue')\n",
    "    \n",
    "# increase space between subplots\n",
    "fig.subplots_adjust(hspace=0.5, wspace=0.5)\n",
    "\n",
    "# delete the last subplot\n",
    "fig.delaxes(axes[2,0])\n",
    "fig.delaxes(axes[2,1]) \n",
    "    \n",
    "plt.show()"
   ]
  },
  {
   "cell_type": "markdown",
   "metadata": {},
   "source": [
    "### **Média de competidores por Evento (ignorando o ano)**"
   ]
  },
  {
   "cell_type": "code",
   "execution_count": 22,
   "metadata": {},
   "outputs": [
    {
     "data": {
      "text/html": [
       "<div>\n",
       "<style scoped>\n",
       "    .dataframe tbody tr th:only-of-type {\n",
       "        vertical-align: middle;\n",
       "    }\n",
       "\n",
       "    .dataframe tbody tr th {\n",
       "        vertical-align: top;\n",
       "    }\n",
       "\n",
       "    .dataframe thead th {\n",
       "        text-align: right;\n",
       "    }\n",
       "</style>\n",
       "<table border=\"1\" class=\"dataframe\">\n",
       "  <thead>\n",
       "    <tr style=\"text-align: right;\">\n",
       "      <th></th>\n",
       "      <th>Evento</th>\n",
       "      <th>Média de Competidores</th>\n",
       "    </tr>\n",
       "  </thead>\n",
       "  <tbody>\n",
       "    <tr>\n",
       "      <th>0</th>\n",
       "      <td>Central and South American Championship</td>\n",
       "      <td>112.333333</td>\n",
       "    </tr>\n",
       "    <tr>\n",
       "      <th>1</th>\n",
       "      <td>European Championship</td>\n",
       "      <td>312.285714</td>\n",
       "    </tr>\n",
       "    <tr>\n",
       "      <th>2</th>\n",
       "      <td>Semaine Olympique Francaise De Voile</td>\n",
       "      <td>317.666667</td>\n",
       "    </tr>\n",
       "    <tr>\n",
       "      <th>3</th>\n",
       "      <td>World Championship</td>\n",
       "      <td>431.000000</td>\n",
       "    </tr>\n",
       "    <tr>\n",
       "      <th>4</th>\n",
       "      <td>Trofeo S.A.R Princesa Sofia</td>\n",
       "      <td>476.142857</td>\n",
       "    </tr>\n",
       "  </tbody>\n",
       "</table>\n",
       "</div>"
      ],
      "text/plain": [
       "                                    Evento  Média de Competidores\n",
       "0  Central and South American Championship             112.333333\n",
       "1                    European Championship             312.285714\n",
       "2     Semaine Olympique Francaise De Voile             317.666667\n",
       "3                       World Championship             431.000000\n",
       "4              Trofeo S.A.R Princesa Sofia             476.142857"
      ]
     },
     "execution_count": 22,
     "metadata": {},
     "output_type": "execute_result"
    }
   ],
   "source": [
    "#groups the data per class and then per competition and then counts the unique competitors\n",
    "competitors_by_class_and_event = dfProv.groupby(['Evento', 'ID Competição'])['Nome Competidor']\\\n",
    "                                       .nunique()\\\n",
    "                                       .sort_values(ascending=False)\n",
    "\n",
    "#now takes the mean inside each class\n",
    "mean_ncompetitors_by_class = competitors_by_class_and_event.groupby('Evento')\\\n",
    "                                                           .mean()\\\n",
    "                                                           .sort_values(ascending=True)\\\n",
    "                                                           .reset_index(name=\"Média de Competidores\")\n",
    "\n",
    "mean_ncompetitors_by_class"
   ]
  },
  {
   "cell_type": "code",
   "execution_count": 23,
   "metadata": {},
   "outputs": [
    {
     "data": {
      "image/png": "[encoded data removed]",
      "text/plain": [
       "<Figure size 1000x300 with 1 Axes>"
      ]
     },
     "metadata": {},
     "output_type": "display_data"
    }
   ],
   "source": [
    "#plots the data above\n",
    "plt.figure(figsize=(10,3))\n",
    "plt.barh(mean_ncompetitors_by_class['Evento'], mean_ncompetitors_by_class['Média de Competidores'])\n",
    "plt.title('Média de competidores por Evento')\n",
    "plt.xlabel('Média de competidores')\t\n",
    "plt.ylabel('Evento')\n",
    "plt.show()"
   ]
  },
  {
   "cell_type": "markdown",
   "metadata": {},
   "source": [
    "### **Distribuição das punições**"
   ]
  },
  {
   "cell_type": "code",
   "execution_count": 24,
   "metadata": {},
   "outputs": [
    {
     "data": {
      "image/png": "[encoded data removed]",
      "text/plain": [
       "<Figure size 1000x500 with 1 Axes>"
      ]
     },
     "metadata": {},
     "output_type": "display_data"
    }
   ],
   "source": [
    "#show the frequency of each punishment\n",
    "punicao = df['Punição'].value_counts().sort_values(ascending=True)\n",
    "\n",
    "#plots the data above\n",
    "plt.figure(figsize=(10,5))\n",
    "plt.title('Frequência de punições')\n",
    "plt.xlabel('Frequência')\n",
    "plt.ylabel('Punição')\n",
    "plt.barh(punicao.index, punicao.values)\n",
    "plt.show()"
   ]
  },
  {
   "cell_type": "markdown",
   "metadata": {},
   "source": [
    "### **Distribuição das punições por classe**"
   ]
  },
  {
   "cell_type": "code",
   "execution_count": 25,
   "metadata": {},
   "outputs": [
    {
     "data": {
      "text/html": [
       "<div>\n",
       "<style scoped>\n",
       "    .dataframe tbody tr th:only-of-type {\n",
       "        vertical-align: middle;\n",
       "    }\n",
       "\n",
       "    .dataframe tbody tr th {\n",
       "        vertical-align: top;\n",
       "    }\n",
       "\n",
       "    .dataframe thead th {\n",
       "        text-align: right;\n",
       "    }\n",
       "</style>\n",
       "<table border=\"1\" class=\"dataframe\">\n",
       "  <thead>\n",
       "    <tr style=\"text-align: right;\">\n",
       "      <th></th>\n",
       "      <th>Classe Vela</th>\n",
       "      <th>Punição</th>\n",
       "      <th>Frequência</th>\n",
       "    </tr>\n",
       "  </thead>\n",
       "  <tbody>\n",
       "    <tr>\n",
       "      <th>0</th>\n",
       "      <td>Ilca 7</td>\n",
       "      <td>DNC</td>\n",
       "      <td>827</td>\n",
       "    </tr>\n",
       "    <tr>\n",
       "      <th>1</th>\n",
       "      <td>49er</td>\n",
       "      <td>DNC</td>\n",
       "      <td>803</td>\n",
       "    </tr>\n",
       "    <tr>\n",
       "      <th>2</th>\n",
       "      <td>Ilca 7</td>\n",
       "      <td>BFD</td>\n",
       "      <td>616</td>\n",
       "    </tr>\n",
       "    <tr>\n",
       "      <th>3</th>\n",
       "      <td>49erFX</td>\n",
       "      <td>DNC</td>\n",
       "      <td>604</td>\n",
       "    </tr>\n",
       "    <tr>\n",
       "      <th>4</th>\n",
       "      <td>Formula Kite Masc.</td>\n",
       "      <td>DNC</td>\n",
       "      <td>540</td>\n",
       "    </tr>\n",
       "  </tbody>\n",
       "</table>\n",
       "</div>"
      ],
      "text/plain": [
       "          Classe Vela Punição  Frequência\n",
       "0              Ilca 7     DNC         827\n",
       "1                49er     DNC         803\n",
       "2              Ilca 7     BFD         616\n",
       "3              49erFX     DNC         604\n",
       "4  Formula Kite Masc.     DNC         540"
      ]
     },
     "execution_count": 25,
     "metadata": {},
     "output_type": "execute_result"
    }
   ],
   "source": [
    "npunicoes_por_classe = df.groupby(['Classe Vela', 'Punição'])['Punição'].count().sort_values(ascending=False).reset_index(name='Frequência')\n",
    "npunicoes_por_classe.head()"
   ]
  },
  {
   "cell_type": "code",
   "execution_count": 26,
   "metadata": {},
   "outputs": [
    {
     "data": {
      "text/html": [
       "<div>\n",
       "<style scoped>\n",
       "    .dataframe tbody tr th:only-of-type {\n",
       "        vertical-align: middle;\n",
       "    }\n",
       "\n",
       "    .dataframe tbody tr th {\n",
       "        vertical-align: top;\n",
       "    }\n",
       "\n",
       "    .dataframe thead th {\n",
       "        text-align: right;\n",
       "    }\n",
       "</style>\n",
       "<table border=\"1\" class=\"dataframe\">\n",
       "  <thead>\n",
       "    <tr style=\"text-align: right;\">\n",
       "      <th></th>\n",
       "      <th>Classe Vela</th>\n",
       "      <th>Total de Punições</th>\n",
       "    </tr>\n",
       "  </thead>\n",
       "  <tbody>\n",
       "    <tr>\n",
       "      <th>0</th>\n",
       "      <td>Ilca 7</td>\n",
       "      <td>2192</td>\n",
       "    </tr>\n",
       "    <tr>\n",
       "      <th>1</th>\n",
       "      <td>49er</td>\n",
       "      <td>1696</td>\n",
       "    </tr>\n",
       "    <tr>\n",
       "      <th>2</th>\n",
       "      <td>Ilca 6</td>\n",
       "      <td>1267</td>\n",
       "    </tr>\n",
       "    <tr>\n",
       "      <th>3</th>\n",
       "      <td>49erFX</td>\n",
       "      <td>1120</td>\n",
       "    </tr>\n",
       "    <tr>\n",
       "      <th>4</th>\n",
       "      <td>IQFOIL Masc.</td>\n",
       "      <td>963</td>\n",
       "    </tr>\n",
       "  </tbody>\n",
       "</table>\n",
       "</div>"
      ],
      "text/plain": [
       "    Classe Vela  Total de Punições\n",
       "0        Ilca 7               2192\n",
       "1          49er               1696\n",
       "2        Ilca 6               1267\n",
       "3        49erFX               1120\n",
       "4  IQFOIL Masc.                963"
      ]
     },
     "execution_count": 26,
     "metadata": {},
     "output_type": "execute_result"
    }
   ],
   "source": [
    "total_punicoes_por_classe = df.groupby(['Classe Vela'])['Punição'].count().sort_values(ascending=False).reset_index(name='Total de Punições')\n",
    "total_punicoes_por_classe.head()"
   ]
  },
  {
   "cell_type": "code",
   "execution_count": 27,
   "metadata": {},
   "outputs": [],
   "source": [
    "npunicoes_por_classe = npunicoes_por_classe.merge(total_punicoes_por_classe, on='Classe Vela')\n",
    "npunicoes_por_classe['Porcentagem'] = (npunicoes_por_classe['Frequência'] / npunicoes_por_classe['Total de Punições']) * 100"
   ]
  },
  {
   "cell_type": "code",
   "execution_count": 28,
   "metadata": {},
   "outputs": [
    {
     "data": {
      "text/html": [
       "<div>\n",
       "<style scoped>\n",
       "    .dataframe tbody tr th:only-of-type {\n",
       "        vertical-align: middle;\n",
       "    }\n",
       "\n",
       "    .dataframe tbody tr th {\n",
       "        vertical-align: top;\n",
       "    }\n",
       "\n",
       "    .dataframe thead th {\n",
       "        text-align: right;\n",
       "    }\n",
       "</style>\n",
       "<table border=\"1\" class=\"dataframe\">\n",
       "  <thead>\n",
       "    <tr style=\"text-align: right;\">\n",
       "      <th></th>\n",
       "      <th>Classe Vela</th>\n",
       "      <th>Punição</th>\n",
       "      <th>Frequência</th>\n",
       "      <th>Total de Punições</th>\n",
       "      <th>Porcentagem</th>\n",
       "    </tr>\n",
       "  </thead>\n",
       "  <tbody>\n",
       "    <tr>\n",
       "      <th>0</th>\n",
       "      <td>Ilca 7</td>\n",
       "      <td>DNC</td>\n",
       "      <td>827</td>\n",
       "      <td>2192</td>\n",
       "      <td>37.728102</td>\n",
       "    </tr>\n",
       "    <tr>\n",
       "      <th>1</th>\n",
       "      <td>Ilca 7</td>\n",
       "      <td>BFD</td>\n",
       "      <td>616</td>\n",
       "      <td>2192</td>\n",
       "      <td>28.102190</td>\n",
       "    </tr>\n",
       "    <tr>\n",
       "      <th>2</th>\n",
       "      <td>Ilca 7</td>\n",
       "      <td>UFD</td>\n",
       "      <td>230</td>\n",
       "      <td>2192</td>\n",
       "      <td>10.492701</td>\n",
       "    </tr>\n",
       "    <tr>\n",
       "      <th>3</th>\n",
       "      <td>Ilca 7</td>\n",
       "      <td>STP</td>\n",
       "      <td>134</td>\n",
       "      <td>2192</td>\n",
       "      <td>6.113139</td>\n",
       "    </tr>\n",
       "    <tr>\n",
       "      <th>4</th>\n",
       "      <td>Ilca 7</td>\n",
       "      <td>DNF</td>\n",
       "      <td>111</td>\n",
       "      <td>2192</td>\n",
       "      <td>5.063869</td>\n",
       "    </tr>\n",
       "  </tbody>\n",
       "</table>\n",
       "</div>"
      ],
      "text/plain": [
       "  Classe Vela Punição  Frequência  Total de Punições  Porcentagem\n",
       "0      Ilca 7     DNC         827               2192    37.728102\n",
       "1      Ilca 7     BFD         616               2192    28.102190\n",
       "2      Ilca 7     UFD         230               2192    10.492701\n",
       "3      Ilca 7     STP         134               2192     6.113139\n",
       "4      Ilca 7     DNF         111               2192     5.063869"
      ]
     },
     "execution_count": 28,
     "metadata": {},
     "output_type": "execute_result"
    }
   ],
   "source": [
    "npunicoes_por_classe.head()"
   ]
  },
  {
   "cell_type": "code",
   "execution_count": 529,
   "metadata": {},
   "outputs": [
    {
     "data": {
      "image/png": "[encoded data removed]",
      "text/plain": [
       "<Figure size 1600x800 with 4 Axes>"
      ]
     },
     "metadata": {},
     "output_type": "display_data"
    }
   ],
   "source": [
    "classes = [\"Ilca 7\", \"Ilca 6\", \"49er\", \"49erFX\"]\n",
    "\n",
    "# Classe Vela in different subplots, Punicao in x axis and freq in y axis\n",
    "fig, axes = plt.subplots(nrows=2, ncols=2, figsize=(16,8))\n",
    "fig.subplots_adjust(hspace=1)\n",
    "fig.suptitle('Porcentagem de punições por classe de vela', fontsize=16)\n",
    "fig.tight_layout(pad=3.0)\n",
    "for i, classe in enumerate(classes):\n",
    "    ax = axes[i//2, i%2]\n",
    "    ax.set_title(classe)\n",
    "    ax.set_xlabel('Punição')\n",
    "    ax.set_ylabel('Porcentagem (%)')\n",
    "    ax.set_ylim([0, 60])\n",
    "    ax.bar(npunicoes_por_classe[npunicoes_por_classe['Classe Vela'] == classe]['Punição'], \n",
    "           npunicoes_por_classe[npunicoes_por_classe['Classe Vela'] == classe]['Porcentagem'])\n",
    "    \n",
    "plt.show()"
   ]
  },
  {
   "cell_type": "code",
   "execution_count": null,
   "metadata": {},
   "outputs": [],
   "source": [
    "classes = df['Classe Vela'].unique().tolist()"
   ]
  },
  {
   "cell_type": "markdown",
   "metadata": {},
   "source": [
    "### **Distribuição das punições por evento**"
   ]
  },
  {
   "cell_type": "code",
   "execution_count": 30,
   "metadata": {},
   "outputs": [
    {
     "data": {
      "text/html": [
       "<div>\n",
       "<style scoped>\n",
       "    .dataframe tbody tr th:only-of-type {\n",
       "        vertical-align: middle;\n",
       "    }\n",
       "\n",
       "    .dataframe tbody tr th {\n",
       "        vertical-align: top;\n",
       "    }\n",
       "\n",
       "    .dataframe thead th {\n",
       "        text-align: right;\n",
       "    }\n",
       "</style>\n",
       "<table border=\"1\" class=\"dataframe\">\n",
       "  <thead>\n",
       "    <tr style=\"text-align: right;\">\n",
       "      <th></th>\n",
       "      <th>Evento</th>\n",
       "      <th>Punição</th>\n",
       "      <th>Frequência</th>\n",
       "    </tr>\n",
       "  </thead>\n",
       "  <tbody>\n",
       "    <tr>\n",
       "      <th>0</th>\n",
       "      <td>Trofeo S.A.R Princesa Sofia</td>\n",
       "      <td>DNC</td>\n",
       "      <td>1892</td>\n",
       "    </tr>\n",
       "    <tr>\n",
       "      <th>1</th>\n",
       "      <td>European Championship</td>\n",
       "      <td>DNC</td>\n",
       "      <td>1135</td>\n",
       "    </tr>\n",
       "    <tr>\n",
       "      <th>2</th>\n",
       "      <td>Semaine Olympique Francaise De Voile</td>\n",
       "      <td>DNC</td>\n",
       "      <td>595</td>\n",
       "    </tr>\n",
       "    <tr>\n",
       "      <th>3</th>\n",
       "      <td>World Championship</td>\n",
       "      <td>DNC</td>\n",
       "      <td>548</td>\n",
       "    </tr>\n",
       "    <tr>\n",
       "      <th>4</th>\n",
       "      <td>World Championship</td>\n",
       "      <td>BFD</td>\n",
       "      <td>510</td>\n",
       "    </tr>\n",
       "  </tbody>\n",
       "</table>\n",
       "</div>"
      ],
      "text/plain": [
       "                                 Evento Punição  Frequência\n",
       "0           Trofeo S.A.R Princesa Sofia     DNC        1892\n",
       "1                 European Championship     DNC        1135\n",
       "2  Semaine Olympique Francaise De Voile     DNC         595\n",
       "3                    World Championship     DNC         548\n",
       "4                    World Championship     BFD         510"
      ]
     },
     "execution_count": 30,
     "metadata": {},
     "output_type": "execute_result"
    }
   ],
   "source": [
    "npunicoes_por_competicao = dfProv.groupby(['Evento', 'Punição'])['Punição'].count().sort_values(ascending=False).reset_index(name='Frequência')\n",
    "npunicoes_por_competicao.head()"
   ]
  },
  {
   "cell_type": "code",
   "execution_count": 31,
   "metadata": {},
   "outputs": [
    {
     "data": {
      "text/html": [
       "<div>\n",
       "<style scoped>\n",
       "    .dataframe tbody tr th:only-of-type {\n",
       "        vertical-align: middle;\n",
       "    }\n",
       "\n",
       "    .dataframe tbody tr th {\n",
       "        vertical-align: top;\n",
       "    }\n",
       "\n",
       "    .dataframe thead th {\n",
       "        text-align: right;\n",
       "    }\n",
       "</style>\n",
       "<table border=\"1\" class=\"dataframe\">\n",
       "  <thead>\n",
       "    <tr style=\"text-align: right;\">\n",
       "      <th></th>\n",
       "      <th>Evento</th>\n",
       "      <th>Total de Punições</th>\n",
       "    </tr>\n",
       "  </thead>\n",
       "  <tbody>\n",
       "    <tr>\n",
       "      <th>0</th>\n",
       "      <td>Trofeo S.A.R Princesa Sofia</td>\n",
       "      <td>3636</td>\n",
       "    </tr>\n",
       "    <tr>\n",
       "      <th>1</th>\n",
       "      <td>European Championship</td>\n",
       "      <td>2396</td>\n",
       "    </tr>\n",
       "    <tr>\n",
       "      <th>2</th>\n",
       "      <td>World Championship</td>\n",
       "      <td>1786</td>\n",
       "    </tr>\n",
       "    <tr>\n",
       "      <th>3</th>\n",
       "      <td>Semaine Olympique Francaise De Voile</td>\n",
       "      <td>1221</td>\n",
       "    </tr>\n",
       "    <tr>\n",
       "      <th>4</th>\n",
       "      <td>Central and South American Championship</td>\n",
       "      <td>240</td>\n",
       "    </tr>\n",
       "  </tbody>\n",
       "</table>\n",
       "</div>"
      ],
      "text/plain": [
       "                                    Evento  Total de Punições\n",
       "0              Trofeo S.A.R Princesa Sofia               3636\n",
       "1                    European Championship               2396\n",
       "2                       World Championship               1786\n",
       "3     Semaine Olympique Francaise De Voile               1221\n",
       "4  Central and South American Championship                240"
      ]
     },
     "execution_count": 31,
     "metadata": {},
     "output_type": "execute_result"
    }
   ],
   "source": [
    "total_punicoes_por_competicao = dfProv.groupby(['Evento'])['Punição'].count().sort_values(ascending=False).reset_index(name='Total de Punições')\n",
    "total_punicoes_por_competicao.head()"
   ]
  },
  {
   "cell_type": "code",
   "execution_count": 32,
   "metadata": {},
   "outputs": [],
   "source": [
    "npunicoes_por_competicao = npunicoes_por_competicao.merge(total_punicoes_por_competicao, on='Evento')\n",
    "npunicoes_por_competicao['Porcentagem'] = (npunicoes_por_competicao['Frequência'] / npunicoes_por_competicao['Total de Punições']) * 100"
   ]
  },
  {
   "cell_type": "code",
   "execution_count": 33,
   "metadata": {},
   "outputs": [],
   "source": [
    "eventos = npunicoes_por_competicao['Evento'].unique().tolist()"
   ]
  },
  {
   "cell_type": "code",
   "execution_count": 34,
   "metadata": {},
   "outputs": [
    {
     "data": {
      "text/html": [
       "<div>\n",
       "<style scoped>\n",
       "    .dataframe tbody tr th:only-of-type {\n",
       "        vertical-align: middle;\n",
       "    }\n",
       "\n",
       "    .dataframe tbody tr th {\n",
       "        vertical-align: top;\n",
       "    }\n",
       "\n",
       "    .dataframe thead th {\n",
       "        text-align: right;\n",
       "    }\n",
       "</style>\n",
       "<table border=\"1\" class=\"dataframe\">\n",
       "  <thead>\n",
       "    <tr style=\"text-align: right;\">\n",
       "      <th></th>\n",
       "      <th>Evento</th>\n",
       "      <th>Punição</th>\n",
       "      <th>Frequência</th>\n",
       "      <th>Total de Punições</th>\n",
       "      <th>Porcentagem</th>\n",
       "    </tr>\n",
       "  </thead>\n",
       "  <tbody>\n",
       "    <tr>\n",
       "      <th>0</th>\n",
       "      <td>Trofeo S.A.R Princesa Sofia</td>\n",
       "      <td>DNC</td>\n",
       "      <td>1892</td>\n",
       "      <td>3636</td>\n",
       "      <td>52.035204</td>\n",
       "    </tr>\n",
       "    <tr>\n",
       "      <th>1</th>\n",
       "      <td>Trofeo S.A.R Princesa Sofia</td>\n",
       "      <td>BFD</td>\n",
       "      <td>483</td>\n",
       "      <td>3636</td>\n",
       "      <td>13.283828</td>\n",
       "    </tr>\n",
       "    <tr>\n",
       "      <th>2</th>\n",
       "      <td>Trofeo S.A.R Princesa Sofia</td>\n",
       "      <td>UFD</td>\n",
       "      <td>481</td>\n",
       "      <td>3636</td>\n",
       "      <td>13.228823</td>\n",
       "    </tr>\n",
       "    <tr>\n",
       "      <th>3</th>\n",
       "      <td>Trofeo S.A.R Princesa Sofia</td>\n",
       "      <td>STP</td>\n",
       "      <td>236</td>\n",
       "      <td>3636</td>\n",
       "      <td>6.490649</td>\n",
       "    </tr>\n",
       "    <tr>\n",
       "      <th>4</th>\n",
       "      <td>Trofeo S.A.R Princesa Sofia</td>\n",
       "      <td>DNF</td>\n",
       "      <td>203</td>\n",
       "      <td>3636</td>\n",
       "      <td>5.583058</td>\n",
       "    </tr>\n",
       "  </tbody>\n",
       "</table>\n",
       "</div>"
      ],
      "text/plain": [
       "                        Evento Punição  Frequência  Total de Punições  \\\n",
       "0  Trofeo S.A.R Princesa Sofia     DNC        1892               3636   \n",
       "1  Trofeo S.A.R Princesa Sofia     BFD         483               3636   \n",
       "2  Trofeo S.A.R Princesa Sofia     UFD         481               3636   \n",
       "3  Trofeo S.A.R Princesa Sofia     STP         236               3636   \n",
       "4  Trofeo S.A.R Princesa Sofia     DNF         203               3636   \n",
       "\n",
       "   Porcentagem  \n",
       "0    52.035204  \n",
       "1    13.283828  \n",
       "2    13.228823  \n",
       "3     6.490649  \n",
       "4     5.583058  "
      ]
     },
     "execution_count": 34,
     "metadata": {},
     "output_type": "execute_result"
    }
   ],
   "source": [
    "npunicoes_por_competicao.head()"
   ]
  },
  {
   "cell_type": "code",
   "execution_count": 35,
   "metadata": {},
   "outputs": [
    {
     "data": {
      "image/png": "[encoded data removed]",
      "text/plain": [
       "<Figure size 1400x1000 with 5 Axes>"
      ]
     },
     "metadata": {},
     "output_type": "display_data"
    }
   ],
   "source": [
    "fig, axes = plt.subplots(nrows=3, ncols=2, figsize=(14,10))\n",
    "fig.subplots_adjust(hspace=1)\n",
    "fig.suptitle('Porcentagem de punições por Evento', fontsize=16)\n",
    "fig.tight_layout(pad=3.0)\n",
    "for i, evento in enumerate(eventos):\n",
    "    ax = axes[i//2, i%2]\n",
    "    ax.set_title(evento)\n",
    "    ax.set_xlabel('Punição')\n",
    "    ax.set_ylabel('Porcentagem (%)')\n",
    "    ax.bar(npunicoes_por_competicao[npunicoes_por_competicao['Evento'] == evento]['Punição'], \n",
    "           npunicoes_por_competicao[npunicoes_por_competicao['Evento'] == evento]['Porcentagem'])\n",
    "    \n",
    "# remove last subplot\n",
    "fig.delaxes(axes[2,1])\n",
    "\n",
    "plt.show()"
   ]
  },
  {
   "cell_type": "markdown",
   "metadata": {},
   "source": [
    "### **Competidores com mais punições**"
   ]
  },
  {
   "cell_type": "code",
   "execution_count": 36,
   "metadata": {},
   "outputs": [],
   "source": [
    "# pegar o numero de regatas que o competidor correu por campeonato\n",
    "# contar em quantas regatas ele tomou punição\n",
    "# tirar a média por competidor desse percentual de regatas que ele tomou punição por campeonato"
   ]
  },
  {
   "cell_type": "code",
   "execution_count": 37,
   "metadata": {},
   "outputs": [
    {
     "data": {
      "text/html": [
       "<div>\n",
       "<style scoped>\n",
       "    .dataframe tbody tr th:only-of-type {\n",
       "        vertical-align: middle;\n",
       "    }\n",
       "\n",
       "    .dataframe tbody tr th {\n",
       "        vertical-align: top;\n",
       "    }\n",
       "\n",
       "    .dataframe thead th {\n",
       "        text-align: right;\n",
       "    }\n",
       "</style>\n",
       "<table border=\"1\" class=\"dataframe\">\n",
       "  <thead>\n",
       "    <tr style=\"text-align: right;\">\n",
       "      <th></th>\n",
       "      <th>Nome Competidor</th>\n",
       "      <th>Nome Competição</th>\n",
       "      <th>Número de Regatas</th>\n",
       "    </tr>\n",
       "  </thead>\n",
       "  <tbody>\n",
       "    <tr>\n",
       "      <th>0</th>\n",
       "      <td>ABAY BERKAY</td>\n",
       "      <td>European Championship 2022</td>\n",
       "      <td>9</td>\n",
       "    </tr>\n",
       "    <tr>\n",
       "      <th>1</th>\n",
       "      <td>ABAY BERKAY</td>\n",
       "      <td>European Championship 2023</td>\n",
       "      <td>10</td>\n",
       "    </tr>\n",
       "    <tr>\n",
       "      <th>2</th>\n",
       "      <td>ABAY BERKAY</td>\n",
       "      <td>Semaine Olympique Francaise De Voile 2022</td>\n",
       "      <td>9</td>\n",
       "    </tr>\n",
       "    <tr>\n",
       "      <th>3</th>\n",
       "      <td>ABAY BERKAY</td>\n",
       "      <td>Semaine Olympique Francaise De Voile 2023</td>\n",
       "      <td>10</td>\n",
       "    </tr>\n",
       "    <tr>\n",
       "      <th>4</th>\n",
       "      <td>ABAY BERKAY</td>\n",
       "      <td>Trofeo S.A.R Princesa Sofia 2017</td>\n",
       "      <td>10</td>\n",
       "    </tr>\n",
       "  </tbody>\n",
       "</table>\n",
       "</div>"
      ],
      "text/plain": [
       "  Nome Competidor                            Nome Competição  \\\n",
       "0     ABAY BERKAY                 European Championship 2022   \n",
       "1     ABAY BERKAY                 European Championship 2023   \n",
       "2     ABAY BERKAY  Semaine Olympique Francaise De Voile 2022   \n",
       "3     ABAY BERKAY  Semaine Olympique Francaise De Voile 2023   \n",
       "4     ABAY BERKAY           Trofeo S.A.R Princesa Sofia 2017   \n",
       "\n",
       "   Número de Regatas  \n",
       "0                  9  \n",
       "1                 10  \n",
       "2                  9  \n",
       "3                 10  \n",
       "4                 10  "
      ]
     },
     "execution_count": 37,
     "metadata": {},
     "output_type": "execute_result"
    }
   ],
   "source": [
    "nregatas_por_competidor = df.groupby(['Nome Competidor', 'Nome Competição'])['Nome Competidor'].count().reset_index(name='Número de Regatas')\n",
    "nregatas_por_competidor.head()"
   ]
  },
  {
   "cell_type": "code",
   "execution_count": 38,
   "metadata": {},
   "outputs": [
    {
     "data": {
      "text/html": [
       "<div>\n",
       "<style scoped>\n",
       "    .dataframe tbody tr th:only-of-type {\n",
       "        vertical-align: middle;\n",
       "    }\n",
       "\n",
       "    .dataframe tbody tr th {\n",
       "        vertical-align: top;\n",
       "    }\n",
       "\n",
       "    .dataframe thead th {\n",
       "        text-align: right;\n",
       "    }\n",
       "</style>\n",
       "<table border=\"1\" class=\"dataframe\">\n",
       "  <thead>\n",
       "    <tr style=\"text-align: right;\">\n",
       "      <th></th>\n",
       "      <th>Nome Competidor</th>\n",
       "      <th>Nome Competição</th>\n",
       "      <th>Número de Punições</th>\n",
       "    </tr>\n",
       "  </thead>\n",
       "  <tbody>\n",
       "    <tr>\n",
       "      <th>0</th>\n",
       "      <td>MICHELE LAURENZA</td>\n",
       "      <td>European Championship 2022</td>\n",
       "      <td>20</td>\n",
       "    </tr>\n",
       "    <tr>\n",
       "      <th>1</th>\n",
       "      <td>BRICE YRIEIX, ALBANE DUBOIS</td>\n",
       "      <td>European Championship 2016</td>\n",
       "      <td>18</td>\n",
       "    </tr>\n",
       "    <tr>\n",
       "      <th>2</th>\n",
       "      <td>YOUSSEF BEN ALI</td>\n",
       "      <td>Trofeo S.A.R Princesa Sofia 2023</td>\n",
       "      <td>16</td>\n",
       "    </tr>\n",
       "    <tr>\n",
       "      <th>3</th>\n",
       "      <td>CHAVDAR ALEKSANDROV</td>\n",
       "      <td>Trofeo S.A.R Princesa Sofia 2023</td>\n",
       "      <td>16</td>\n",
       "    </tr>\n",
       "    <tr>\n",
       "      <th>4</th>\n",
       "      <td>THOMAS CROOK</td>\n",
       "      <td>Semaine Olympique Francaise De Voile 2022</td>\n",
       "      <td>16</td>\n",
       "    </tr>\n",
       "  </tbody>\n",
       "</table>\n",
       "</div>"
      ],
      "text/plain": [
       "               Nome Competidor                            Nome Competição  \\\n",
       "0             MICHELE LAURENZA                 European Championship 2022   \n",
       "1  BRICE YRIEIX, ALBANE DUBOIS                 European Championship 2016   \n",
       "2              YOUSSEF BEN ALI           Trofeo S.A.R Princesa Sofia 2023   \n",
       "3          CHAVDAR ALEKSANDROV           Trofeo S.A.R Princesa Sofia 2023   \n",
       "4                 THOMAS CROOK  Semaine Olympique Francaise De Voile 2022   \n",
       "\n",
       "   Número de Punições  \n",
       "0                  20  \n",
       "1                  18  \n",
       "2                  16  \n",
       "3                  16  \n",
       "4                  16  "
      ]
     },
     "execution_count": 38,
     "metadata": {},
     "output_type": "execute_result"
    }
   ],
   "source": [
    "npunicoes_por_competidor = df.groupby(['Nome Competidor', 'Nome Competição'])['Punição'].count().sort_values(ascending=False).reset_index(name='Número de Punições')\n",
    "npunicoes_por_competidor.head()"
   ]
  },
  {
   "cell_type": "code",
   "execution_count": 39,
   "metadata": {},
   "outputs": [],
   "source": [
    "nregatas_por_competidor = nregatas_por_competidor.merge(npunicoes_por_competidor, on=['Nome Competidor', 'Nome Competição'])"
   ]
  },
  {
   "cell_type": "code",
   "execution_count": 40,
   "metadata": {},
   "outputs": [],
   "source": [
    "nregatas_por_competidor['Porcentagem de Punições'] = (nregatas_por_competidor['Número de Punições'] / nregatas_por_competidor['Número de Regatas']) * 100"
   ]
  },
  {
   "cell_type": "markdown",
   "metadata": {},
   "source": [
    "❗**COMO LER:** Das competições que o competidor $x$ participou, ele foi punido em média em $y\\%$ das regatas."
   ]
  },
  {
   "cell_type": "code",
   "execution_count": 41,
   "metadata": {},
   "outputs": [
    {
     "data": {
      "text/html": [
       "<div>\n",
       "<style scoped>\n",
       "    .dataframe tbody tr th:only-of-type {\n",
       "        vertical-align: middle;\n",
       "    }\n",
       "\n",
       "    .dataframe tbody tr th {\n",
       "        vertical-align: top;\n",
       "    }\n",
       "\n",
       "    .dataframe thead th {\n",
       "        text-align: right;\n",
       "    }\n",
       "</style>\n",
       "<table border=\"1\" class=\"dataframe\">\n",
       "  <thead>\n",
       "    <tr style=\"text-align: right;\">\n",
       "      <th></th>\n",
       "      <th>Nome Competidor</th>\n",
       "      <th>Média de Punições</th>\n",
       "    </tr>\n",
       "  </thead>\n",
       "  <tbody>\n",
       "    <tr>\n",
       "      <th>0</th>\n",
       "      <td>JUAN FRANCISCO ZARATE</td>\n",
       "      <td>100.0</td>\n",
       "    </tr>\n",
       "    <tr>\n",
       "      <th>1</th>\n",
       "      <td>TSOTRAS ANTONIS</td>\n",
       "      <td>100.0</td>\n",
       "    </tr>\n",
       "    <tr>\n",
       "      <th>2</th>\n",
       "      <td>GWENDAL NAEL, BREWAL NAEL</td>\n",
       "      <td>100.0</td>\n",
       "    </tr>\n",
       "    <tr>\n",
       "      <th>3</th>\n",
       "      <td>BRICE YRIEIX, ALBANE DUBOIS</td>\n",
       "      <td>100.0</td>\n",
       "    </tr>\n",
       "    <tr>\n",
       "      <th>4</th>\n",
       "      <td>EVAN SJOSTEDT, GARRETT BROWN</td>\n",
       "      <td>100.0</td>\n",
       "    </tr>\n",
       "  </tbody>\n",
       "</table>\n",
       "</div>"
      ],
      "text/plain": [
       "                Nome Competidor  Média de Punições\n",
       "0         JUAN FRANCISCO ZARATE              100.0\n",
       "1               TSOTRAS ANTONIS              100.0\n",
       "2     GWENDAL NAEL, BREWAL NAEL              100.0\n",
       "3   BRICE YRIEIX, ALBANE DUBOIS              100.0\n",
       "4  EVAN SJOSTEDT, GARRETT BROWN              100.0"
      ]
     },
     "execution_count": 41,
     "metadata": {},
     "output_type": "execute_result"
    }
   ],
   "source": [
    "media_punicoes_por_competidor = nregatas_por_competidor.groupby('Nome Competidor')['Porcentagem de Punições'].mean().sort_values(ascending=False).reset_index(name='Média de Punições')\n",
    "media_punicoes_por_competidor.head()"
   ]
  },
  {
   "cell_type": "markdown",
   "metadata": {},
   "source": [
    "### **Competidores que mais participaram / menos participaram de competições**"
   ]
  },
  {
   "cell_type": "code",
   "execution_count": 42,
   "metadata": {},
   "outputs": [
    {
     "data": {
      "text/html": [
       "<div>\n",
       "<style scoped>\n",
       "    .dataframe tbody tr th:only-of-type {\n",
       "        vertical-align: middle;\n",
       "    }\n",
       "\n",
       "    .dataframe tbody tr th {\n",
       "        vertical-align: top;\n",
       "    }\n",
       "\n",
       "    .dataframe thead th {\n",
       "        text-align: right;\n",
       "    }\n",
       "</style>\n",
       "<table border=\"1\" class=\"dataframe\">\n",
       "  <thead>\n",
       "    <tr style=\"text-align: right;\">\n",
       "      <th></th>\n",
       "      <th>Nome Competidor</th>\n",
       "      <th>Número de Competições</th>\n",
       "    </tr>\n",
       "  </thead>\n",
       "  <tbody>\n",
       "    <tr>\n",
       "      <th>1188</th>\n",
       "      <td>HELENE NAESS, MARIE RONNINGEN</td>\n",
       "      <td>25</td>\n",
       "    </tr>\n",
       "    <tr>\n",
       "      <th>20</th>\n",
       "      <td>AGATA BARWINSKA</td>\n",
       "      <td>24</td>\n",
       "    </tr>\n",
       "    <tr>\n",
       "      <th>2133</th>\n",
       "      <td>MAXIME JONKER</td>\n",
       "      <td>23</td>\n",
       "    </tr>\n",
       "    <tr>\n",
       "      <th>2177</th>\n",
       "      <td>MICHON PERNELLE</td>\n",
       "      <td>23</td>\n",
       "    </tr>\n",
       "    <tr>\n",
       "      <th>3045</th>\n",
       "      <td>VIKTORIJA ANDRULYTE</td>\n",
       "      <td>23</td>\n",
       "    </tr>\n",
       "    <tr>\n",
       "      <th>842</th>\n",
       "      <td>EMMA PLASSCHAERT</td>\n",
       "      <td>22</td>\n",
       "    </tr>\n",
       "    <tr>\n",
       "      <th>939</th>\n",
       "      <td>FILIP JURISIC</td>\n",
       "      <td>22</td>\n",
       "    </tr>\n",
       "    <tr>\n",
       "      <th>770</th>\n",
       "      <td>ECEM GUZEL</td>\n",
       "      <td>22</td>\n",
       "    </tr>\n",
       "    <tr>\n",
       "      <th>3007</th>\n",
       "      <td>VASILEIA KARACHALIOU</td>\n",
       "      <td>22</td>\n",
       "    </tr>\n",
       "    <tr>\n",
       "      <th>1833</th>\n",
       "      <td>LUCIA FALASCA</td>\n",
       "      <td>22</td>\n",
       "    </tr>\n",
       "  </tbody>\n",
       "</table>\n",
       "</div>"
      ],
      "text/plain": [
       "                    Nome Competidor  Número de Competições\n",
       "1188  HELENE NAESS, MARIE RONNINGEN                     25\n",
       "20                  AGATA BARWINSKA                     24\n",
       "2133                  MAXIME JONKER                     23\n",
       "2177                MICHON PERNELLE                     23\n",
       "3045            VIKTORIJA ANDRULYTE                     23\n",
       "842                EMMA PLASSCHAERT                     22\n",
       "939                   FILIP JURISIC                     22\n",
       "770                      ECEM GUZEL                     22\n",
       "3007           VASILEIA KARACHALIOU                     22\n",
       "1833                  LUCIA FALASCA                     22"
      ]
     },
     "execution_count": 42,
     "metadata": {},
     "output_type": "execute_result"
    }
   ],
   "source": [
    "ncompetitions_por_competidor = df.groupby('Nome Competidor')['Nome Competição'].nunique().reset_index(name='Número de Competições').sort_values(by='Número de Competições', ascending=False)\n",
    "ncompetitions_por_competidor.head(10)"
   ]
  },
  {
   "cell_type": "code",
   "execution_count": 43,
   "metadata": {},
   "outputs": [
    {
     "data": {
      "text/plain": [
       "array(['Ilca 6'], dtype=object)"
      ]
     },
     "execution_count": 43,
     "metadata": {},
     "output_type": "execute_result"
    }
   ],
   "source": [
    "df.query('`Nome Competidor` == \"AGATA BARWINSKA\"')[\"Classe Vela\"].unique()"
   ]
  },
  {
   "cell_type": "code",
   "execution_count": 44,
   "metadata": {},
   "outputs": [
    {
     "data": {
      "text/plain": [
       "array(['49erFX'], dtype=object)"
      ]
     },
     "execution_count": 44,
     "metadata": {},
     "output_type": "execute_result"
    }
   ],
   "source": [
    "df.query('`Nome Competidor` == \"HELENE NAESS, MARIE RONNINGEN\"')[\"Classe Vela\"].unique()"
   ]
  },
  {
   "cell_type": "code",
   "execution_count": 45,
   "metadata": {},
   "outputs": [
    {
     "data": {
      "text/plain": [
       "array(['Ilca 6'], dtype=object)"
      ]
     },
     "execution_count": 45,
     "metadata": {},
     "output_type": "execute_result"
    }
   ],
   "source": [
    "df.query('`Nome Competidor` == \"VASILEIA KARACHALIOU\"')[\"Classe Vela\"].unique()"
   ]
  },
  {
   "cell_type": "code",
   "execution_count": 46,
   "metadata": {},
   "outputs": [
    {
     "name": "stdout",
     "output_type": "stream",
     "text": [
      "O número médio de competições por competidor é: 3.67\n",
      "1237 competidores participaram de apenas uma competição\n"
     ]
    }
   ],
   "source": [
    "print(\"O número médio de competições por competidor é: {}\".format(ncompetitions_por_competidor['Número de Competições'].mean().round(2)))\n",
    "print(\"{} competidores participaram de apenas uma competição\".format(len(ncompetitions_por_competidor.query('`Número de Competições` == 1'))))"
   ]
  },
  {
   "cell_type": "markdown",
   "metadata": {},
   "source": [
    "#### **Hipótese:** competidores que participaram apenas uma competição teriam desistido do esporte por terem obtido um número alto de punições. \n",
    "\n",
    "❗ Os competidores que participaram de **apenas uma competição** só foram punidos, em média, em **13.2%** das regatas que participaram.\n",
    "\n",
    "❗ Os competidores que participaram de **mais de uma competição** foram punidos em média em **7.26%**."
   ]
  },
  {
   "cell_type": "code",
   "execution_count": 47,
   "metadata": {},
   "outputs": [
    {
     "data": {
      "text/html": [
       "<div>\n",
       "<style scoped>\n",
       "    .dataframe tbody tr th:only-of-type {\n",
       "        vertical-align: middle;\n",
       "    }\n",
       "\n",
       "    .dataframe tbody tr th {\n",
       "        vertical-align: top;\n",
       "    }\n",
       "\n",
       "    .dataframe thead th {\n",
       "        text-align: right;\n",
       "    }\n",
       "</style>\n",
       "<table border=\"1\" class=\"dataframe\">\n",
       "  <thead>\n",
       "    <tr style=\"text-align: right;\">\n",
       "      <th></th>\n",
       "      <th>Nome Competidor</th>\n",
       "      <th>Número de Competições</th>\n",
       "      <th>Média de Punições</th>\n",
       "    </tr>\n",
       "  </thead>\n",
       "  <tbody>\n",
       "    <tr>\n",
       "      <th>2367</th>\n",
       "      <td>DANI CARDONA</td>\n",
       "      <td>1</td>\n",
       "      <td>100.0</td>\n",
       "    </tr>\n",
       "    <tr>\n",
       "      <th>2142</th>\n",
       "      <td>XIAONI CHEN</td>\n",
       "      <td>1</td>\n",
       "      <td>100.0</td>\n",
       "    </tr>\n",
       "    <tr>\n",
       "      <th>2541</th>\n",
       "      <td>BENNET STEFFENS, MORITZ BLOCK</td>\n",
       "      <td>1</td>\n",
       "      <td>100.0</td>\n",
       "    </tr>\n",
       "    <tr>\n",
       "      <th>2320</th>\n",
       "      <td>EVAN SJOSTEDT, GARRETT BROWN</td>\n",
       "      <td>1</td>\n",
       "      <td>100.0</td>\n",
       "    </tr>\n",
       "    <tr>\n",
       "      <th>2410</th>\n",
       "      <td>GIORGIO CAIOZZI</td>\n",
       "      <td>1</td>\n",
       "      <td>100.0</td>\n",
       "    </tr>\n",
       "    <tr>\n",
       "      <th>...</th>\n",
       "      <td>...</td>\n",
       "      <td>...</td>\n",
       "      <td>...</td>\n",
       "    </tr>\n",
       "    <tr>\n",
       "      <th>2495</th>\n",
       "      <td>FRANCISCO PICCINI, TOMAS WAGMAISTER</td>\n",
       "      <td>1</td>\n",
       "      <td>0.0</td>\n",
       "    </tr>\n",
       "    <tr>\n",
       "      <th>2496</th>\n",
       "      <td>ALDERS KULYNYCH-IRVIN</td>\n",
       "      <td>1</td>\n",
       "      <td>0.0</td>\n",
       "    </tr>\n",
       "    <tr>\n",
       "      <th>2497</th>\n",
       "      <td>FRANCISCO GOMEZ</td>\n",
       "      <td>1</td>\n",
       "      <td>0.0</td>\n",
       "    </tr>\n",
       "    <tr>\n",
       "      <th>2498</th>\n",
       "      <td>FRANCESCO CAPPUZZO</td>\n",
       "      <td>1</td>\n",
       "      <td>0.0</td>\n",
       "    </tr>\n",
       "    <tr>\n",
       "      <th>3169</th>\n",
       "      <td>KELLY MCMURRAY</td>\n",
       "      <td>1</td>\n",
       "      <td>0.0</td>\n",
       "    </tr>\n",
       "  </tbody>\n",
       "</table>\n",
       "<p>1237 rows × 3 columns</p>\n",
       "</div>"
      ],
      "text/plain": [
       "                          Nome Competidor  Número de Competições  \\\n",
       "2367                         DANI CARDONA                      1   \n",
       "2142                          XIAONI CHEN                      1   \n",
       "2541        BENNET STEFFENS, MORITZ BLOCK                      1   \n",
       "2320         EVAN SJOSTEDT, GARRETT BROWN                      1   \n",
       "2410                      GIORGIO CAIOZZI                      1   \n",
       "...                                   ...                    ...   \n",
       "2495  FRANCISCO PICCINI, TOMAS WAGMAISTER                      1   \n",
       "2496                ALDERS KULYNYCH-IRVIN                      1   \n",
       "2497                      FRANCISCO GOMEZ                      1   \n",
       "2498                   FRANCESCO CAPPUZZO                      1   \n",
       "3169                       KELLY MCMURRAY                      1   \n",
       "\n",
       "      Média de Punições  \n",
       "2367              100.0  \n",
       "2142              100.0  \n",
       "2541              100.0  \n",
       "2320              100.0  \n",
       "2410              100.0  \n",
       "...                 ...  \n",
       "2495                0.0  \n",
       "2496                0.0  \n",
       "2497                0.0  \n",
       "2498                0.0  \n",
       "3169                0.0  \n",
       "\n",
       "[1237 rows x 3 columns]"
      ]
     },
     "execution_count": 47,
     "metadata": {},
     "output_type": "execute_result"
    }
   ],
   "source": [
    "ncompetitions_por_competidor = ncompetitions_por_competidor.merge(media_punicoes_por_competidor, on='Nome Competidor')\n",
    "ncompetitions_por_competidor.query('`Número de Competições` == 1').sort_values(by='Média de Punições', ascending=False)"
   ]
  },
  {
   "cell_type": "code",
   "execution_count": 48,
   "metadata": {},
   "outputs": [
    {
     "data": {
      "text/plain": [
       "13.768783399828623"
      ]
     },
     "execution_count": 48,
     "metadata": {},
     "output_type": "execute_result"
    }
   ],
   "source": [
    "ncompetitions_por_competidor.query('`Número de Competições` == 1').sort_values(by='Média de Punições', ascending=False)[\"Média de Punições\"].mean()"
   ]
  },
  {
   "cell_type": "code",
   "execution_count": 49,
   "metadata": {},
   "outputs": [
    {
     "data": {
      "text/plain": [
       "7.463219154271734"
      ]
     },
     "execution_count": 49,
     "metadata": {},
     "output_type": "execute_result"
    }
   ],
   "source": [
    "ncompetitions_por_competidor.query('`Número de Competições` > 1').sort_values(by='Média de Punições', ascending=False)[\"Média de Punições\"].mean()"
   ]
  },
  {
   "cell_type": "markdown",
   "metadata": {},
   "source": [
    "### **Competidores que mais variaram de classe**"
   ]
  },
  {
   "cell_type": "code",
   "execution_count": 50,
   "metadata": {},
   "outputs": [
    {
     "data": {
      "text/html": [
       "<div>\n",
       "<style scoped>\n",
       "    .dataframe tbody tr th:only-of-type {\n",
       "        vertical-align: middle;\n",
       "    }\n",
       "\n",
       "    .dataframe tbody tr th {\n",
       "        vertical-align: top;\n",
       "    }\n",
       "\n",
       "    .dataframe thead th {\n",
       "        text-align: right;\n",
       "    }\n",
       "</style>\n",
       "<table border=\"1\" class=\"dataframe\">\n",
       "  <thead>\n",
       "    <tr style=\"text-align: right;\">\n",
       "      <th></th>\n",
       "      <th>Nome Competidor</th>\n",
       "      <th>Número de Classes</th>\n",
       "    </tr>\n",
       "  </thead>\n",
       "  <tbody>\n",
       "    <tr>\n",
       "      <th>415</th>\n",
       "      <td>BRUNO GRUNWALDT</td>\n",
       "      <td>2</td>\n",
       "    </tr>\n",
       "    <tr>\n",
       "      <th>1739</th>\n",
       "      <td>LENA HAVERLAND</td>\n",
       "      <td>2</td>\n",
       "    </tr>\n",
       "    <tr>\n",
       "      <th>255</th>\n",
       "      <td>ARIEL ZERPA</td>\n",
       "      <td>2</td>\n",
       "    </tr>\n",
       "    <tr>\n",
       "      <th>1956</th>\n",
       "      <td>MARIA ASHIDA</td>\n",
       "      <td>2</td>\n",
       "    </tr>\n",
       "    <tr>\n",
       "      <th>859</th>\n",
       "      <td>ERICK CARPES</td>\n",
       "      <td>2</td>\n",
       "    </tr>\n",
       "    <tr>\n",
       "      <th>2428</th>\n",
       "      <td>PEDRO MADUREIRA</td>\n",
       "      <td>2</td>\n",
       "    </tr>\n",
       "    <tr>\n",
       "      <th>466</th>\n",
       "      <td>CARLOS TOMAS GABASIO</td>\n",
       "      <td>2</td>\n",
       "    </tr>\n",
       "    <tr>\n",
       "      <th>59</th>\n",
       "      <td>ALCIR CACHAPUZ</td>\n",
       "      <td>2</td>\n",
       "    </tr>\n",
       "    <tr>\n",
       "      <th>652</th>\n",
       "      <td>DANIEL SELF</td>\n",
       "      <td>2</td>\n",
       "    </tr>\n",
       "    <tr>\n",
       "      <th>1932</th>\n",
       "      <td>MARCELO FREZZA</td>\n",
       "      <td>2</td>\n",
       "    </tr>\n",
       "  </tbody>\n",
       "</table>\n",
       "</div>"
      ],
      "text/plain": [
       "           Nome Competidor  Número de Classes\n",
       "415        BRUNO GRUNWALDT                  2\n",
       "1739        LENA HAVERLAND                  2\n",
       "255            ARIEL ZERPA                  2\n",
       "1956          MARIA ASHIDA                  2\n",
       "859           ERICK CARPES                  2\n",
       "2428       PEDRO MADUREIRA                  2\n",
       "466   CARLOS TOMAS GABASIO                  2\n",
       "59          ALCIR CACHAPUZ                  2\n",
       "652            DANIEL SELF                  2\n",
       "1932        MARCELO FREZZA                  2"
      ]
     },
     "execution_count": 50,
     "metadata": {},
     "output_type": "execute_result"
    }
   ],
   "source": [
    "nclasses_por_competidor = df.groupby('Nome Competidor')['Classe Vela'].nunique().reset_index(name='Número de Classes').sort_values(by='Número de Classes', ascending=False)\n",
    "nclasses_por_competidor.head(10)"
   ]
  },
  {
   "cell_type": "markdown",
   "metadata": {},
   "source": [
    "❗**Os competidores passaram por no máximo 2 classes diferentes**. Vários dos homens que passaram por duas classes diferentes competiram pelo Ilca 6 e Ilca 7"
   ]
  },
  {
   "cell_type": "code",
   "execution_count": 51,
   "metadata": {},
   "outputs": [
    {
     "name": "stdout",
     "output_type": "stream",
     "text": [
      "O número de competidores que competiram por uma única classe 3130\n",
      "O número de competidores que já competiram por duas classes diferentes é 40\n"
     ]
    }
   ],
   "source": [
    "print(\"O número de competidores que competiram por uma única classe {}\".format(len(nclasses_por_competidor.query('`Número de Classes` == 1'))))\n",
    "print(\"O número de competidores que já competiram por duas classes diferentes é {}\".format(len(nclasses_por_competidor.query('`Número de Classes` == 2'))))"
   ]
  },
  {
   "cell_type": "code",
   "execution_count": 52,
   "metadata": {},
   "outputs": [
    {
     "data": {
      "text/plain": [
       "array(['Ilca 6', 'Formula Kite Fem.'], dtype=object)"
      ]
     },
     "execution_count": 52,
     "metadata": {},
     "output_type": "execute_result"
    }
   ],
   "source": [
    "df.query('`Nome Competidor` == \"MARIA ASHIDA\"')[\"Classe Vela\"].unique()"
   ]
  },
  {
   "cell_type": "code",
   "execution_count": 53,
   "metadata": {},
   "outputs": [
    {
     "data": {
      "text/plain": [
       "array(['Ilca 7', 'Ilca 6'], dtype=object)"
      ]
     },
     "execution_count": 53,
     "metadata": {},
     "output_type": "execute_result"
    }
   ],
   "source": [
    "df.query('`Nome Competidor` == \"NICK GRAEL\"')[\"Classe Vela\"].unique()"
   ]
  },
  {
   "cell_type": "markdown",
   "metadata": {},
   "source": [
    "---"
   ]
  },
  {
   "cell_type": "markdown",
   "metadata": {},
   "source": [
    "### **Rotatividade das competições (2021-2023)**"
   ]
  },
  {
   "cell_type": "code",
   "execution_count": 530,
   "metadata": {},
   "outputs": [],
   "source": [
    "df = pd.read_excel('../data/final_data.xlsx')"
   ]
  },
  {
   "cell_type": "code",
   "execution_count": 531,
   "metadata": {},
   "outputs": [],
   "source": [
    "import plotly.express as px"
   ]
  },
  {
   "cell_type": "code",
   "execution_count": 534,
   "metadata": {},
   "outputs": [],
   "source": [
    "def graph_ja_competiu(df, campeonatos, quando=\"ano_anterior\", classe: list = None):\n",
    "    dfFinal = pd.DataFrame()\n",
    "    dfProv = df.copy()\n",
    "    classes_copy = classe.copy()\n",
    "\n",
    "    if quando == \"qualquer_ano\":\n",
    "        historico_competidores = []\n",
    "    \n",
    "    if classe is not None:\n",
    "        df = df[df['Classe Vela'].isin(classe)]\n",
    "    \n",
    "    for classe in df['Classe Vela'].unique().tolist():\n",
    "        # para cada campeonato\n",
    "        for campeonato in campeonatos:\n",
    "            \n",
    "            # se for o primeiro da lista, usa como baseline\n",
    "            if campeonato == campeonatos[0]:\n",
    "                flt = df['Nome Competição'] == campeonato\n",
    "                dfProv = df[flt]\n",
    "\n",
    "                # se for o ano anterior\n",
    "                if quando == \"ano_anterior\":\n",
    "                    # pega os competidores do ano anterior\n",
    "                    competidores_ano_anterior = dfProv['Nome Competidor'].unique().tolist()\n",
    "                # se for qualquer ano\n",
    "                elif quando == \"qualquer_ano\":\n",
    "                    # adiciona na lista historica de competidores\n",
    "                    historico_competidores = dfProv['Nome Competidor'].unique().tolist()\n",
    "\n",
    "            # caso contrário\n",
    "            else:\n",
    "                flt = df['Nome Competição'] == campeonato\n",
    "                dfProv = df[flt]\n",
    "                dfProv = dfProv[[\"ID Competidor\", \"Nome Competidor\", \"Classe Vela\", \"Nome Competição\"]].drop_duplicates()\n",
    "\n",
    "                if quando == \"ano_anterior\":\n",
    "                    competiu_ano_anterior = []\n",
    "                    # checa se o competidor competiu no ano anterior\n",
    "                    for competidor in dfProv['Nome Competidor']:\n",
    "                        if competidor in competidores_ano_anterior:\n",
    "                            # adiciona 1 se competiu no ano anterior\n",
    "                            competiu_ano_anterior.append(1)\n",
    "                        else:\n",
    "                            # adiciona 0 se não competiu no ano anterior\n",
    "                            competiu_ano_anterior.append(0)\n",
    "                    \n",
    "                    # adiciona a coluna de competiu no ano anterior\n",
    "                    dfProv['Competiu no ano anterior'] = competiu_ano_anterior\n",
    "\n",
    "                    # atualiza a lista de competidores do ano anterior\n",
    "                    competidores_ano_anterior = dfProv['Nome Competidor'].unique().tolist()\n",
    "                \n",
    "                elif quando == \"qualquer_ano\":\n",
    "                    competiu_qualquer_ano = []\n",
    "                    # checa se o competidor competiu em qualquer ano\n",
    "                    for competidor in dfProv['Nome Competidor']:\n",
    "                        if competidor in historico_competidores:\n",
    "                            # adiciona 1 se competiu em qualquer ano\n",
    "                            competiu_qualquer_ano.append(1)\n",
    "                        else:\n",
    "                            # adiciona 0 se não competiu em qualquer ano\n",
    "                            competiu_qualquer_ano.append(0)\n",
    "\n",
    "                    # adiciona a coluna de competiu em qualquer ano\n",
    "                    dfProv['Competiu em qualquer ano'] = competiu_qualquer_ano\n",
    "\n",
    "                    # atualiza a lista de competidores do ano anterior, sem usar append\n",
    "                    for competidor in dfProv['Nome Competidor'].unique().tolist():\n",
    "                        historico_competidores.append(competidor)\n",
    "\n",
    "                    historico_competidores = list(set(historico_competidores))\n",
    "\n",
    "                    #print(historico_competidores)\n",
    "\n",
    "                # concatena o df provisorio com o dfFinal\n",
    "                dfFinal = pd.concat([dfFinal, dfProv])\n",
    "\n",
    "    if classe is not None:\n",
    "        if quando == \"ano_anterior\":\n",
    "            # calcula a porcentagem de competidores que competiram no ano anterior\n",
    "            dfFinal = dfFinal.groupby(\"Nome Competição\", \"Classe Vela\")[\"Competiu no ano anterior\"]\\\n",
    "                            .value_counts(normalize=True)\\\n",
    "                            .reset_index(name=\"Porcentagem\")\n",
    "            \n",
    "            dfFinal[\"Porcentagem\"] = dfFinal[\"Porcentagem\"] * 100\n",
    "        \n",
    "        elif quando == \"qualquer_ano\":\n",
    "            # calcula a porcentagem de competidores que competiram no ano anterior\n",
    "            dfFinal = dfFinal.groupby([\"Nome Competição\", \"Classe Vela\"])[\"Competiu em qualquer ano\"]\\\n",
    "                            .value_counts(normalize=True)\\\n",
    "                            .reset_index(name=\"Porcentagem\")\n",
    "            \n",
    "            dfFinal[\"Porcentagem\"] = dfFinal[\"Porcentagem\"] * 100\n",
    "        \n",
    "    else:\n",
    "        if quando == \"ano_anterior\":\n",
    "            # calcula a porcentagem de competidores que competiram no ano anterior\n",
    "            dfFinal = dfFinal.groupby(\"Nome Competição\")[\"Competiu no ano anterior\"]\\\n",
    "                            .value_counts(normalize=True)\\\n",
    "                            .reset_index(name=\"Porcentagem\")\n",
    "            \n",
    "            dfFinal[\"Porcentagem\"] = dfFinal[\"Porcentagem\"] * 100\n",
    "        \n",
    "        elif quando == \"qualquer_ano\":\n",
    "            # calcula a porcentagem de competidores que competiram no ano anterior\n",
    "            dfFinal = dfFinal.groupby(\"Nome Competição\")[\"Competiu em qualquer ano\"]\\\n",
    "                            .value_counts(normalize=True)\\\n",
    "                            .reset_index(name=\"Porcentagem\")\n",
    "            \n",
    "            dfFinal[\"Porcentagem\"] = dfFinal[\"Porcentagem\"] * 100\n",
    "        \n",
    "\n",
    "    if quando == \"ano_anterior\":\n",
    "        title_ = 'Porcentagem de competidores que competiram no ano anterior'\n",
    "        hue_ = \"Competiu no ano anterior\"\n",
    "    \n",
    "    elif quando == \"qualquer_ano\":\n",
    "        title_ = 'Porcentagem de competidores que competiram em qualquer ano anterior'\n",
    "        hue_ = \"Competiu em qualquer ano\"\n",
    "        \n",
    "    change_names = {\n",
    "        'World Championship 2015': 'WC 2015',\n",
    "        'World Championship 2016': 'WC 2016',\n",
    "        'World Championship 2017': 'WC 2017',\n",
    "        'World Championship 2018': 'WC 2018',\n",
    "        'World Championship 2019': 'WC 2019',\n",
    "        'World Championship 2020': 'WC 2020',\n",
    "        'World Championship 2021': 'WC 2021',\n",
    "        'World Championship 2022': 'WC 2022',\n",
    "        'World Championship 2023': 'WC 2023'\n",
    "    }\n",
    "    \n",
    "    dfFinal['Nome Competição'] = dfFinal['Nome Competição'].replace(change_names)\n",
    "    dfFinal[hue_] = dfFinal[hue_].replace({0: 'Não competiu', 1: 'Competiu'})\n",
    "    \n",
    "    if classe is not None:\n",
    "        fig = px.bar(dfFinal, \n",
    "                     x=\"Nome Competição\", \n",
    "                     y=\"Porcentagem\", \n",
    "                     color=hue_, \n",
    "                     color_discrete_sequence=['#003276', '#FBA00A'],\n",
    "                     barmode=\"stack\", \n",
    "                     facet_col=\"Classe Vela\",\n",
    "                     facet_col_wrap=2,\n",
    "                     facet_row_spacing=0.1,\n",
    "                     title=title_, \n",
    "                     category_orders={\"Classe Vela\": classes_copy},\n",
    "                     labels={'Competiu em qualquer ano': ''})\n",
    "    \n",
    "        fig.update_layout(width = 1250, height = 800, plot_bgcolor = 'white', paper_bgcolor = 'white')\n",
    "        fig.for_each_annotation(lambda a: a.update(text=a.text.split(\"=\")[-1]))\n",
    "        fig.update_xaxes(showline=True, linewidth=1, linecolor='black', mirror=True)\n",
    "        fig.update_yaxes(showline=True, linewidth=1, linecolor='black', mirror=True)\n",
    "        \n",
    "        # increase title size and color\n",
    "        fig.update_layout(title_font_size=20, title_font_color='black', title_x=0.5)\n",
    "        \n",
    "        # show x-axis labels for all subplots\n",
    "        fig.update_xaxes(showticklabels=True)\n",
    "        \n",
    "        # increase size of annotations\n",
    "        fig.update_layout(annotations = [dict(xref='paper', yref='paper',showarrow=False, font=dict(size=15))])\n",
    "        \n",
    "        fig.show()"
   ]
  },
  {
   "cell_type": "code",
   "execution_count": 535,
   "metadata": {},
   "outputs": [
    {
     "data": {
      "application/vnd.plotly.v1+json": {
       "config": {
        "plotlyServerURL": "https://plot.ly"
       },
       "data": [
        {
         "alignmentgroup": "True",
         "hovertemplate": "=Competiu<br>Classe Vela=Ilca 7<br>Nome Competição=%{x}<br>Porcentagem=%{y}<extra></extra>",
         "legendgroup": "Competiu",
         "marker": {
          "color": "#003276",
          "pattern": {
           "shape": ""
          }
         },
         "name": "Competiu",
         "offsetgroup": "Competiu",
         "orientation": "v",
         "showlegend": true,
         "textposition": "auto",
         "type": "bar",
         "x": [
          "WC 2016",
          "WC 2017",
          "WC 2018",
          "WC 2019",
          "WC 2020",
          "WC 2021",
          "WC 2022",
          "WC 2023"
         ],
         "xaxis": "x3",
         "y": [
          70.53571428571429,
          57.14285714285714,
          75.75757575757575,
          77.56410256410257,
          79.03225806451613,
          57.03703703703704,
          83.33333333333334,
          78.98550724637681
         ],
         "yaxis": "y3"
        },
        {
         "alignmentgroup": "True",
         "hovertemplate": "=Competiu<br>Classe Vela=Ilca 6<br>Nome Competição=%{x}<br>Porcentagem=%{y}<extra></extra>",
         "legendgroup": "Competiu",
         "marker": {
          "color": "#003276",
          "pattern": {
           "shape": ""
          }
         },
         "name": "Competiu",
         "offsetgroup": "Competiu",
         "orientation": "v",
         "showlegend": false,
         "textposition": "auto",
         "type": "bar",
         "x": [
          "WC 2016",
          "WC 2017",
          "WC 2018",
          "WC 2019",
          "WC 2020",
          "WC 2021",
          "WC 2022",
          "WC 2023"
         ],
         "xaxis": "x4",
         "y": [
          73.23943661971832,
          61.61616161616161,
          71.42857142857143,
          81.08108108108108,
          75.23809523809524,
          68.25396825396825,
          81.17647058823529,
          84.54545454545455
         ],
         "yaxis": "y4"
        },
        {
         "alignmentgroup": "True",
         "hovertemplate": "=Competiu<br>Classe Vela=49er<br>Nome Competição=%{x}<br>Porcentagem=%{y}<extra></extra>",
         "legendgroup": "Competiu",
         "marker": {
          "color": "#003276",
          "pattern": {
           "shape": ""
          }
         },
         "name": "Competiu",
         "offsetgroup": "Competiu",
         "orientation": "v",
         "showlegend": false,
         "textposition": "auto",
         "type": "bar",
         "x": [
          "WC 2016",
          "WC 2017",
          "WC 2018",
          "WC 2019",
          "WC 2020",
          "WC 2021",
          "WC 2022",
          "WC 2023"
         ],
         "xaxis": "x",
         "y": [
          58.82352941176471,
          10,
          23.25581395348837,
          51.13636363636363,
          83.33333333333334,
          58.333333333333336,
          60,
          48.148148148148145
         ],
         "yaxis": "y"
        },
        {
         "alignmentgroup": "True",
         "hovertemplate": "=Competiu<br>Classe Vela=49erFX<br>Nome Competição=%{x}<br>Porcentagem=%{y}<extra></extra>",
         "legendgroup": "Competiu",
         "marker": {
          "color": "#003276",
          "pattern": {
           "shape": ""
          }
         },
         "name": "Competiu",
         "offsetgroup": "Competiu",
         "orientation": "v",
         "showlegend": false,
         "textposition": "auto",
         "type": "bar",
         "x": [
          "WC 2016",
          "WC 2017",
          "WC 2018",
          "WC 2019",
          "WC 2020",
          "WC 2021",
          "WC 2022",
          "WC 2023"
         ],
         "xaxis": "x2",
         "y": [
          76.19047619047619,
          9.090909090909092,
          28.333333333333332,
          65.57377049180327,
          95.45454545454545,
          40.909090909090914,
          41.66666666666667,
          48.275862068965516
         ],
         "yaxis": "y2"
        },
        {
         "alignmentgroup": "True",
         "hovertemplate": "=Não competiu<br>Classe Vela=Ilca 7<br>Nome Competição=%{x}<br>Porcentagem=%{y}<extra></extra>",
         "legendgroup": "Não competiu",
         "marker": {
          "color": "#FBA00A",
          "pattern": {
           "shape": ""
          }
         },
         "name": "Não competiu",
         "offsetgroup": "Não competiu",
         "orientation": "v",
         "showlegend": true,
         "textposition": "auto",
         "type": "bar",
         "x": [
          "WC 2016",
          "WC 2017",
          "WC 2018",
          "WC 2019",
          "WC 2020",
          "WC 2021",
          "WC 2022",
          "WC 2023"
         ],
         "xaxis": "x3",
         "y": [
          29.464285714285715,
          42.857142857142854,
          24.242424242424242,
          22.435897435897438,
          20.967741935483872,
          42.96296296296296,
          16.666666666666664,
          21.014492753623188
         ],
         "yaxis": "y3"
        },
        {
         "alignmentgroup": "True",
         "hovertemplate": "=Não competiu<br>Classe Vela=Ilca 6<br>Nome Competição=%{x}<br>Porcentagem=%{y}<extra></extra>",
         "legendgroup": "Não competiu",
         "marker": {
          "color": "#FBA00A",
          "pattern": {
           "shape": ""
          }
         },
         "name": "Não competiu",
         "offsetgroup": "Não competiu",
         "orientation": "v",
         "showlegend": false,
         "textposition": "auto",
         "type": "bar",
         "x": [
          "WC 2016",
          "WC 2017",
          "WC 2018",
          "WC 2019",
          "WC 2020",
          "WC 2021",
          "WC 2022",
          "WC 2023"
         ],
         "xaxis": "x4",
         "y": [
          26.76056338028169,
          38.38383838383838,
          28.57142857142857,
          18.91891891891892,
          24.761904761904763,
          31.746031746031743,
          18.823529411764707,
          15.454545454545453
         ],
         "yaxis": "y4"
        },
        {
         "alignmentgroup": "True",
         "hovertemplate": "=Não competiu<br>Classe Vela=49er<br>Nome Competição=%{x}<br>Porcentagem=%{y}<extra></extra>",
         "legendgroup": "Não competiu",
         "marker": {
          "color": "#FBA00A",
          "pattern": {
           "shape": ""
          }
         },
         "name": "Não competiu",
         "offsetgroup": "Não competiu",
         "orientation": "v",
         "showlegend": false,
         "textposition": "auto",
         "type": "bar",
         "x": [
          "WC 2016",
          "WC 2017",
          "WC 2018",
          "WC 2019",
          "WC 2020",
          "WC 2021",
          "WC 2022",
          "WC 2023"
         ],
         "xaxis": "x",
         "y": [
          41.17647058823529,
          90,
          76.74418604651163,
          48.86363636363637,
          16.666666666666664,
          41.66666666666667,
          40,
          51.85185185185185
         ],
         "yaxis": "y"
        },
        {
         "alignmentgroup": "True",
         "hovertemplate": "=Não competiu<br>Classe Vela=49erFX<br>Nome Competição=%{x}<br>Porcentagem=%{y}<extra></extra>",
         "legendgroup": "Não competiu",
         "marker": {
          "color": "#FBA00A",
          "pattern": {
           "shape": ""
          }
         },
         "name": "Não competiu",
         "offsetgroup": "Não competiu",
         "orientation": "v",
         "showlegend": false,
         "textposition": "auto",
         "type": "bar",
         "x": [
          "WC 2016",
          "WC 2017",
          "WC 2018",
          "WC 2019",
          "WC 2020",
          "WC 2021",
          "WC 2022",
          "WC 2023"
         ],
         "xaxis": "x2",
         "y": [
          23.809523809523807,
          90.9090909090909,
          71.66666666666667,
          34.42622950819672,
          4.545454545454546,
          59.09090909090909,
          58.333333333333336,
          51.724137931034484
         ],
         "yaxis": "y2"
        }
       ],
       "layout": {
        "annotations": [
         {
          "font": {
           "size": 15
          },
          "showarrow": false,
          "text": "49er",
          "x": 0.245,
          "xanchor": "center",
          "xref": "paper",
          "y": 0.45,
          "yanchor": "bottom",
          "yref": "paper"
         },
         {
          "font": {
           "size": 15
          },
          "showarrow": false,
          "text": "49erFX",
          "x": 0.755,
          "xanchor": "center",
          "xref": "paper",
          "y": 0.45,
          "yanchor": "bottom",
          "yref": "paper"
         },
         {
          "font": {
           "size": 15
          },
          "showarrow": false,
          "text": "Ilca 7",
          "x": 0.245,
          "xanchor": "center",
          "xref": "paper",
          "y": 1,
          "yanchor": "bottom",
          "yref": "paper"
         },
         {
          "font": {
           "size": 15
          },
          "showarrow": false,
          "text": "Ilca 6",
          "x": 0.755,
          "xanchor": "center",
          "xref": "paper",
          "y": 1,
          "yanchor": "bottom",
          "yref": "paper"
         }
        ],
        "barmode": "stack",
        "height": 800,
        "legend": {
         "title": {
          "text": ""
         },
         "tracegroupgap": 0
        },
        "paper_bgcolor": "white",
        "plot_bgcolor": "white",
        "template": {
         "data": {
          "bar": [
           {
            "error_x": {
             "color": "#2a3f5f"
            },
            "error_y": {
             "color": "#2a3f5f"
            },
            "marker": {
             "line": {
              "color": "#E5ECF6",
              "width": 0.5
             },
             "pattern": {
              "fillmode": "overlay",
              "size": 10,
              "solidity": 0.2
             }
            },
            "type": "bar"
           }
          ],
          "barpolar": [
           {
            "marker": {
             "line": {
              "color": "#E5ECF6",
              "width": 0.5
             },
             "pattern": {
              "fillmode": "overlay",
              "size": 10,
              "solidity": 0.2
             }
            },
            "type": "barpolar"
           }
          ],
          "carpet": [
           {
            "aaxis": {
             "endlinecolor": "#2a3f5f",
             "gridcolor": "white",
             "linecolor": "white",
             "minorgridcolor": "white",
             "startlinecolor": "#2a3f5f"
            },
            "baxis": {
             "endlinecolor": "#2a3f5f",
             "gridcolor": "white",
             "linecolor": "white",
             "minorgridcolor": "white",
             "startlinecolor": "#2a3f5f"
            },
            "type": "carpet"
           }
          ],
          "choropleth": [
           {
            "colorbar": {
             "outlinewidth": 0,
             "ticks": ""
            },
            "type": "choropleth"
           }
          ],
          "contour": [
           {
            "colorbar": {
             "outlinewidth": 0,
             "ticks": ""
            },
            "colorscale": [
             [
              0,
              "#0d0887"
             ],
             [
              0.1111111111111111,
              "#46039f"
             ],
             [
              0.2222222222222222,
              "#7201a8"
             ],
             [
              0.3333333333333333,
              "#9c179e"
             ],
             [
              0.4444444444444444,
              "#bd3786"
             ],
             [
              0.5555555555555556,
              "#d8576b"
             ],
             [
              0.6666666666666666,
              "#ed7953"
             ],
             [
              0.7777777777777778,
              "#fb9f3a"
             ],
             [
              0.8888888888888888,
              "#fdca26"
             ],
             [
              1,
              "#f0f921"
             ]
            ],
            "type": "contour"
           }
          ],
          "contourcarpet": [
           {
            "colorbar": {
             "outlinewidth": 0,
             "ticks": ""
            },
            "type": "contourcarpet"
           }
          ],
          "heatmap": [
           {
            "colorbar": {
             "outlinewidth": 0,
             "ticks": ""
            },
            "colorscale": [
             [
              0,
              "#0d0887"
             ],
             [
              0.1111111111111111,
              "#46039f"
             ],
             [
              0.2222222222222222,
              "#7201a8"
             ],
             [
              0.3333333333333333,
              "#9c179e"
             ],
             [
              0.4444444444444444,
              "#bd3786"
             ],
             [
              0.5555555555555556,
              "#d8576b"
             ],
             [
              0.6666666666666666,
              "#ed7953"
             ],
             [
              0.7777777777777778,
              "#fb9f3a"
             ],
             [
              0.8888888888888888,
              "#fdca26"
             ],
             [
              1,
              "#f0f921"
             ]
            ],
            "type": "heatmap"
           }
          ],
          "heatmapgl": [
           {
            "colorbar": {
             "outlinewidth": 0,
             "ticks": ""
            },
            "colorscale": [
             [
              0,
              "#0d0887"
             ],
             [
              0.1111111111111111,
              "#46039f"
             ],
             [
              0.2222222222222222,
              "#7201a8"
             ],
             [
              0.3333333333333333,
              "#9c179e"
             ],
             [
              0.4444444444444444,
              "#bd3786"
             ],
             [
              0.5555555555555556,
              "#d8576b"
             ],
             [
              0.6666666666666666,
              "#ed7953"
             ],
             [
              0.7777777777777778,
              "#fb9f3a"
             ],
             [
              0.8888888888888888,
              "#fdca26"
             ],
             [
              1,
              "#f0f921"
             ]
            ],
            "type": "heatmapgl"
           }
          ],
          "histogram": [
           {
            "marker": {
             "pattern": {
              "fillmode": "overlay",
              "size": 10,
              "solidity": 0.2
             }
            },
            "type": "histogram"
           }
          ],
          "histogram2d": [
           {
            "colorbar": {
             "outlinewidth": 0,
             "ticks": ""
            },
            "colorscale": [
             [
              0,
              "#0d0887"
             ],
             [
              0.1111111111111111,
              "#46039f"
             ],
             [
              0.2222222222222222,
              "#7201a8"
             ],
             [
              0.3333333333333333,
              "#9c179e"
             ],
             [
              0.4444444444444444,
              "#bd3786"
             ],
             [
              0.5555555555555556,
              "#d8576b"
             ],
             [
              0.6666666666666666,
              "#ed7953"
             ],
             [
              0.7777777777777778,
              "#fb9f3a"
             ],
             [
              0.8888888888888888,
              "#fdca26"
             ],
             [
              1,
              "#f0f921"
             ]
            ],
            "type": "histogram2d"
           }
          ],
          "histogram2dcontour": [
           {
            "colorbar": {
             "outlinewidth": 0,
             "ticks": ""
            },
            "colorscale": [
             [
              0,
              "#0d0887"
             ],
             [
              0.1111111111111111,
              "#46039f"
             ],
             [
              0.2222222222222222,
              "#7201a8"
             ],
             [
              0.3333333333333333,
              "#9c179e"
             ],
             [
              0.4444444444444444,
              "#bd3786"
             ],
             [
              0.5555555555555556,
              "#d8576b"
             ],
             [
              0.6666666666666666,
              "#ed7953"
             ],
             [
              0.7777777777777778,
              "#fb9f3a"
             ],
             [
              0.8888888888888888,
              "#fdca26"
             ],
             [
              1,
              "#f0f921"
             ]
            ],
            "type": "histogram2dcontour"
           }
          ],
          "mesh3d": [
           {
            "colorbar": {
             "outlinewidth": 0,
             "ticks": ""
            },
            "type": "mesh3d"
           }
          ],
          "parcoords": [
           {
            "line": {
             "colorbar": {
              "outlinewidth": 0,
              "ticks": ""
             }
            },
            "type": "parcoords"
           }
          ],
          "pie": [
           {
            "automargin": true,
            "type": "pie"
           }
          ],
          "scatter": [
           {
            "fillpattern": {
             "fillmode": "overlay",
             "size": 10,
             "solidity": 0.2
            },
            "type": "scatter"
           }
          ],
          "scatter3d": [
           {
            "line": {
             "colorbar": {
              "outlinewidth": 0,
              "ticks": ""
             }
            },
            "marker": {
             "colorbar": {
              "outlinewidth": 0,
              "ticks": ""
             }
            },
            "type": "scatter3d"
           }
          ],
          "scattercarpet": [
           {
            "marker": {
             "colorbar": {
              "outlinewidth": 0,
              "ticks": ""
             }
            },
            "type": "scattercarpet"
           }
          ],
          "scattergeo": [
           {
            "marker": {
             "colorbar": {
              "outlinewidth": 0,
              "ticks": ""
             }
            },
            "type": "scattergeo"
           }
          ],
          "scattergl": [
           {
            "marker": {
             "colorbar": {
              "outlinewidth": 0,
              "ticks": ""
             }
            },
            "type": "scattergl"
           }
          ],
          "scattermapbox": [
           {
            "marker": {
             "colorbar": {
              "outlinewidth": 0,
              "ticks": ""
             }
            },
            "type": "scattermapbox"
           }
          ],
          "scatterpolar": [
           {
            "marker": {
             "colorbar": {
              "outlinewidth": 0,
              "ticks": ""
             }
            },
            "type": "scatterpolar"
           }
          ],
          "scatterpolargl": [
           {
            "marker": {
             "colorbar": {
              "outlinewidth": 0,
              "ticks": ""
             }
            },
            "type": "scatterpolargl"
           }
          ],
          "scatterternary": [
           {
            "marker": {
             "colorbar": {
              "outlinewidth": 0,
              "ticks": ""
             }
            },
            "type": "scatterternary"
           }
          ],
          "surface": [
           {
            "colorbar": {
             "outlinewidth": 0,
             "ticks": ""
            },
            "colorscale": [
             [
              0,
              "#0d0887"
             ],
             [
              0.1111111111111111,
              "#46039f"
             ],
             [
              0.2222222222222222,
              "#7201a8"
             ],
             [
              0.3333333333333333,
              "#9c179e"
             ],
             [
              0.4444444444444444,
              "#bd3786"
             ],
             [
              0.5555555555555556,
              "#d8576b"
             ],
             [
              0.6666666666666666,
              "#ed7953"
             ],
             [
              0.7777777777777778,
              "#fb9f3a"
             ],
             [
              0.8888888888888888,
              "#fdca26"
             ],
             [
              1,
              "#f0f921"
             ]
            ],
            "type": "surface"
           }
          ],
          "table": [
           {
            "cells": {
             "fill": {
              "color": "#EBF0F8"
             },
             "line": {
              "color": "white"
             }
            },
            "header": {
             "fill": {
              "color": "#C8D4E3"
             },
             "line": {
              "color": "white"
             }
            },
            "type": "table"
           }
          ]
         },
         "layout": {
          "annotationdefaults": {
           "arrowcolor": "#2a3f5f",
           "arrowhead": 0,
           "arrowwidth": 1
          },
          "autotypenumbers": "strict",
          "coloraxis": {
           "colorbar": {
            "outlinewidth": 0,
            "ticks": ""
           }
          },
          "colorscale": {
           "diverging": [
            [
             0,
             "#8e0152"
            ],
            [
             0.1,
             "#c51b7d"
            ],
            [
             0.2,
             "#de77ae"
            ],
            [
             0.3,
             "#f1b6da"
            ],
            [
             0.4,
             "#fde0ef"
            ],
            [
             0.5,
             "#f7f7f7"
            ],
            [
             0.6,
             "#e6f5d0"
            ],
            [
             0.7,
             "#b8e186"
            ],
            [
             0.8,
             "#7fbc41"
            ],
            [
             0.9,
             "#4d9221"
            ],
            [
             1,
             "#276419"
            ]
           ],
           "sequential": [
            [
             0,
             "#0d0887"
            ],
            [
             0.1111111111111111,
             "#46039f"
            ],
            [
             0.2222222222222222,
             "#7201a8"
            ],
            [
             0.3333333333333333,
             "#9c179e"
            ],
            [
             0.4444444444444444,
             "#bd3786"
            ],
            [
             0.5555555555555556,
             "#d8576b"
            ],
            [
             0.6666666666666666,
             "#ed7953"
            ],
            [
             0.7777777777777778,
             "#fb9f3a"
            ],
            [
             0.8888888888888888,
             "#fdca26"
            ],
            [
             1,
             "#f0f921"
            ]
           ],
           "sequentialminus": [
            [
             0,
             "#0d0887"
            ],
            [
             0.1111111111111111,
             "#46039f"
            ],
            [
             0.2222222222222222,
             "#7201a8"
            ],
            [
             0.3333333333333333,
             "#9c179e"
            ],
            [
             0.4444444444444444,
             "#bd3786"
            ],
            [
             0.5555555555555556,
             "#d8576b"
            ],
            [
             0.6666666666666666,
             "#ed7953"
            ],
            [
             0.7777777777777778,
             "#fb9f3a"
            ],
            [
             0.8888888888888888,
             "#fdca26"
            ],
            [
             1,
             "#f0f921"
            ]
           ]
          },
          "colorway": [
           "#636efa",
           "#EF553B",
           "#00cc96",
           "#ab63fa",
           "#FFA15A",
           "#19d3f3",
           "#FF6692",
           "#B6E880",
           "#FF97FF",
           "#FECB52"
          ],
          "font": {
           "color": "#2a3f5f"
          },
          "geo": {
           "bgcolor": "white",
           "lakecolor": "white",
           "landcolor": "#E5ECF6",
           "showlakes": true,
           "showland": true,
           "subunitcolor": "white"
          },
          "hoverlabel": {
           "align": "left"
          },
          "hovermode": "closest",
          "mapbox": {
           "style": "light"
          },
          "paper_bgcolor": "white",
          "plot_bgcolor": "#E5ECF6",
          "polar": {
           "angularaxis": {
            "gridcolor": "white",
            "linecolor": "white",
            "ticks": ""
           },
           "bgcolor": "#E5ECF6",
           "radialaxis": {
            "gridcolor": "white",
            "linecolor": "white",
            "ticks": ""
           }
          },
          "scene": {
           "xaxis": {
            "backgroundcolor": "#E5ECF6",
            "gridcolor": "white",
            "gridwidth": 2,
            "linecolor": "white",
            "showbackground": true,
            "ticks": "",
            "zerolinecolor": "white"
           },
           "yaxis": {
            "backgroundcolor": "#E5ECF6",
            "gridcolor": "white",
            "gridwidth": 2,
            "linecolor": "white",
            "showbackground": true,
            "ticks": "",
            "zerolinecolor": "white"
           },
           "zaxis": {
            "backgroundcolor": "#E5ECF6",
            "gridcolor": "white",
            "gridwidth": 2,
            "linecolor": "white",
            "showbackground": true,
            "ticks": "",
            "zerolinecolor": "white"
           }
          },
          "shapedefaults": {
           "line": {
            "color": "#2a3f5f"
           }
          },
          "ternary": {
           "aaxis": {
            "gridcolor": "white",
            "linecolor": "white",
            "ticks": ""
           },
           "baxis": {
            "gridcolor": "white",
            "linecolor": "white",
            "ticks": ""
           },
           "bgcolor": "#E5ECF6",
           "caxis": {
            "gridcolor": "white",
            "linecolor": "white",
            "ticks": ""
           }
          },
          "title": {
           "x": 0.05
          },
          "xaxis": {
           "automargin": true,
           "gridcolor": "white",
           "linecolor": "white",
           "ticks": "",
           "title": {
            "standoff": 15
           },
           "zerolinecolor": "white",
           "zerolinewidth": 2
          },
          "yaxis": {
           "automargin": true,
           "gridcolor": "white",
           "linecolor": "white",
           "ticks": "",
           "title": {
            "standoff": 15
           },
           "zerolinecolor": "white",
           "zerolinewidth": 2
          }
         }
        },
        "title": {
         "font": {
          "color": "black",
          "size": 20
         },
         "text": "Porcentagem de competidores que competiram em qualquer ano anterior",
         "x": 0.5
        },
        "width": 1250,
        "xaxis": {
         "anchor": "y",
         "domain": [
          0,
          0.49
         ],
         "linecolor": "black",
         "linewidth": 1,
         "mirror": true,
         "showline": true,
         "showticklabels": true,
         "title": {
          "text": "Nome Competição"
         }
        },
        "xaxis2": {
         "anchor": "y2",
         "domain": [
          0.51,
          1
         ],
         "linecolor": "black",
         "linewidth": 1,
         "matches": "x",
         "mirror": true,
         "showline": true,
         "showticklabels": true,
         "title": {
          "text": "Nome Competição"
         }
        },
        "xaxis3": {
         "anchor": "y3",
         "domain": [
          0,
          0.49
         ],
         "linecolor": "black",
         "linewidth": 1,
         "matches": "x",
         "mirror": true,
         "showline": true,
         "showticklabels": true
        },
        "xaxis4": {
         "anchor": "y4",
         "domain": [
          0.51,
          1
         ],
         "linecolor": "black",
         "linewidth": 1,
         "matches": "x",
         "mirror": true,
         "showline": true,
         "showticklabels": true
        },
        "yaxis": {
         "anchor": "x",
         "domain": [
          0,
          0.45
         ],
         "linecolor": "black",
         "linewidth": 1,
         "mirror": true,
         "showline": true,
         "title": {
          "text": "Porcentagem"
         }
        },
        "yaxis2": {
         "anchor": "x2",
         "domain": [
          0,
          0.45
         ],
         "linecolor": "black",
         "linewidth": 1,
         "matches": "y",
         "mirror": true,
         "showline": true,
         "showticklabels": false
        },
        "yaxis3": {
         "anchor": "x3",
         "domain": [
          0.55,
          1
         ],
         "linecolor": "black",
         "linewidth": 1,
         "matches": "y",
         "mirror": true,
         "showline": true,
         "title": {
          "text": "Porcentagem"
         }
        },
        "yaxis4": {
         "anchor": "x4",
         "domain": [
          0.55,
          1
         ],
         "linecolor": "black",
         "linewidth": 1,
         "matches": "y",
         "mirror": true,
         "showline": true,
         "showticklabels": false
        }
       }
      }
     },
     "metadata": {},
     "output_type": "display_data"
    }
   ],
   "source": [
    "campeonatos = ['World Championship 2015', 'World Championship 2016', 'World Championship 2017',\n",
    "               'World Championship 2018', 'World Championship 2019', 'World Championship 2020',\n",
    "               'World Championship 2021', 'World Championship 2022', 'World Championship 2023']\n",
    "\n",
    "graph_ja_competiu(df = df, \n",
    "                  campeonatos=campeonatos,\n",
    "                  quando=\"qualquer_ano\",\n",
    "                  classe = ['Ilca 7', 'Ilca 6', '49er', '49erFX'])"
   ]
  },
  {
   "cell_type": "markdown",
   "metadata": {},
   "source": [
    "---"
   ]
  },
  {
   "cell_type": "markdown",
   "metadata": {},
   "source": [
    "### **Relação entre participar de muitas competições e ficar nos primeiros lugares**"
   ]
  },
  {
   "cell_type": "code",
   "execution_count": 283,
   "metadata": {},
   "outputs": [
    {
     "data": {
      "text/html": [
       "<div>\n",
       "<style scoped>\n",
       "    .dataframe tbody tr th:only-of-type {\n",
       "        vertical-align: middle;\n",
       "    }\n",
       "\n",
       "    .dataframe tbody tr th {\n",
       "        vertical-align: top;\n",
       "    }\n",
       "\n",
       "    .dataframe thead th {\n",
       "        text-align: right;\n",
       "    }\n",
       "</style>\n",
       "<table border=\"1\" class=\"dataframe\">\n",
       "  <thead>\n",
       "    <tr style=\"text-align: right;\">\n",
       "      <th></th>\n",
       "      <th>Nome Competidor</th>\n",
       "      <th>Número de Competições</th>\n",
       "    </tr>\n",
       "  </thead>\n",
       "  <tbody>\n",
       "    <tr>\n",
       "      <th>1188</th>\n",
       "      <td>HELENE NAESS, MARIE RONNINGEN</td>\n",
       "      <td>25</td>\n",
       "    </tr>\n",
       "    <tr>\n",
       "      <th>20</th>\n",
       "      <td>AGATA BARWINSKA</td>\n",
       "      <td>24</td>\n",
       "    </tr>\n",
       "    <tr>\n",
       "      <th>2133</th>\n",
       "      <td>MAXIME JONKER</td>\n",
       "      <td>23</td>\n",
       "    </tr>\n",
       "    <tr>\n",
       "      <th>2177</th>\n",
       "      <td>MICHON PERNELLE</td>\n",
       "      <td>23</td>\n",
       "    </tr>\n",
       "    <tr>\n",
       "      <th>3045</th>\n",
       "      <td>VIKTORIJA ANDRULYTE</td>\n",
       "      <td>23</td>\n",
       "    </tr>\n",
       "  </tbody>\n",
       "</table>\n",
       "</div>"
      ],
      "text/plain": [
       "                    Nome Competidor  Número de Competições\n",
       "1188  HELENE NAESS, MARIE RONNINGEN                     25\n",
       "20                  AGATA BARWINSKA                     24\n",
       "2133                  MAXIME JONKER                     23\n",
       "2177                MICHON PERNELLE                     23\n",
       "3045            VIKTORIJA ANDRULYTE                     23"
      ]
     },
     "execution_count": 283,
     "metadata": {},
     "output_type": "execute_result"
    }
   ],
   "source": [
    "ncompetitions_por_competidor = df.groupby('Nome Competidor')['Nome Competição'].nunique().reset_index(name='Número de Competições').sort_values(by='Número de Competições', ascending=False)\n",
    "ncompetitions_por_competidor.head()"
   ]
  },
  {
   "cell_type": "code",
   "execution_count": 284,
   "metadata": {},
   "outputs": [],
   "source": [
    "competitor_pos_per_competition = df[[\"Nome Competidor\", \"Posição Geral\", \"Nome Competição\", \"Classe Vela\"]].drop_duplicates()\\\n",
    "                                                                                                           .sort_values(by='Posição Geral', ascending=True)"
   ]
  },
  {
   "cell_type": "code",
   "execution_count": 285,
   "metadata": {},
   "outputs": [],
   "source": [
    "competitor_pos_per_competition = competitor_pos_per_competition.merge(ncompetitions_por_competidor, on='Nome Competidor')"
   ]
  },
  {
   "cell_type": "code",
   "execution_count": 286,
   "metadata": {},
   "outputs": [
    {
     "data": {
      "text/html": [
       "<div>\n",
       "<style scoped>\n",
       "    .dataframe tbody tr th:only-of-type {\n",
       "        vertical-align: middle;\n",
       "    }\n",
       "\n",
       "    .dataframe tbody tr th {\n",
       "        vertical-align: top;\n",
       "    }\n",
       "\n",
       "    .dataframe thead th {\n",
       "        text-align: right;\n",
       "    }\n",
       "</style>\n",
       "<table border=\"1\" class=\"dataframe\">\n",
       "  <thead>\n",
       "    <tr style=\"text-align: right;\">\n",
       "      <th></th>\n",
       "      <th>Nome Competidor</th>\n",
       "      <th>Posição Geral</th>\n",
       "      <th>Nome Competição</th>\n",
       "      <th>Classe Vela</th>\n",
       "      <th>Número de Competições</th>\n",
       "    </tr>\n",
       "  </thead>\n",
       "  <tbody>\n",
       "    <tr>\n",
       "      <th>0</th>\n",
       "      <td>WILLIAM JONES, EVAN DEPAUL</td>\n",
       "      <td>1</td>\n",
       "      <td>World Championship 2017</td>\n",
       "      <td>49er</td>\n",
       "      <td>11</td>\n",
       "    </tr>\n",
       "    <tr>\n",
       "      <th>1</th>\n",
       "      <td>WILLIAM JONES, EVAN DEPAUL</td>\n",
       "      <td>37</td>\n",
       "      <td>Semaine Olympique Francaise De Voile 2018</td>\n",
       "      <td>49er</td>\n",
       "      <td>11</td>\n",
       "    </tr>\n",
       "    <tr>\n",
       "      <th>2</th>\n",
       "      <td>WILLIAM JONES, EVAN DEPAUL</td>\n",
       "      <td>39</td>\n",
       "      <td>World Championship 2020</td>\n",
       "      <td>49er</td>\n",
       "      <td>11</td>\n",
       "    </tr>\n",
       "    <tr>\n",
       "      <th>3</th>\n",
       "      <td>WILLIAM JONES, EVAN DEPAUL</td>\n",
       "      <td>39</td>\n",
       "      <td>World Championship 2022</td>\n",
       "      <td>49er</td>\n",
       "      <td>11</td>\n",
       "    </tr>\n",
       "    <tr>\n",
       "      <th>4</th>\n",
       "      <td>WILLIAM JONES, EVAN DEPAUL</td>\n",
       "      <td>46</td>\n",
       "      <td>Trofeo S.A.R Princesa Sofia 2022</td>\n",
       "      <td>49er</td>\n",
       "      <td>11</td>\n",
       "    </tr>\n",
       "    <tr>\n",
       "      <th>...</th>\n",
       "      <td>...</td>\n",
       "      <td>...</td>\n",
       "      <td>...</td>\n",
       "      <td>...</td>\n",
       "      <td>...</td>\n",
       "    </tr>\n",
       "    <tr>\n",
       "      <th>11714</th>\n",
       "      <td>CHIAPPE ANDREA</td>\n",
       "      <td>183</td>\n",
       "      <td>Trofeo S.A.R Princesa Sofia 2019</td>\n",
       "      <td>Ilca 7</td>\n",
       "      <td>1</td>\n",
       "    </tr>\n",
       "    <tr>\n",
       "      <th>11715</th>\n",
       "      <td>SKYDSGAARD GUSTAV</td>\n",
       "      <td>183</td>\n",
       "      <td>Trofeo S.A.R Princesa Sofia 2018</td>\n",
       "      <td>Ilca 7</td>\n",
       "      <td>1</td>\n",
       "    </tr>\n",
       "    <tr>\n",
       "      <th>11716</th>\n",
       "      <td>VALLESI CLAUDIO</td>\n",
       "      <td>184</td>\n",
       "      <td>European Championship 2023</td>\n",
       "      <td>Ilca 7</td>\n",
       "      <td>1</td>\n",
       "    </tr>\n",
       "    <tr>\n",
       "      <th>11717</th>\n",
       "      <td>CHARFEDDINE SAIDI</td>\n",
       "      <td>184</td>\n",
       "      <td>Trofeo S.A.R Princesa Sofia 2023</td>\n",
       "      <td>Ilca 7</td>\n",
       "      <td>1</td>\n",
       "    </tr>\n",
       "    <tr>\n",
       "      <th>11718</th>\n",
       "      <td>TSOTRAS ANTONIS</td>\n",
       "      <td>187</td>\n",
       "      <td>Trofeo S.A.R Princesa Sofia 2019</td>\n",
       "      <td>Ilca 7</td>\n",
       "      <td>1</td>\n",
       "    </tr>\n",
       "  </tbody>\n",
       "</table>\n",
       "<p>11719 rows × 5 columns</p>\n",
       "</div>"
      ],
      "text/plain": [
       "                  Nome Competidor  Posição Geral  \\\n",
       "0      WILLIAM JONES, EVAN DEPAUL              1   \n",
       "1      WILLIAM JONES, EVAN DEPAUL             37   \n",
       "2      WILLIAM JONES, EVAN DEPAUL             39   \n",
       "3      WILLIAM JONES, EVAN DEPAUL             39   \n",
       "4      WILLIAM JONES, EVAN DEPAUL             46   \n",
       "...                           ...            ...   \n",
       "11714              CHIAPPE ANDREA            183   \n",
       "11715           SKYDSGAARD GUSTAV            183   \n",
       "11716             VALLESI CLAUDIO            184   \n",
       "11717           CHARFEDDINE SAIDI            184   \n",
       "11718             TSOTRAS ANTONIS            187   \n",
       "\n",
       "                                 Nome Competição Classe Vela  \\\n",
       "0                        World Championship 2017        49er   \n",
       "1      Semaine Olympique Francaise De Voile 2018        49er   \n",
       "2                        World Championship 2020        49er   \n",
       "3                        World Championship 2022        49er   \n",
       "4               Trofeo S.A.R Princesa Sofia 2022        49er   \n",
       "...                                          ...         ...   \n",
       "11714           Trofeo S.A.R Princesa Sofia 2019      Ilca 7   \n",
       "11715           Trofeo S.A.R Princesa Sofia 2018      Ilca 7   \n",
       "11716                 European Championship 2023      Ilca 7   \n",
       "11717           Trofeo S.A.R Princesa Sofia 2023      Ilca 7   \n",
       "11718           Trofeo S.A.R Princesa Sofia 2019      Ilca 7   \n",
       "\n",
       "       Número de Competições  \n",
       "0                         11  \n",
       "1                         11  \n",
       "2                         11  \n",
       "3                         11  \n",
       "4                         11  \n",
       "...                      ...  \n",
       "11714                      1  \n",
       "11715                      1  \n",
       "11716                      1  \n",
       "11717                      1  \n",
       "11718                      1  \n",
       "\n",
       "[11719 rows x 5 columns]"
      ]
     },
     "execution_count": 286,
     "metadata": {},
     "output_type": "execute_result"
    }
   ],
   "source": [
    "competitor_pos_per_competition"
   ]
  },
  {
   "cell_type": "code",
   "execution_count": 287,
   "metadata": {},
   "outputs": [],
   "source": [
    "percent_best = [None] * len(competitor_pos_per_competition)\n",
    "competitor_pos_per_competition['Percentual da posição'] = percent_best"
   ]
  },
  {
   "cell_type": "code",
   "execution_count": 288,
   "metadata": {},
   "outputs": [],
   "source": [
    "max_position = competitor_pos_per_competition.groupby(['Classe Vela', 'Nome Competição'])['Posição Geral'].max().to_dict()"
   ]
  },
  {
   "cell_type": "code",
   "execution_count": 289,
   "metadata": {},
   "outputs": [],
   "source": [
    "for i, row in competitor_pos_per_competition.iterrows():\n",
    "    classe = row['Classe Vela']\n",
    "    competitor = row['Nome Competidor']\n",
    "    competition = row['Nome Competição']\n",
    "    position = row['Posição Geral']\n",
    "    max_position_classe_competition = max_position[(classe, competition)]\n",
    "    percent_best = (position / max_position_classe_competition) * 100\n",
    "    competitor_pos_per_competition.loc[i, 'Percentual da posição'] = percent_best"
   ]
  },
  {
   "cell_type": "code",
   "execution_count": 290,
   "metadata": {},
   "outputs": [
    {
     "name": "stdout",
     "output_type": "stream",
     "text": [
      "Média de participação em competições:\n",
      "\n",
      "Classe Ilca 6\n",
      "0% - 10%: 12.695652173913043\n",
      "10% - 20%: 10.626262626262626\n",
      "20% - 30%: 10.256880733944953\n",
      "30% - 40%: 9.436507936507937\n",
      "40% - 50%: 8.142857142857142\n",
      "50% - 60%: 8.48076923076923\n",
      "60% - 70%: 6.865384615384615\n",
      "70% - 80%: 5.705882352941177\n",
      "80% - 90%: 4.209944751381215\n",
      "90% - 100%: 3.765625\n",
      "\n",
      "Classe Ilca 7\n",
      "0% - 10%: 13.329113924050633\n",
      "10% - 20%: 12.016806722689076\n",
      "20% - 30%: 10.452229299363058\n",
      "30% - 40%: 9.673913043478262\n",
      "40% - 50%: 8.150943396226415\n",
      "50% - 60%: 7.471615720524017\n",
      "60% - 70%: 6.45021645021645\n",
      "70% - 80%: 5.853174603174603\n",
      "80% - 90%: 4.445283018867925\n",
      "90% - 100%: 3.3646616541353382\n",
      "\n",
      "Classe 49er\n",
      "0% - 10%: 9.09375\n",
      "10% - 20%: 8.795180722891565\n",
      "20% - 30%: 7.514285714285714\n",
      "30% - 40%: 7.078947368421052\n",
      "40% - 50%: 6.704\n",
      "50% - 60%: 6.090225563909774\n",
      "60% - 70%: 4.9855072463768115\n",
      "70% - 80%: 4.367088607594937\n",
      "80% - 90%: 3.329032258064516\n",
      "90% - 100%: 3.0\n",
      "\n",
      "Classe 49erFX\n",
      "0% - 10%: 9.121951219512194\n",
      "10% - 20%: 8.381818181818181\n",
      "20% - 30%: 7.802816901408451\n",
      "30% - 40%: 7.1645569620253164\n",
      "40% - 50%: 6.855263157894737\n",
      "50% - 60%: 6.265060240963855\n",
      "60% - 70%: 5.517647058823529\n",
      "70% - 80%: 5.448275862068965\n",
      "80% - 90%: 3.5\n",
      "90% - 100%: 3.188888888888889\n"
     ]
    }
   ],
   "source": [
    "media_participacao_colocados = {\n",
    "    'Ilca 6': {},\n",
    "    'Ilca 7': {},\n",
    "    '49er': {},\n",
    "    '49erFX': {}\n",
    "}\n",
    "\n",
    "print(\"Média de participação em competições:\")\n",
    "for j in ['Ilca 6', 'Ilca 7', '49er', '49erFX']:\n",
    "    print(f\"\\nClasse {j}\")\n",
    "    for i in range(1, 100, 10):\n",
    "        flt = competitor_pos_per_competition['Classe Vela'] == j\n",
    "        # media = competitor_pos_per_competition[flt].query(f\"`Média de Posição Percentual` >= {i} and `Média de Posição Percentual` < {i+10}\")[[\"Nome Competidor\", \"Número de Competições\"]].drop_duplicates()[\"Número de Competições\"].mean()\n",
    "        media = competitor_pos_per_competition[flt].query(f\"`Percentual da posição` >= {i} and `Percentual da posição` < {i+10}\")[[\"Nome Competidor\", \"Número de Competições\"]].drop_duplicates()[\"Número de Competições\"].mean()\n",
    "        print(f\"{i-1}% - {i+9}%: {media}\")\n",
    "        media_participacao_colocados[j][f\"{i-1}% - {i+9}%\"] = media"
   ]
  },
  {
   "cell_type": "code",
   "execution_count": 291,
   "metadata": {},
   "outputs": [],
   "source": [
    "media_participacao_colocados = pd.DataFrame(media_participacao_colocados, columns=['Ilca 6', 'Ilca 7', '49er', '49erFX'])\n",
    "\n",
    "# turn Ilca 6, Ilca 7, 49er and 49erFX into rows\n",
    "media_participacao_colocados = media_participacao_colocados.stack().reset_index()\n",
    "\n",
    "# rename columns\n",
    "media_participacao_colocados.columns = ['Posição', 'Classe Vela', 'Média de Participação']"
   ]
  },
  {
   "cell_type": "code",
   "execution_count": 292,
   "metadata": {},
   "outputs": [
    {
     "data": {
      "image/png": "[encoded data removed]",
      "text/plain": [
       "<Figure size 1000x700 with 2 Axes>"
      ]
     },
     "metadata": {},
     "output_type": "display_data"
    }
   ],
   "source": [
    "# plot a heatmap with the data above\n",
    "plt.figure(figsize=(10,7))\n",
    "plt.title('Média de participação em competições por posição e classe')\n",
    "sns.heatmap(media_participacao_colocados.pivot(index='Posição', columns='Classe Vela', values='Média de Participação'), annot=True, fmt=\".2f\", cmap=\"Blues\")\n",
    "plt.show()"
   ]
  }
 ],
 "metadata": {
  "kernelspec": {
   "display_name": "Python 3",
   "language": "python",
   "name": "python3"
  },
  "language_info": {
   "codemirror_mode": {
    "name": "ipython",
    "version": 3
   },
   "file_extension": ".py",
   "mimetype": "text/x-python",
   "name": "python",
   "nbconvert_exporter": "python",
   "pygments_lexer": "ipython3",
   "version": "3.11.6"
  },
  "orig_nbformat": 4
 },
 "nbformat": 4,
 "nbformat_minor": 2
}
