{
 "cells": [
  {
   "cell_type": "code",
   "execution_count": 1,
   "metadata": {},
   "outputs": [],
   "source": [
    "import pandas as pd\n",
    "import numpy as np\n",
    "import os"
   ]
  },
  {
   "cell_type": "code",
   "execution_count": 2,
   "metadata": {},
   "outputs": [],
   "source": [
    "# for each file in final_results folder, read the file \n",
    "for file in os.listdir('final_results'):\n",
    "    if file.endswith('.csv'):\n",
    "        df = pd.read_csv('final_results/' + file)\n",
    "        # rename first column to 'Competidor'\n",
    "        df.rename(columns={df.columns[0]: 'Competidor'}, inplace=True)\n",
    "        # round up Rating to 5 decimal places\n",
    "        df['Rating'] = df['Rating'].round(5)\n",
    "        # create a new column 'Rank' and set it to the index + 1\n",
    "        df['Rank'] = df.index + 1\n",
    "        # save the new dataframe to a new file\n",
    "        df.to_csv('final_results/' + file, index=False)"
   ]
  },
  {
   "cell_type": "code",
   "execution_count": 3,
   "metadata": {},
   "outputs": [],
   "source": [
    "# for each file in final_results folder, read the file \n",
    "for file in os.listdir('final_results'):\n",
    "    if file.endswith('.csv'):\n",
    "        df = pd.read_csv('final_results/' + file)\n",
    "        # reorder columns\n",
    "        df = df[['Rank', 'Competidor', 'Rating']]\n",
    "        # save the new dataframe to a new file\n",
    "        df.to_csv('final_results/' + file, index=False)"
   ]
  }
 ],
 "metadata": {
  "kernelspec": {
   "display_name": "Python 3",
   "language": "python",
   "name": "python3"
  },
  "language_info": {
   "codemirror_mode": {
    "name": "ipython",
    "version": 3
   },
   "file_extension": ".py",
   "mimetype": "text/x-python",
   "name": "python",
   "nbconvert_exporter": "python",
   "pygments_lexer": "ipython3",
   "version": "3.12.1"
  }
 },
 "nbformat": 4,
 "nbformat_minor": 2
}
