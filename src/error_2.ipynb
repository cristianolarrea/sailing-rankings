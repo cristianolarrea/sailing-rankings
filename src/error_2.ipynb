{
 "cells": [
  {
   "cell_type": "code",
   "execution_count": 103,
   "metadata": {},
   "outputs": [],
   "source": [
    "import pandas as pd"
   ]
  },
  {
   "cell_type": "code",
   "execution_count": 104,
   "metadata": {},
   "outputs": [],
   "source": [
    "# read data and choose class\n",
    "data = pd.read_excel('../data/final_data.xlsx')\n",
    "data = data[data['Classe Vela'] == '49erFX']"
   ]
  },
  {
   "cell_type": "code",
   "execution_count": 105,
   "metadata": {},
   "outputs": [],
   "source": [
    "test = data[data['Nome Competição'].isin(['World Championship 2023', 'Trofeo S.A.R Princesa Sofia 2023'])]\n",
    "train = data[~data['Nome Competição'].isin(['World Championship 2023', 'Trofeo S.A.R Princesa Sofia 2023'])]"
   ]
  },
  {
   "cell_type": "code",
   "execution_count": 122,
   "metadata": {},
   "outputs": [],
   "source": [
    "rankings = pd.read_csv('../rankings/keenersbeta-49erFX-trainset.csv')\n",
    "data = train\n",
    "# rename columns\n",
    "rankings = rankings.rename(columns={'Unnamed: 0': 'Nome Competidor'})"
   ]
  },
  {
   "cell_type": "code",
   "execution_count": 123,
   "metadata": {},
   "outputs": [],
   "source": [
    "# multiply by 100 to get percentage\n",
    "rankings['Rating'] = rankings['Rating'] * 100"
   ]
  },
  {
   "cell_type": "code",
   "execution_count": 124,
   "metadata": {},
   "outputs": [
    {
     "name": "stdout",
     "output_type": "stream",
     "text": [
      "Prediction error:  0.2280873588129871\n"
     ]
    }
   ],
   "source": [
    "# for each competition\n",
    "correct_pred = 0\n",
    "all_preds = 0\n",
    "\n",
    "for competition in data['Nome Competição'].unique():\n",
    "\n",
    "    # get data for this competition\n",
    "    data_competition = data[data['Nome Competição'] == competition]\n",
    "    data_competition = data_competition.drop_duplicates(subset='Nome Competidor', keep='first')\n",
    "\n",
    "    # get list of competitors in this competition\n",
    "    competitors = data_competition['Nome Competidor'].unique()\n",
    "    # get number of competitors in this competition\n",
    "    n_players = len(competitors)\n",
    "\n",
    "    # for each competitors i and j\n",
    "    for i in range(n_players):\n",
    "        for j in range(n_players):\n",
    "            competitor_i = competitors[i]\n",
    "            competitor_j = competitors[j]\n",
    "            posicao_i = data_competition[(data_competition['Nome Competidor'] == competitor_i)]['Posição Geral'].values[0]\n",
    "            posicao_j = data_competition[(data_competition['Nome Competidor'] == competitor_j)]['Posição Geral'].values[0]\n",
    "\n",
    "            # if competitor i or j is not in the rankings, skip\n",
    "            if (competitor_i not in rankings['Nome Competidor'].values) or (competitor_j not in rankings['Nome Competidor'].values):\n",
    "                continue\n",
    "\n",
    "            # get ratings for each competitor\n",
    "            rating_i = rankings[rankings['Nome Competidor'] == competitor_i]['Rating'].values[0]\n",
    "            rating_j = rankings[rankings['Nome Competidor'] == competitor_j]['Rating'].values[0]\n",
    "\n",
    "            if (competitor_i != competitor_j):\n",
    "                if (posicao_i > posicao_j) and (rating_i> rating_j):\n",
    "                    correct_pred += 1\n",
    "                all_preds += 1\n",
    "\n",
    "print('Prediction error: ',(correct_pred/all_preds))"
   ]
  },
  {
   "cell_type": "code",
   "execution_count": null,
   "metadata": {},
   "outputs": [],
   "source": []
  }
 ],
 "metadata": {
  "kernelspec": {
   "display_name": "Python 3",
   "language": "python",
   "name": "python3"
  },
  "language_info": {
   "codemirror_mode": {
    "name": "ipython",
    "version": 3
   },
   "file_extension": ".py",
   "mimetype": "text/x-python",
   "name": "python",
   "nbconvert_exporter": "python",
   "pygments_lexer": "ipython3",
   "version": "3.10.7"
  }
 },
 "nbformat": 4,
 "nbformat_minor": 2
}
