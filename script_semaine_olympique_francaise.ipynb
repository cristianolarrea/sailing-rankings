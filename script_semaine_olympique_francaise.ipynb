{
 "cells": [
  {
   "cell_type": "code",
   "execution_count": 16,
   "metadata": {},
   "outputs": [],
   "source": [
    "import pandas as pd"
   ]
  },
  {
   "cell_type": "code",
   "execution_count": 17,
   "metadata": {},
   "outputs": [
    {
     "ename": "PermissionError",
     "evalue": "[Errno 13] Permission denied: 'overall_49er.xlsx'",
     "output_type": "error",
     "traceback": [
      "\u001b[1;31m---------------------------------------------------------------------------\u001b[0m",
      "\u001b[1;31mPermissionError\u001b[0m                           Traceback (most recent call last)",
      "\u001b[1;32mc:\\Users\\palom\\OneDrive\\Documentos\\fgv\\6P\\field project\\sailing-rankings\\script_semaine_olympique_francaise.ipynb Cell 2\u001b[0m line \u001b[0;36m1\n\u001b[1;32m----> <a href='vscode-notebook-cell:/c%3A/Users/palom/OneDrive/Documentos/fgv/6P/field%20project/sailing-rankings/script_semaine_olympique_francaise.ipynb#W1sZmlsZQ%3D%3D?line=0'>1</a>\u001b[0m df_49er \u001b[39m=\u001b[39m pd\u001b[39m.\u001b[39;49mread_excel(\u001b[39m'\u001b[39;49m\u001b[39moverall_49er.xlsx\u001b[39;49m\u001b[39m'\u001b[39;49m)\n\u001b[0;32m      <a href='vscode-notebook-cell:/c%3A/Users/palom/OneDrive/Documentos/fgv/6P/field%20project/sailing-rankings/script_semaine_olympique_francaise.ipynb#W1sZmlsZQ%3D%3D?line=1'>2</a>\u001b[0m df_49erFX \u001b[39m=\u001b[39m pd\u001b[39m.\u001b[39mread_excel(\u001b[39m'\u001b[39m\u001b[39moverall_49erFX.xlsx\u001b[39m\u001b[39m'\u001b[39m)\n\u001b[0;32m      <a href='vscode-notebook-cell:/c%3A/Users/palom/OneDrive/Documentos/fgv/6P/field%20project/sailing-rankings/script_semaine_olympique_francaise.ipynb#W1sZmlsZQ%3D%3D?line=2'>3</a>\u001b[0m df_iqfoil_men \u001b[39m=\u001b[39m pd\u001b[39m.\u001b[39mread_excel(\u001b[39m'\u001b[39m\u001b[39moverall_IQFOIL_MEN.xlsx\u001b[39m\u001b[39m'\u001b[39m)\n",
      "File \u001b[1;32mc:\\Users\\palom\\AppData\\Local\\Programs\\Python\\Python312\\Lib\\site-packages\\pandas\\io\\excel\\_base.py:504\u001b[0m, in \u001b[0;36mread_excel\u001b[1;34m(io, sheet_name, header, names, index_col, usecols, dtype, engine, converters, true_values, false_values, skiprows, nrows, na_values, keep_default_na, na_filter, verbose, parse_dates, date_parser, date_format, thousands, decimal, comment, skipfooter, storage_options, dtype_backend, engine_kwargs)\u001b[0m\n\u001b[0;32m    502\u001b[0m \u001b[39mif\u001b[39;00m \u001b[39mnot\u001b[39;00m \u001b[39misinstance\u001b[39m(io, ExcelFile):\n\u001b[0;32m    503\u001b[0m     should_close \u001b[39m=\u001b[39m \u001b[39mTrue\u001b[39;00m\n\u001b[1;32m--> 504\u001b[0m     io \u001b[39m=\u001b[39m ExcelFile(\n\u001b[0;32m    505\u001b[0m         io,\n\u001b[0;32m    506\u001b[0m         storage_options\u001b[39m=\u001b[39;49mstorage_options,\n\u001b[0;32m    507\u001b[0m         engine\u001b[39m=\u001b[39;49mengine,\n\u001b[0;32m    508\u001b[0m         engine_kwargs\u001b[39m=\u001b[39;49mengine_kwargs,\n\u001b[0;32m    509\u001b[0m     )\n\u001b[0;32m    510\u001b[0m \u001b[39melif\u001b[39;00m engine \u001b[39mand\u001b[39;00m engine \u001b[39m!=\u001b[39m io\u001b[39m.\u001b[39mengine:\n\u001b[0;32m    511\u001b[0m     \u001b[39mraise\u001b[39;00m \u001b[39mValueError\u001b[39;00m(\n\u001b[0;32m    512\u001b[0m         \u001b[39m\"\u001b[39m\u001b[39mEngine should not be specified when passing \u001b[39m\u001b[39m\"\u001b[39m\n\u001b[0;32m    513\u001b[0m         \u001b[39m\"\u001b[39m\u001b[39man ExcelFile - ExcelFile already has the engine set\u001b[39m\u001b[39m\"\u001b[39m\n\u001b[0;32m    514\u001b[0m     )\n",
      "File \u001b[1;32mc:\\Users\\palom\\AppData\\Local\\Programs\\Python\\Python312\\Lib\\site-packages\\pandas\\io\\excel\\_base.py:1563\u001b[0m, in \u001b[0;36mExcelFile.__init__\u001b[1;34m(self, path_or_buffer, engine, storage_options, engine_kwargs)\u001b[0m\n\u001b[0;32m   1561\u001b[0m     ext \u001b[39m=\u001b[39m \u001b[39m\"\u001b[39m\u001b[39mxls\u001b[39m\u001b[39m\"\u001b[39m\n\u001b[0;32m   1562\u001b[0m \u001b[39melse\u001b[39;00m:\n\u001b[1;32m-> 1563\u001b[0m     ext \u001b[39m=\u001b[39m inspect_excel_format(\n\u001b[0;32m   1564\u001b[0m         content_or_path\u001b[39m=\u001b[39;49mpath_or_buffer, storage_options\u001b[39m=\u001b[39;49mstorage_options\n\u001b[0;32m   1565\u001b[0m     )\n\u001b[0;32m   1566\u001b[0m     \u001b[39mif\u001b[39;00m ext \u001b[39mis\u001b[39;00m \u001b[39mNone\u001b[39;00m:\n\u001b[0;32m   1567\u001b[0m         \u001b[39mraise\u001b[39;00m \u001b[39mValueError\u001b[39;00m(\n\u001b[0;32m   1568\u001b[0m             \u001b[39m\"\u001b[39m\u001b[39mExcel file format cannot be determined, you must specify \u001b[39m\u001b[39m\"\u001b[39m\n\u001b[0;32m   1569\u001b[0m             \u001b[39m\"\u001b[39m\u001b[39man engine manually.\u001b[39m\u001b[39m\"\u001b[39m\n\u001b[0;32m   1570\u001b[0m         )\n",
      "File \u001b[1;32mc:\\Users\\palom\\AppData\\Local\\Programs\\Python\\Python312\\Lib\\site-packages\\pandas\\io\\excel\\_base.py:1419\u001b[0m, in \u001b[0;36minspect_excel_format\u001b[1;34m(content_or_path, storage_options)\u001b[0m\n\u001b[0;32m   1416\u001b[0m \u001b[39mif\u001b[39;00m \u001b[39misinstance\u001b[39m(content_or_path, \u001b[39mbytes\u001b[39m):\n\u001b[0;32m   1417\u001b[0m     content_or_path \u001b[39m=\u001b[39m BytesIO(content_or_path)\n\u001b[1;32m-> 1419\u001b[0m \u001b[39mwith\u001b[39;00m get_handle(\n\u001b[0;32m   1420\u001b[0m     content_or_path, \u001b[39m\"\u001b[39;49m\u001b[39mrb\u001b[39;49m\u001b[39m\"\u001b[39;49m, storage_options\u001b[39m=\u001b[39;49mstorage_options, is_text\u001b[39m=\u001b[39;49m\u001b[39mFalse\u001b[39;49;00m\n\u001b[0;32m   1421\u001b[0m ) \u001b[39mas\u001b[39;00m handle:\n\u001b[0;32m   1422\u001b[0m     stream \u001b[39m=\u001b[39m handle\u001b[39m.\u001b[39mhandle\n\u001b[0;32m   1423\u001b[0m     stream\u001b[39m.\u001b[39mseek(\u001b[39m0\u001b[39m)\n",
      "File \u001b[1;32mc:\\Users\\palom\\AppData\\Local\\Programs\\Python\\Python312\\Lib\\site-packages\\pandas\\io\\common.py:872\u001b[0m, in \u001b[0;36mget_handle\u001b[1;34m(path_or_buf, mode, encoding, compression, memory_map, is_text, errors, storage_options)\u001b[0m\n\u001b[0;32m    863\u001b[0m         handle \u001b[39m=\u001b[39m \u001b[39mopen\u001b[39m(\n\u001b[0;32m    864\u001b[0m             handle,\n\u001b[0;32m    865\u001b[0m             ioargs\u001b[39m.\u001b[39mmode,\n\u001b[1;32m   (...)\u001b[0m\n\u001b[0;32m    868\u001b[0m             newline\u001b[39m=\u001b[39m\u001b[39m\"\u001b[39m\u001b[39m\"\u001b[39m,\n\u001b[0;32m    869\u001b[0m         )\n\u001b[0;32m    870\u001b[0m     \u001b[39melse\u001b[39;00m:\n\u001b[0;32m    871\u001b[0m         \u001b[39m# Binary mode\u001b[39;00m\n\u001b[1;32m--> 872\u001b[0m         handle \u001b[39m=\u001b[39m \u001b[39mopen\u001b[39;49m(handle, ioargs\u001b[39m.\u001b[39;49mmode)\n\u001b[0;32m    873\u001b[0m     handles\u001b[39m.\u001b[39mappend(handle)\n\u001b[0;32m    875\u001b[0m \u001b[39m# Convert BytesIO or file objects passed with an encoding\u001b[39;00m\n",
      "\u001b[1;31mPermissionError\u001b[0m: [Errno 13] Permission denied: 'overall_49er.xlsx'"
     ]
    }
   ],
   "source": [
    "df_49er = pd.read_excel('overall_49er.xlsx')\n",
    "df_49erFX = pd.read_excel('overall_49erFX.xlsx')\n",
    "df_iqfoil_men = pd.read_excel('overall_IQFOIL_MEN.xlsx')\n",
    "df_iqfoil_women = pd.read_excel('overall_IQFOIL_WOMEN.xlsx')\n",
    "df_kite_men = pd.read_excel('overall_KITE_MEN.xlsx')\n",
    "df_kite_women= pd.read_excel('overall_KITE_WOMEN.xlsx')"
   ]
  },
  {
   "cell_type": "code",
   "execution_count": null,
   "metadata": {},
   "outputs": [],
   "source": [
    "df_49er = df_49er.drop(0)\n",
    "df_49erFX = df_49erFX.drop([0,1])\n",
    "df_iqfoil_men = df_iqfoil_men.drop([0,1])\n",
    "df_iqfoil_women = df_iqfoil_women.drop([0,1])"
   ]
  },
  {
   "cell_type": "code",
   "execution_count": null,
   "metadata": {},
   "outputs": [],
   "source": [
    "df_49er.columns = df_49er.iloc[0]\n",
    "df_49erFX.columns = df_49erFX.iloc[0]\n",
    "df_iqfoil_men.columns = df_iqfoil_men.iloc[0]\n",
    "df_iqfoil_women.columns = df_iqfoil_women.iloc[0]\n",
    "\n",
    "df_49er = df_49er.drop(1)\n",
    "df_49erFX = df_49erFX.drop(2)\n",
    "df_iqfoil_men = df_iqfoil_men.drop(2)\n",
    "df_iqfoil_women = df_iqfoil_women.drop(2)"
   ]
  },
  {
   "cell_type": "code",
   "execution_count": null,
   "metadata": {},
   "outputs": [],
   "source": [
    "df_49er = df_49er.reset_index(drop=True)\n",
    "df_49erFX = df_49erFX.reset_index(drop=True)\n",
    "df_iqfoil_men = df_iqfoil_men.reset_index(drop=True)\n",
    "df_iqfoil_women = df_iqfoil_women.reset_index(drop=True)\n",
    "df_kite_men = df_kite_men.reset_index(drop=True)\n",
    "df_kite_women = df_kite_women.reset_index(drop=True)"
   ]
  },
  {
   "cell_type": "code",
   "execution_count": null,
   "metadata": {},
   "outputs": [],
   "source": [
    "df_49er = df_49er.drop(['Sail #', 'Bow', 'Cat'], axis=1)\n",
    "df_49erFX = df_49erFX.drop(['Sail #', 'Bow', 'Cat'], axis=1)\n",
    "df_iqfoil_men = df_iqfoil_men.drop(['Sail #', 'Bow', 'Cat'], axis=1)\n",
    "df_iqfoil_women = df_iqfoil_women.drop(['Sail #', 'Bow', 'Cat'], axis=1)\n",
    "df_kite_men = df_kite_men.drop(['Sail #', 'Bow', 'Cat'], axis=1)\n",
    "df_kite_women = df_kite_women.drop(['Sail #', 'Bow', 'Cat'], axis=1)"
   ]
  },
  {
   "cell_type": "code",
   "execution_count": null,
   "metadata": {},
   "outputs": [],
   "source": [
    "# rename columns\n",
    "df_49er = df_49er.rename(columns=\n",
    "                         {'Crew / Club': 'Nome Competidor', 'TOTAL': 'Pontuação Total', 'NET': 'Nett', 'Pos': 'Posição Geral'})\n",
    "df_49erFX = df_49erFX.rename(columns=\n",
    "                             {'Crew / Club': 'Nome Competidor', 'TOTAL': 'Pontuação Total', 'NET': 'Nett', 'Pos': 'Posição Geral'})\n",
    "df_iqfoil_men = df_iqfoil_men.rename(columns=\n",
    "                                     {'Crew / Club': 'Nome Competidor', 'TOTAL': 'Pontuação Total', 'NET': 'Nett', 'Pos': 'Posição Geral'})\n",
    "df_iqfoil_women = df_iqfoil_women.rename(columns=\n",
    "                                         {'Crew / Club': 'Nome Competidor', 'TOTAL': 'Pontuação Total', 'NET': 'Nett', 'Pos': 'Posição Geral'})\n",
    "df_kite_men = df_kite_men.rename(columns=\n",
    "                                 {'Crew / Club': 'Nome Competidor', 'TOTAL': 'Pontuação Total', 'NET': 'Nett', 'Pos': 'Posição Geral', 1: 'Pontuação Regata'})\n",
    "df_kite_women = df_kite_women.rename(columns=\n",
    "                                     {'Crew / Club': 'Nome Competidor', 'TOTAL': 'Pontuação Total', 'NET': 'Nett', 'Pos': 'Posição Geral', 1: 'Pontuação Regata'})"
   ]
  },
  {
   "cell_type": "code",
   "execution_count": null,
   "metadata": {},
   "outputs": [],
   "source": [
    "#turn all the 1Q, 2Q, ..., 14F, 15F, MR columns into rows\n",
    "df_49er = pd.melt(df_49er, id_vars=['Posição Geral', 'Nome Competidor', 'Pontuação Total', 'Nett'], \n",
    "                  var_name='Flotilha', value_name='Pontuação Regata')\n",
    "\n",
    "df_49erFX = pd.melt(df_49erFX, id_vars=['Posição Geral', 'Nome Competidor', 'Pontuação Total', 'Nett'],\n",
    "                    var_name='Flotilha', value_name='Pontuação Regata')\n",
    "\n",
    "df_iqfoil_men = pd.melt(df_iqfoil_men, id_vars=['Posição Geral', 'Nome Competidor', 'Pontuação Total', 'Nett'],\n",
    "                        var_name='Flotilha', value_name='Pontuação Regata')\n",
    "\n",
    "df_iqfoil_women = pd.melt(df_iqfoil_women, id_vars=['Posição Geral', 'Nome Competidor', 'Pontuação Total', 'Nett'],\n",
    "                          var_name='Flotilha', value_name='Pontuação Regata')"
   ]
  },
  {
   "cell_type": "code",
   "execution_count": null,
   "metadata": {},
   "outputs": [],
   "source": [
    "# define functions to rename fleet names\n",
    "def rename_fleet(x):\n",
    "    if x == 'MR':\n",
    "        x = 'MR'\n",
    "    else:\n",
    "        x = 'G'\n",
    "    return x\n",
    "\n",
    "df_49er['Flotilha'] = df_49er['Flotilha'].apply(rename_fleet)\n",
    "df_49erFX['Flotilha'] = df_49erFX['Flotilha'].apply(rename_fleet)"
   ]
  },
  {
   "cell_type": "code",
   "execution_count": null,
   "metadata": {},
   "outputs": [],
   "source": [
    "df_kite_men['Flotilha'] = 'G'\n",
    "df_kite_women['Flotilha'] = 'G'"
   ]
  },
  {
   "cell_type": "code",
   "execution_count": null,
   "metadata": {},
   "outputs": [],
   "source": [
    "df_49er['Nome Competição'] = ['Semaine Olympique Francaise De Voile 2022'] * len(df_49er)\n",
    "df_49er['ID Competição'] = [7] * len(df_49er)\n",
    "df_49er['Classe Vela'] = ['49er'] * len(df_49er)\n",
    "df_49er['Punição'] = [''] * len(df_49er)\n",
    "\n",
    "df_49erFX['Nome Competição'] = ['Semaine Olympique Francaise De Voile 2022'] * len(df_49erFX)\n",
    "df_49erFX['ID Competição'] = [7] * len(df_49erFX)\n",
    "df_49erFX['Classe Vela'] = ['49erFX'] * len(df_49erFX)\n",
    "df_49erFX['Punição'] = [''] * len(df_49erFX)\n",
    "\n",
    "df_iqfoil_men['Nome Competição'] = ['Semaine Olympique Francaise De Voile 2022'] * len(df_iqfoil_men)\n",
    "df_iqfoil_men['ID Competição'] = [7] * len(df_iqfoil_men)\n",
    "df_iqfoil_men['Classe Vela'] = ['IQFOIL Masc.'] * len(df_iqfoil_men)\n",
    "df_iqfoil_men['Punição'] = [''] * len(df_iqfoil_men)\n",
    "\n",
    "df_iqfoil_women['Nome Competição'] = ['Semaine Olympique Francaise De Voile 2022'] * len(df_iqfoil_women)\n",
    "df_iqfoil_women['ID Competição'] = [7] * len(df_iqfoil_women)\n",
    "df_iqfoil_women['Classe Vela'] = ['IQFOIL Fem.'] * len(df_iqfoil_women)\n",
    "df_iqfoil_women['Punição'] = [''] * len(df_iqfoil_women)\n",
    "\n",
    "df_kite_men['Nome Competição'] = ['Semaine Olympique Francaise De Voile 2022'] * len(df_kite_men)\n",
    "df_kite_men['ID Competição'] = [7] * len(df_kite_men)\n",
    "df_kite_men['Classe Vela'] = ['Formula Kite Masc.'] * len(df_kite_men)\n",
    "df_kite_men['Punição'] = [''] * len(df_kite_men)\n",
    "\n",
    "df_kite_women['Nome Competição'] = ['Semaine Olympique Francaise De Voile 2022'] * len(df_kite_women)\n",
    "df_kite_women['ID Competição'] = [7] * len(df_kite_women)\n",
    "df_kite_women['Classe Vela'] = ['Formula Kite Fem.'] * len(df_kite_women)\n",
    "df_kite_women['Punição'] = [''] * len(df_kite_women)"
   ]
  },
  {
   "cell_type": "code",
   "execution_count": null,
   "metadata": {},
   "outputs": [],
   "source": [
    "# drop rows with NaN values in the column 'Pontuação Regata'\n",
    "df_49er = df_49er.dropna(subset=['Pontuação Regata'])\n",
    "df_49erFX = df_49erFX.dropna(subset=['Pontuação Regata'])\n",
    "df_iqfoil_men = df_iqfoil_men.dropna(subset=['Pontuação Regata'])\n",
    "df_iqfoil_women = df_iqfoil_women.dropna(subset=['Pontuação Regata'])\n",
    "df_kite_men = df_kite_men.dropna(subset=['Pontuação Regata'])\n",
    "df_kite_women = df_kite_women.dropna(subset=['Pontuação Regata'])"
   ]
  },
  {
   "cell_type": "code",
   "execution_count": null,
   "metadata": {},
   "outputs": [],
   "source": [
    "column_order = ['Nome Competidor', 'ID Competição', 'Classe Vela', \n",
    "                'Pontuação Regata', 'Flotilha', 'Posição Geral', \n",
    "                'Punição', 'Pontuação Total', 'Nett', 'Nome Competição']\n",
    "\n",
    "df_49er = df_49er[column_order]\n",
    "df_49erFX = df_49erFX[column_order]\n",
    "df_iqfoil_men = df_iqfoil_men[column_order]\n",
    "df_iqfoil_women = df_iqfoil_women[column_order]\n",
    "df_kite_men = df_kite_men[column_order]\n",
    "df_kite_women = df_kite_women[column_order]"
   ]
  },
  {
   "cell_type": "code",
   "execution_count": null,
   "metadata": {},
   "outputs": [],
   "source": [
    "df_49er.to_csv('results/SemaineOlympiqueFrancaiseDeVoile2022_49er.csv', index=False)\n",
    "df_49erFX.to_csv('results/SemaineOlympiqueFrancaiseDeVoile2022_49erFX.csv', index=False)\n",
    "df_iqfoil_men.to_csv('results/SemaineOlympiqueFrancaiseDeVoile2022_iqfoilmen.csv', index=False)\n",
    "df_iqfoil_women.to_csv('results/SemaineOlympiqueFrancaiseDeVoile2022_iqfoilwomen.csv', index=False)\n",
    "df_kite_men.to_csv('results/SemaineOlympiqueFrancaiseDeVoile2022_kitemen.csv', index=False)\n",
    "df_kite_women.to_csv('results/SemaineOlympiqueFrancaiseDeVoile2022_kitewomen.csv', index=False)"
   ]
  }
 ],
 "metadata": {
  "kernelspec": {
   "display_name": "Python 3",
   "language": "python",
   "name": "python3"
  },
  "language_info": {
   "codemirror_mode": {
    "name": "ipython",
    "version": 3
   },
   "file_extension": ".py",
   "mimetype": "text/x-python",
   "name": "python",
   "nbconvert_exporter": "python",
   "pygments_lexer": "ipython3",
   "version": "3.12.0"
  }
 },
 "nbformat": 4,
 "nbformat_minor": 2
}
