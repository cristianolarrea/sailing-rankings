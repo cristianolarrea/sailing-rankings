{
 "cells": [
  {
   "cell_type": "code",
   "execution_count": 343,
   "metadata": {},
   "outputs": [],
   "source": [
    "from selenium.webdriver import Chrome\n",
    "from selenium.webdriver.chrome.options import Options\n",
    "from bs4 import BeautifulSoup\n",
    "import pandas as pd\n",
    "import re"
   ]
  },
  {
   "cell_type": "markdown",
   "metadata": {},
   "source": [
    "## Getting page content by Selenium\n",
    "\n",
    "We need to load html content by selenium to avoid the Beautiful Soup load until the entire webpage is loaded."
   ]
  },
  {
   "cell_type": "code",
   "execution_count": 347,
   "metadata": {},
   "outputs": [],
   "source": [
    "options = Options()\n",
    "options.add_argument(\"--headless\")"
   ]
  },
  {
   "cell_type": "code",
   "execution_count": 356,
   "metadata": {},
   "outputs": [],
   "source": [
    "def get_pontuacao(text):\n",
    "    \"\"\"\n",
    "    This functions geta a string like \"'\\n\\npunt_Gold _0000002 2\\n                                            \\n'\"\n",
    "    and extract the part referent to the pontuation\n",
    "    \"\"\"\n",
    "    try:\n",
    "        pontuacao = text.split(\"\\n\")[2].split(\" \")[-1]\n",
    "    except:\n",
    "        pontuacao= \"TO VERIFY\"\n",
    "    return pontuacao"
   ]
  },
  {
   "cell_type": "code",
   "execution_count": 406,
   "metadata": {},
   "outputs": [],
   "source": [
    "def get_flotilha(soup_object):\n",
    "    \"\"\"\n",
    "    This functions gets a input like <span style=\"display:none;\">punt_Yellow _0000003</span>\n",
    "    and returns the series of this data.\n",
    "    \"\"\"\n",
    "    if \"Yellow\" in str(soup_object) or \"Blue\" in str(soup_object) or \"Red\"in str(soup_object) or \"Pink\" in str(soup_object) or \"White\" in str(soup_object) or \"Green\" in str(soup_object) or \"Emerald\" in str(soup_object)  or \"punt_ \" in str(soup_object):\n",
    "        return \"G\"\n",
    "    elif \"Bronze\" in str(soup_object):\n",
    "        return \"B\"\n",
    "    elif \"Silver\" in str(soup_object):\n",
    "        return \"P\"\n",
    "    elif \"Gold\" in str(soup_object):\n",
    "        return \"O\"\n",
    "    elif \"Medal\" in str(soup_object):\n",
    "        return \"Medal Race\"\n",
    "    else:\n",
    "        return \"TO VERIFY\""
   ]
  },
  {
   "cell_type": "code",
   "execution_count": 358,
   "metadata": {},
   "outputs": [],
   "source": [
    "def is_data(css_class):\n",
    "    return css_class==\"odd\" or css_class==\"even\""
   ]
  },
  {
   "cell_type": "code",
   "execution_count": 415,
   "metadata": {},
   "outputs": [],
   "source": [
    "COMPETICAO = \"European Championship 2023\"\n",
    "CATEGORIA = \"470\"\n",
    "URL = 'https://2023europeans.470.org//en/default/races/resultsajax/id/6691/idsc2r/20124/allResults/1/handicap'\n",
    "\n",
    "with Chrome(options=options) as browser:\n",
    "    browser.get(URL)\n",
    "    html = browser.page_source\n",
    "soup = BeautifulSoup(html, \"html.parser\")\n",
    "\n",
    "data = {\n",
    "    \"Id Resultado\": [],\n",
    "    \"Id Competidor\": [],\n",
    "    \"Nome Competidor\": [],\n",
    "    \"Id Competição\": [],\n",
    "    \"Classe Vela\": [],\n",
    "    \"Pontuação Regata\": [],\n",
    "    \"Flotilha\": [],\n",
    "    \"Posição Geral\": [],\n",
    "    \"Punição\": [],\n",
    "    \"Pontuação Total\": [],\n",
    "    \"Nett\": [],\n",
    "    \"Nome Competição\": []    \n",
    "}\n",
    "\n",
    "for row in soup.find_all(class_ = is_data):\n",
    "\n",
    "    for idx, j in enumerate(row.findChildren(\"td\")):\n",
    "        str_obj = str(j)\n",
    "        if \"position\" in str_obj:\n",
    "            position = j.text\n",
    "\n",
    "        elif \"netpoints\" in str_obj:\n",
    "            net = j.text\n",
    "\n",
    "        elif \"totalpoints\" in str_obj:\n",
    "            totalpoints = j.text\n",
    "\n",
    "        elif idx==4: #This is 3 or 4, depending on sumula\n",
    "            name = j.text   \n",
    " \n",
    "\n",
    "    for race in row.find_all(attrs={\"rel\": True}):\n",
    "        flotilha = get_flotilha(race)\n",
    "        pontuacao = get_pontuacao(race.text)  \n",
    "        data[\"Id Resultado\"].append(None)\n",
    "        data[\"Id Competidor\"].append(None),\n",
    "        data[\"Nome Competidor\"].append(name),\n",
    "        data[\"Id Competição\"].append(None),\n",
    "        data[\"Classe Vela\"].append(CATEGORIA),\n",
    "        data[\"Pontuação Regata\"].append(pontuacao),\n",
    "        data[\"Posição Geral\"].append(position),\n",
    "        data[\"Flotilha\"].append(flotilha)\n",
    "        data[\"Punição\"].append(None),\n",
    "        data[\"Pontuação Total\"].append(totalpoints),\n",
    "        data[\"Nett\"].append(net),\n",
    "        data[\"Nome Competição\"].append(COMPETICAO) \n",
    "df= pd.DataFrame(data)\n",
    "df.to_csv(f\"results/{COMPETICAO+CATEGORIA}.csv\")"
   ]
  },
  {
   "cell_type": "markdown",
   "metadata": {},
   "source": [
    "## Agregando resultados"
   ]
  },
  {
   "cell_type": "code",
   "execution_count": 416,
   "metadata": {},
   "outputs": [],
   "source": [
    "import os"
   ]
  },
  {
   "cell_type": "code",
   "execution_count": 418,
   "metadata": {},
   "outputs": [],
   "source": [
    "files = [f for f in os.listdir(\"scraped-data\")]"
   ]
  },
  {
   "cell_type": "code",
   "execution_count": 420,
   "metadata": {},
   "outputs": [],
   "source": [
    "df_init = pd.read_csv(\"scraped-data/\"+files[0])\n"
   ]
  },
  {
   "cell_type": "code",
   "execution_count": 423,
   "metadata": {},
   "outputs": [],
   "source": [
    "for file in files[1:]:\n",
    "    df_init = pd.concat([df_init, pd.read_csv(\"scraped-data/\"+file)])"
   ]
  },
  {
   "cell_type": "code",
   "execution_count": 428,
   "metadata": {},
   "outputs": [],
   "source": [
    "df_init.to_csv(\"scraped-data/cluster1-html.csv\")"
   ]
  }
 ],
 "metadata": {
  "kernelspec": {
   "display_name": "Python 3",
   "language": "python",
   "name": "python3"
  },
  "language_info": {
   "codemirror_mode": {
    "name": "ipython",
    "version": 3
   },
   "file_extension": ".py",
   "mimetype": "text/x-python",
   "name": "python",
   "nbconvert_exporter": "python",
   "pygments_lexer": "ipython3",
   "version": "3.8.9"
  },
  "orig_nbformat": 4
 },
 "nbformat": 4,
 "nbformat_minor": 2
}
