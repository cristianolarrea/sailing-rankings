{
 "cells": [
  {
   "cell_type": "code",
   "execution_count": 319,
   "metadata": {},
   "outputs": [],
   "source": [
    "import pandas as pd"
   ]
  },
  {
   "cell_type": "code",
   "execution_count": 320,
   "metadata": {},
   "outputs": [],
   "source": [
    "df_49er = pd.read_excel('source-data/overall_49er.xlsx')\n",
    "df_49erFX = pd.read_excel('source-data/overall_49erFX.xlsx')\n",
    "df_iqfoil_men = pd.read_excel('source-data/overall_IQFOIL_MEN.xlsx')\n",
    "df_iqfoil_women = pd.read_excel('source-data/overall_IQFOIL_WOMEN.xlsx')\n",
    "df_kite_men = pd.read_excel('source-data/overall_KITE_MEN.xlsx')\n",
    "df_kite_women= pd.read_excel('source-data/overall_KITE_WOMEN.xlsx')"
   ]
  },
  {
   "cell_type": "code",
   "execution_count": 321,
   "metadata": {},
   "outputs": [],
   "source": [
    "df_49er = df_49er.drop(0)\n",
    "df_49erFX = df_49erFX.drop([0,1])\n",
    "df_iqfoil_men = df_iqfoil_men.drop([0,1])\n",
    "df_iqfoil_women = df_iqfoil_women.drop([0,1])"
   ]
  },
  {
   "cell_type": "code",
   "execution_count": 322,
   "metadata": {},
   "outputs": [],
   "source": [
    "df_49er.columns = df_49er.iloc[0]\n",
    "df_49erFX.columns = df_49erFX.iloc[0]\n",
    "df_iqfoil_men.columns = df_iqfoil_men.iloc[0]\n",
    "df_iqfoil_women.columns = df_iqfoil_women.iloc[0]\n",
    "\n",
    "df_49er = df_49er.drop(1)\n",
    "df_49erFX = df_49erFX.drop(2)\n",
    "df_iqfoil_men = df_iqfoil_men.drop(2)\n",
    "df_iqfoil_women = df_iqfoil_women.drop(2)"
   ]
  },
  {
   "cell_type": "code",
   "execution_count": 323,
   "metadata": {},
   "outputs": [],
   "source": [
    "df_49er = df_49er.drop(['Sail #', 'Bow', 'Cat'], axis=1)\n",
    "df_49erFX = df_49erFX.drop(['Sail #', 'Bow', 'Cat'], axis=1)\n",
    "df_iqfoil_men = df_iqfoil_men.drop(['Sail #', 'Bow', 'Cat'], axis=1)\n",
    "df_iqfoil_women = df_iqfoil_women.drop(['Sail #', 'Bow', 'Cat'], axis=1)\n",
    "df_kite_men = df_kite_men.drop(['Sail #', 'Bow', 'Cat'], axis=1)\n",
    "df_kite_women = df_kite_women.drop(['Sail #', 'Bow', 'Cat'], axis=1)"
   ]
  },
  {
   "cell_type": "code",
   "execution_count": 324,
   "metadata": {},
   "outputs": [],
   "source": [
    "# rename columns\n",
    "df_49er = df_49er.rename(columns=\n",
    "                         {'Crew / Club': 'Nome Competidor', 'TOTAL': 'Pontuação Total', 'NET': 'Nett', 'Pos': 'Posição Geral'})\n",
    "df_49erFX = df_49erFX.rename(columns=\n",
    "                             {'Crew / Club': 'Nome Competidor', 'TOTAL': 'Pontuação Total', 'NET': 'Nett', 'Pos': 'Posição Geral'})\n",
    "df_iqfoil_men = df_iqfoil_men.rename(columns=\n",
    "                                     {'Crew / Club': 'Nome Competidor', 'TOTAL': 'Pontuação Total', 'NET': 'Nett', 'Pos': 'Posição Geral'})\n",
    "df_iqfoil_women = df_iqfoil_women.rename(columns=\n",
    "                                         {'Crew / Club': 'Nome Competidor', 'TOTAL': 'Pontuação Total', 'NET': 'Nett', 'Pos': 'Posição Geral'})\n",
    "df_kite_men = df_kite_men.rename(columns=\n",
    "                                 {'Crew / Club': 'Nome Competidor', 'TOTAL': 'Pontuação Total', 'NET': 'Nett', 'Pos': 'Posição Geral', 1: 'Pontuação Regata'})\n",
    "df_kite_women = df_kite_women.rename(columns=\n",
    "                                     {'Crew / Club': 'Nome Competidor', 'TOTAL': 'Pontuação Total', 'NET': 'Nett', 'Pos': 'Posição Geral', 1: 'Pontuação Regata'})"
   ]
  },
  {
   "cell_type": "code",
   "execution_count": 325,
   "metadata": {},
   "outputs": [],
   "source": [
    "#turn all the 1Q, 2Q, ..., 14F, 15F, MR columns into rows\n",
    "df_49er = pd.melt(df_49er, id_vars=['Posição Geral', 'Nome Competidor', 'Pontuação Total', 'Nett'], \n",
    "                  var_name='Flotilha', value_name='Pontuação Regata')\n",
    "\n",
    "df_49erFX = pd.melt(df_49erFX, id_vars=['Posição Geral', 'Nome Competidor', 'Pontuação Total', 'Nett'],\n",
    "                    var_name='Flotilha', value_name='Pontuação Regata')\n",
    "\n",
    "df_iqfoil_men = pd.melt(df_iqfoil_men, id_vars=['Posição Geral', 'Nome Competidor', 'Pontuação Total', 'Nett'],\n",
    "                        var_name='Flotilha', value_name='Pontuação Regata')\n",
    "\n",
    "df_iqfoil_women = pd.melt(df_iqfoil_women, id_vars=['Posição Geral', 'Nome Competidor', 'Pontuação Total', 'Nett'],\n",
    "                          var_name='Flotilha', value_name='Pontuação Regata')"
   ]
  },
  {
   "cell_type": "code",
   "execution_count": 326,
   "metadata": {},
   "outputs": [],
   "source": [
    "# define functions to rename fleet names\n",
    "def rename_fleet(x):\n",
    "    if x == 'MR':\n",
    "        x = 'MR'\n",
    "    else:\n",
    "        x = 'G'\n",
    "    return x\n",
    "\n",
    "df_49er['Flotilha'] = df_49er['Flotilha'].apply(rename_fleet)\n",
    "df_49erFX['Flotilha'] = df_49erFX['Flotilha'].apply(rename_fleet)"
   ]
  },
  {
   "cell_type": "code",
   "execution_count": 327,
   "metadata": {},
   "outputs": [],
   "source": [
    "df_kite_men['Flotilha'] = 'G'\n",
    "df_kite_women['Flotilha'] = 'G'"
   ]
  },
  {
   "cell_type": "code",
   "execution_count": 328,
   "metadata": {},
   "outputs": [],
   "source": [
    "df_49er['Nome Competição'] = ['Semaine Olympique Francaise De Voile 2022'] * len(df_49er)\n",
    "df_49er['ID Competição'] = [7] * len(df_49er)\n",
    "df_49er['Classe Vela'] = ['49er'] * len(df_49er)\n",
    "df_49er['Punição'] = [''] * len(df_49er)\n",
    "\n",
    "df_49erFX['Nome Competição'] = ['Semaine Olympique Francaise De Voile 2022'] * len(df_49erFX)\n",
    "df_49erFX['ID Competição'] = [7] * len(df_49erFX)\n",
    "df_49erFX['Classe Vela'] = ['49erFX'] * len(df_49erFX)\n",
    "df_49erFX['Punição'] = [''] * len(df_49erFX)\n",
    "\n",
    "df_iqfoil_men['Nome Competição'] = ['Semaine Olympique Francaise De Voile 2022'] * len(df_iqfoil_men)\n",
    "df_iqfoil_men['ID Competição'] = [7] * len(df_iqfoil_men)\n",
    "df_iqfoil_men['Classe Vela'] = ['IQFOIL Masc.'] * len(df_iqfoil_men)\n",
    "df_iqfoil_men['Punição'] = [''] * len(df_iqfoil_men)\n",
    "\n",
    "df_iqfoil_women['Nome Competição'] = ['Semaine Olympique Francaise De Voile 2022'] * len(df_iqfoil_women)\n",
    "df_iqfoil_women['ID Competição'] = [7] * len(df_iqfoil_women)\n",
    "df_iqfoil_women['Classe Vela'] = ['IQFOIL Fem.'] * len(df_iqfoil_women)\n",
    "df_iqfoil_women['Punição'] = [''] * len(df_iqfoil_women)\n",
    "\n",
    "df_kite_men['Nome Competição'] = ['Semaine Olympique Francaise De Voile 2022'] * len(df_kite_men)\n",
    "df_kite_men['ID Competição'] = [7] * len(df_kite_men)\n",
    "df_kite_men['Classe Vela'] = ['Formula Kite Masc.'] * len(df_kite_men)\n",
    "df_kite_men['Punição'] = [''] * len(df_kite_men)\n",
    "\n",
    "df_kite_women['Nome Competição'] = ['Semaine Olympique Francaise De Voile 2022'] * len(df_kite_women)\n",
    "df_kite_women['ID Competição'] = [7] * len(df_kite_women)\n",
    "df_kite_women['Classe Vela'] = ['Formula Kite Fem.'] * len(df_kite_women)\n",
    "df_kite_women['Punição'] = [''] * len(df_kite_women)"
   ]
  },
  {
   "cell_type": "code",
   "execution_count": 329,
   "metadata": {},
   "outputs": [],
   "source": [
    "# drop rows with NaN values in the column 'Pontuação Regata'\n",
    "df_49er = df_49er.dropna(subset=['Pontuação Regata'])\n",
    "df_49erFX = df_49erFX.dropna(subset=['Pontuação Regata'])\n",
    "df_iqfoil_men = df_iqfoil_men.dropna(subset=['Pontuação Regata'])\n",
    "df_iqfoil_women = df_iqfoil_women.dropna(subset=['Pontuação Regata'])\n",
    "df_kite_men = df_kite_men.dropna(subset=['Pontuação Regata'])\n",
    "df_kite_women = df_kite_women.dropna(subset=['Pontuação Regata'])"
   ]
  },
  {
   "cell_type": "code",
   "execution_count": 330,
   "metadata": {},
   "outputs": [],
   "source": [
    "column_order = ['Nome Competidor', 'ID Competição', 'Classe Vela', \n",
    "                'Pontuação Regata', 'Flotilha', 'Posição Geral', \n",
    "                'Punição', 'Pontuação Total', 'Nett', 'Nome Competição']\n",
    "\n",
    "df_49er = df_49er[column_order]\n",
    "df_49erFX = df_49erFX[column_order]\n",
    "df_iqfoil_men = df_iqfoil_men[column_order]\n",
    "df_iqfoil_women = df_iqfoil_women[column_order]\n",
    "df_kite_men = df_kite_men[column_order]\n",
    "df_kite_women = df_kite_women[column_order]"
   ]
  },
  {
   "cell_type": "code",
   "execution_count": 331,
   "metadata": {},
   "outputs": [],
   "source": [
    "# remove , in the name column\n",
    "df_49er['Nome Competidor'] = df_49er['Nome Competidor'].str.replace(',', '')\n",
    "df_49erFX['Nome Competidor'] = df_49erFX['Nome Competidor'].str.replace(',', '')\n",
    "df_iqfoil_men['Nome Competidor'] = df_iqfoil_men['Nome Competidor'].str.replace(',', '')\n",
    "df_iqfoil_women['Nome Competidor'] = df_iqfoil_women['Nome Competidor'].str.replace(',', '')\n",
    "df_kite_men['Nome Competidor'] = df_kite_men['Nome Competidor'].str.replace(',', '')\n",
    "df_kite_women['Nome Competidor'] = df_kite_women['Nome Competidor'].str.replace(',', '')\n",
    "\n",
    "df_49er['Nome Competidor'] = df_49er['Nome Competidor'].str.replace('\\n', '')\n",
    "df_49erFX['Nome Competidor'] = df_49erFX['Nome Competidor'].str.replace('\\n', '')"
   ]
  },
  {
   "cell_type": "code",
   "execution_count": 332,
   "metadata": {},
   "outputs": [],
   "source": [
    "# in the name column, remove the name of the club after \" /\" \n",
    "df_iqfoil_women['Nome Competidor'] = df_iqfoil_women['Nome Competidor'].str.split(' /').str[0]"
   ]
  },
  {
   "cell_type": "code",
   "execution_count": 333,
   "metadata": {},
   "outputs": [],
   "source": [
    "df_49er.to_csv('results/SemaineOlympiqueFrancaiseDeVoile2022_49er.csv', index=False)\n",
    "df_49erFX.to_csv('results/SemaineOlympiqueFrancaiseDeVoile2022_49erFX.csv', index=False)\n",
    "df_iqfoil_men.to_csv('results/SemaineOlympiqueFrancaiseDeVoile2022_iqfoilmen.csv', index=False)\n",
    "df_iqfoil_women.to_csv('results/SemaineOlympiqueFrancaiseDeVoile2022_iqfoilwomen.csv', index=False)\n",
    "df_kite_men.to_csv('results/SemaineOlympiqueFrancaiseDeVoile2022_kitemen.csv', index=False)\n",
    "df_kite_women.to_csv('results/SemaineOlympiqueFrancaiseDeVoile2022_kitewomen.csv', index=False)"
   ]
  },
  {
   "cell_type": "code",
   "execution_count": 334,
   "metadata": {},
   "outputs": [],
   "source": [
    "# aggregating results\n",
    "import os"
   ]
  },
  {
   "cell_type": "code",
   "execution_count": 335,
   "metadata": {},
   "outputs": [],
   "source": [
    "files = [f for f in os.listdir(\"scraped-data\")]"
   ]
  },
  {
   "cell_type": "code",
   "execution_count": 336,
   "metadata": {},
   "outputs": [],
   "source": [
    "df_init = pd.read_csv(\"scraped-data/\"+files[0])\n",
    "for file in files[1:]:\n",
    "    df_init = pd.concat([df_init, pd.read_csv(\"scraped-data/\"+file)])\n",
    "df_init.to_csv(\"results/pdfscluster1.csv\", index=False)  "
   ]
  },
  {
   "cell_type": "code",
   "execution_count": 337,
   "metadata": {},
   "outputs": [
    {
     "data": {
      "text/plain": [
       "2798"
      ]
     },
     "execution_count": 337,
     "metadata": {},
     "output_type": "execute_result"
    }
   ],
   "source": [
    "len(df_init)"
   ]
  }
 ],
 "metadata": {
  "kernelspec": {
   "display_name": "Python 3",
   "language": "python",
   "name": "python3"
  },
  "language_info": {
   "codemirror_mode": {
    "name": "ipython",
    "version": 3
   },
   "file_extension": ".py",
   "mimetype": "text/x-python",
   "name": "python",
   "nbconvert_exporter": "python",
   "pygments_lexer": "ipython3",
   "version": "3.12.0"
  }
 },
 "nbformat": 4,
 "nbformat_minor": 2
}
