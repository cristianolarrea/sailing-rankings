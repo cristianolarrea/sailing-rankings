{
 "cells": [
  {
   "cell_type": "code",
   "execution_count": 7,
   "metadata": {},
   "outputs": [],
   "source": [
    "import pandas as pd\n",
    "import numpy as np"
   ]
  },
  {
   "cell_type": "code",
   "execution_count": 29,
   "metadata": {},
   "outputs": [],
   "source": [
    "df = pd.read_excel(\"source-data/2022_ILCA_7_Europeans_ILCA_7_Men_s (2).xlsx\")"
   ]
  },
  {
   "cell_type": "code",
   "execution_count": 30,
   "metadata": {},
   "outputs": [
    {
     "data": {
      "text/html": [
       "<div>\n",
       "<style scoped>\n",
       "    .dataframe tbody tr th:only-of-type {\n",
       "        vertical-align: middle;\n",
       "    }\n",
       "\n",
       "    .dataframe tbody tr th {\n",
       "        vertical-align: top;\n",
       "    }\n",
       "\n",
       "    .dataframe thead th {\n",
       "        text-align: right;\n",
       "    }\n",
       "</style>\n",
       "<table border=\"1\" class=\"dataframe\">\n",
       "  <thead>\n",
       "    <tr style=\"text-align: right;\">\n",
       "      <th></th>\n",
       "      <th>Unnamed: 0</th>\n",
       "      <th>Unnamed: 1</th>\n",
       "      <th>Unnamed: 2</th>\n",
       "      <th>Concurrents / competitors</th>\n",
       "      <th>Pts</th>\n",
       "      <th>Courses / Races</th>\n",
       "    </tr>\n",
       "  </thead>\n",
       "  <tbody>\n",
       "    <tr>\n",
       "      <th>0</th>\n",
       "      <td>1</td>\n",
       "      <td>CYP</td>\n",
       "      <td>212431</td>\n",
       "      <td>KONTIDES Pavlos</td>\n",
       "      <td>35,00</td>\n",
       "      <td>2   3   7 *10   1 *22  11   4   3   1   3</td>\n",
       "    </tr>\n",
       "    <tr>\n",
       "      <th>1</th>\n",
       "      <td>2</td>\n",
       "      <td>GBR</td>\n",
       "      <td>210139</td>\n",
       "      <td>BECKETT Michael</td>\n",
       "      <td>36,00</td>\n",
       "      <td>*03   2   1   1   1   1   4  22 *25   2   2</td>\n",
       "    </tr>\n",
       "    <tr>\n",
       "      <th>2</th>\n",
       "      <td>3</td>\n",
       "      <td>FIN</td>\n",
       "      <td>214111</td>\n",
       "      <td>TAPPER Kaarle</td>\n",
       "      <td>55,00</td>\n",
       "      <td>7*DNF   1   2   5   4 *49   5  23   3   5</td>\n",
       "    </tr>\n",
       "    <tr>\n",
       "      <th>3</th>\n",
       "      <td>4</td>\n",
       "      <td>HUN</td>\n",
       "      <td>213119</td>\n",
       "      <td>VADNAI Jonatan</td>\n",
       "      <td>69,00</td>\n",
       "      <td>2   4 *09   3   6  12   5   8 *18  17  12</td>\n",
       "    </tr>\n",
       "    <tr>\n",
       "      <th>4</th>\n",
       "      <td>5</td>\n",
       "      <td>GBR</td>\n",
       "      <td>221813</td>\n",
       "      <td>WHALEY Sam</td>\n",
       "      <td>76,00</td>\n",
       "      <td>*32  18   2  16   9   3   2 *24   6  10  10</td>\n",
       "    </tr>\n",
       "  </tbody>\n",
       "</table>\n",
       "</div>"
      ],
      "text/plain": [
       "   Unnamed: 0 Unnamed: 1  Unnamed: 2 Concurrents / competitors    Pts  \\\n",
       "0           1        CYP      212431           KONTIDES Pavlos  35,00   \n",
       "1           2        GBR      210139           BECKETT Michael  36,00   \n",
       "2           3        FIN      214111             TAPPER Kaarle  55,00   \n",
       "3           4        HUN      213119            VADNAI Jonatan  69,00   \n",
       "4           5        GBR      221813                WHALEY Sam  76,00   \n",
       "\n",
       "                               Courses / Races  \n",
       "0    2   3   7 *10   1 *22  11   4   3   1   3  \n",
       "1  *03   2   1   1   1   1   4  22 *25   2   2  \n",
       "2    7*DNF   1   2   5   4 *49   5  23   3   5  \n",
       "3    2   4 *09   3   6  12   5   8 *18  17  12  \n",
       "4  *32  18   2  16   9   3   2 *24   6  10  10  "
      ]
     },
     "execution_count": 30,
     "metadata": {},
     "output_type": "execute_result"
    }
   ],
   "source": [
    "df.head()"
   ]
  },
  {
   "cell_type": "code",
   "execution_count": 31,
   "metadata": {},
   "outputs": [],
   "source": [
    "s = df['Courses / Races'].str.split(' ').apply(pd.Series, 1).stack()"
   ]
  },
  {
   "cell_type": "code",
   "execution_count": 32,
   "metadata": {},
   "outputs": [],
   "source": [
    "s.index = s.index.droplevel(-1)"
   ]
  },
  {
   "cell_type": "code",
   "execution_count": 33,
   "metadata": {},
   "outputs": [],
   "source": [
    "s.name = 'Races'"
   ]
  },
  {
   "cell_type": "code",
   "execution_count": 34,
   "metadata": {},
   "outputs": [],
   "source": [
    "del df['Courses / Races']"
   ]
  },
  {
   "cell_type": "code",
   "execution_count": 35,
   "metadata": {},
   "outputs": [],
   "source": [
    "df = df.join(s)"
   ]
  },
  {
   "cell_type": "code",
   "execution_count": 36,
   "metadata": {},
   "outputs": [],
   "source": [
    "df.to_csv('scraped-data/European Championship 2022 Ilca 7.xlsx')"
   ]
  }
 ],
 "metadata": {
  "kernelspec": {
   "display_name": "Python 3",
   "language": "python",
   "name": "python3"
  },
  "language_info": {
   "codemirror_mode": {
    "name": "ipython",
    "version": 3
   },
   "file_extension": ".py",
   "mimetype": "text/x-python",
   "name": "python",
   "nbconvert_exporter": "python",
   "pygments_lexer": "ipython3",
   "version": "3.8.9"
  },
  "orig_nbformat": 4
 },
 "nbformat": 4,
 "nbformat_minor": 2
}
