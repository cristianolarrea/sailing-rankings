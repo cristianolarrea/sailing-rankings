{
 "cells": [
  {
   "cell_type": "code",
   "execution_count": null,
   "metadata": {},
   "outputs": [],
   "source": [
    "import pandas as pd\n",
    "import warnings\n",
    "warnings.filterwarnings('ignore')"
   ]
  },
  {
   "cell_type": "code",
   "execution_count": null,
   "metadata": {},
   "outputs": [],
   "source": [
    "mapped = pd.read_csv('mapped_competitions.csv')[[\"CLASSE\", \"CAMPEONATO\"]]\n",
    "df = pd.read_csv('../Banco de Súmulas - Sumulas.csv')"
   ]
  },
  {
   "cell_type": "code",
   "execution_count": null,
   "metadata": {},
   "outputs": [],
   "source": [
    "mapped.head()"
   ]
  },
  {
   "cell_type": "code",
   "execution_count": null,
   "metadata": {},
   "outputs": [],
   "source": [
    "extracted = df[[\"Classe Vela\", \"Nome Competição\"]].drop_duplicates()"
   ]
  },
  {
   "cell_type": "code",
   "execution_count": null,
   "metadata": {},
   "outputs": [],
   "source": [
    "extracted.head()"
   ]
  },
  {
   "cell_type": "code",
   "execution_count": null,
   "metadata": {},
   "outputs": [],
   "source": [
    "# remove spaces from end of words and upper case\n",
    "mapped[\"CLASSE\"] = mapped[\"CLASSE\"].str.strip().str.upper()\n",
    "mapped[\"CAMPEONATO\"] = mapped[\"CAMPEONATO\"].str.strip().str.upper()\n",
    "\n",
    "extracted[\"Classe Vela\"] = extracted[\"Classe Vela\"].str.strip().str.upper()\n",
    "extracted[\"Nome Competição\"] = extracted[\"Nome Competição\"].str.strip().str.upper()"
   ]
  },
  {
   "cell_type": "code",
   "execution_count": null,
   "metadata": {},
   "outputs": [],
   "source": [
    "n_not_extracted = mapped.shape[0] - extracted.shape[0]\n",
    "print(f\"Number of mapped class-competitions: {mapped.shape[0]}\")\n",
    "print(f\"Number of extracted class-competitions: {extracted.shape[0]}\")\n",
    "print(f\"Number of non-extracted class-competitions: {n_not_extracted}\")"
   ]
  },
  {
   "cell_type": "code",
   "execution_count": null,
   "metadata": {},
   "outputs": [],
   "source": [
    "# get the competitions that were not extracted\n",
    "mapped[\"FullID\"] = mapped[\"CLASSE\"] + ' ' + mapped[\"CAMPEONATO\"] \n",
    "extracted[\"FullID\"] = extracted[\"Classe Vela\"] + ' ' + extracted[\"Nome Competição\"]"
   ]
  },
  {
   "cell_type": "code",
   "execution_count": null,
   "metadata": {},
   "outputs": [],
   "source": [
    "flt = mapped[\"FullID\"].isin(extracted[\"FullID\"])\n",
    "mapped[~flt][[\"CLASSE\", \"CAMPEONATO\"]]"
   ]
  }
 ],
 "metadata": {
  "kernelspec": {
   "display_name": "Python 3",
   "language": "python",
   "name": "python3"
  },
  "language_info": {
   "codemirror_mode": {
    "name": "ipython",
    "version": 3
   },
   "file_extension": ".py",
   "mimetype": "text/x-python",
   "name": "python",
   "nbconvert_exporter": "python",
   "pygments_lexer": "ipython3",
   "version": "3.10.12"
  }
 },
 "nbformat": 4,
 "nbformat_minor": 2
}
