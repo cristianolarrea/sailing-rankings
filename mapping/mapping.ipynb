{
 "cells": [
  {
   "cell_type": "code",
   "execution_count": 1,
   "metadata": {},
   "outputs": [],
   "source": [
    "import pandas as pd\n",
    "import warnings\n",
    "warnings.filterwarnings('ignore')"
   ]
  },
  {
   "cell_type": "code",
   "execution_count": 2,
   "metadata": {},
   "outputs": [],
   "source": [
    "mapped = pd.read_csv('../data/mapped_competitions.csv')[[\"CLASSE\", \"CAMPEONATO\"]]\n",
    "df = pd.read_csv('../data/Banco de Súmulas - Sumulas.csv')"
   ]
  },
  {
   "cell_type": "code",
   "execution_count": 3,
   "metadata": {},
   "outputs": [
    {
     "data": {
      "text/html": [
       "<div>\n",
       "<style scoped>\n",
       "    .dataframe tbody tr th:only-of-type {\n",
       "        vertical-align: middle;\n",
       "    }\n",
       "\n",
       "    .dataframe tbody tr th {\n",
       "        vertical-align: top;\n",
       "    }\n",
       "\n",
       "    .dataframe thead th {\n",
       "        text-align: right;\n",
       "    }\n",
       "</style>\n",
       "<table border=\"1\" class=\"dataframe\">\n",
       "  <thead>\n",
       "    <tr style=\"text-align: right;\">\n",
       "      <th></th>\n",
       "      <th>CLASSE</th>\n",
       "      <th>CAMPEONATO</th>\n",
       "    </tr>\n",
       "  </thead>\n",
       "  <tbody>\n",
       "    <tr>\n",
       "      <th>0</th>\n",
       "      <td>Ilca 7</td>\n",
       "      <td>World Championship 2023</td>\n",
       "    </tr>\n",
       "    <tr>\n",
       "      <th>1</th>\n",
       "      <td>Ilca 7</td>\n",
       "      <td>World Championship 2022</td>\n",
       "    </tr>\n",
       "    <tr>\n",
       "      <th>2</th>\n",
       "      <td>Ilca 7</td>\n",
       "      <td>World Championship 2021</td>\n",
       "    </tr>\n",
       "    <tr>\n",
       "      <th>3</th>\n",
       "      <td>Ilca 7</td>\n",
       "      <td>World Championship 2020</td>\n",
       "    </tr>\n",
       "    <tr>\n",
       "      <th>4</th>\n",
       "      <td>Ilca 7</td>\n",
       "      <td>World Championship 2019</td>\n",
       "    </tr>\n",
       "  </tbody>\n",
       "</table>\n",
       "</div>"
      ],
      "text/plain": [
       "   CLASSE               CAMPEONATO\n",
       "0  Ilca 7  World Championship 2023\n",
       "1  Ilca 7  World Championship 2022\n",
       "2  Ilca 7  World Championship 2021\n",
       "3  Ilca 7  World Championship 2020\n",
       "4  Ilca 7  World Championship 2019"
      ]
     },
     "execution_count": 3,
     "metadata": {},
     "output_type": "execute_result"
    }
   ],
   "source": [
    "mapped.head()"
   ]
  },
  {
   "cell_type": "code",
   "execution_count": 4,
   "metadata": {},
   "outputs": [],
   "source": [
    "extracted = df[[\"Classe Vela\", \"Nome Competição\"]].drop_duplicates()"
   ]
  },
  {
   "cell_type": "code",
   "execution_count": 5,
   "metadata": {},
   "outputs": [
    {
     "data": {
      "text/html": [
       "<div>\n",
       "<style scoped>\n",
       "    .dataframe tbody tr th:only-of-type {\n",
       "        vertical-align: middle;\n",
       "    }\n",
       "\n",
       "    .dataframe tbody tr th {\n",
       "        vertical-align: top;\n",
       "    }\n",
       "\n",
       "    .dataframe thead th {\n",
       "        text-align: right;\n",
       "    }\n",
       "</style>\n",
       "<table border=\"1\" class=\"dataframe\">\n",
       "  <thead>\n",
       "    <tr style=\"text-align: right;\">\n",
       "      <th></th>\n",
       "      <th>Classe Vela</th>\n",
       "      <th>Nome Competição</th>\n",
       "    </tr>\n",
       "  </thead>\n",
       "  <tbody>\n",
       "    <tr>\n",
       "      <th>0</th>\n",
       "      <td>Ilca 7</td>\n",
       "      <td>Central and South American Championship 2022</td>\n",
       "    </tr>\n",
       "    <tr>\n",
       "      <th>340</th>\n",
       "      <td>Ilca 6</td>\n",
       "      <td>Central and South American Championship 2023</td>\n",
       "    </tr>\n",
       "    <tr>\n",
       "      <th>1006</th>\n",
       "      <td>49er</td>\n",
       "      <td>European Championship 2021</td>\n",
       "    </tr>\n",
       "    <tr>\n",
       "      <th>1021</th>\n",
       "      <td>Formula Kite Fem.</td>\n",
       "      <td>European Championship 2021</td>\n",
       "    </tr>\n",
       "    <tr>\n",
       "      <th>1041</th>\n",
       "      <td>Formula Kite Masc.</td>\n",
       "      <td>European Championship 2021</td>\n",
       "    </tr>\n",
       "  </tbody>\n",
       "</table>\n",
       "</div>"
      ],
      "text/plain": [
       "             Classe Vela                               Nome Competição\n",
       "0                 Ilca 7  Central and South American Championship 2022\n",
       "340               Ilca 6  Central and South American Championship 2023\n",
       "1006                49er                    European Championship 2021\n",
       "1021   Formula Kite Fem.                    European Championship 2021\n",
       "1041  Formula Kite Masc.                    European Championship 2021"
      ]
     },
     "execution_count": 5,
     "metadata": {},
     "output_type": "execute_result"
    }
   ],
   "source": [
    "extracted.head()"
   ]
  },
  {
   "cell_type": "code",
   "execution_count": 6,
   "metadata": {},
   "outputs": [],
   "source": [
    "# remove spaces from end of words and upper case\n",
    "mapped[\"CLASSE\"] = mapped[\"CLASSE\"].str.strip().str.upper()\n",
    "mapped[\"CAMPEONATO\"] = mapped[\"CAMPEONATO\"].str.strip().str.upper()\n",
    "\n",
    "extracted[\"Classe Vela\"] = extracted[\"Classe Vela\"].str.strip().str.upper()\n",
    "extracted[\"Nome Competição\"] = extracted[\"Nome Competição\"].str.strip().str.upper()"
   ]
  },
  {
   "cell_type": "code",
   "execution_count": 7,
   "metadata": {},
   "outputs": [
    {
     "name": "stdout",
     "output_type": "stream",
     "text": [
      "Number of mapped class-competitions: 160\n",
      "Number of extracted class-competitions: 151\n",
      "Number of non-extracted class-competitions: 9\n"
     ]
    }
   ],
   "source": [
    "n_not_extracted = mapped.shape[0] - extracted.shape[0]\n",
    "print(f\"Number of mapped class-competitions: {mapped.shape[0]}\")\n",
    "print(f\"Number of extracted class-competitions: {extracted.shape[0]}\")\n",
    "print(f\"Number of non-extracted class-competitions: {n_not_extracted}\")"
   ]
  },
  {
   "cell_type": "code",
   "execution_count": 8,
   "metadata": {},
   "outputs": [],
   "source": [
    "# get the competitions that were not extracted\n",
    "mapped[\"FullID\"] = mapped[\"CLASSE\"] + ' ' + mapped[\"CAMPEONATO\"] \n",
    "extracted[\"FullID\"] = extracted[\"Classe Vela\"] + ' ' + extracted[\"Nome Competição\"]"
   ]
  },
  {
   "cell_type": "code",
   "execution_count": 9,
   "metadata": {},
   "outputs": [
    {
     "data": {
      "text/html": [
       "<div>\n",
       "<style scoped>\n",
       "    .dataframe tbody tr th:only-of-type {\n",
       "        vertical-align: middle;\n",
       "    }\n",
       "\n",
       "    .dataframe tbody tr th {\n",
       "        vertical-align: top;\n",
       "    }\n",
       "\n",
       "    .dataframe thead th {\n",
       "        text-align: right;\n",
       "    }\n",
       "</style>\n",
       "<table border=\"1\" class=\"dataframe\">\n",
       "  <thead>\n",
       "    <tr style=\"text-align: right;\">\n",
       "      <th></th>\n",
       "      <th>CLASSE</th>\n",
       "      <th>CAMPEONATO</th>\n",
       "    </tr>\n",
       "  </thead>\n",
       "  <tbody>\n",
       "    <tr>\n",
       "      <th>58</th>\n",
       "      <td>IQFOIL MASC.</td>\n",
       "      <td>WORLD CHAMPIONSHIP 2021</td>\n",
       "    </tr>\n",
       "    <tr>\n",
       "      <th>61</th>\n",
       "      <td>IQFOIL MASC.</td>\n",
       "      <td>EUROPEAN CHAMPIONSHIP 2021</td>\n",
       "    </tr>\n",
       "    <tr>\n",
       "      <th>67</th>\n",
       "      <td>IQFOIL FEM.</td>\n",
       "      <td>WORLD CHAMPIONSHIP 2021</td>\n",
       "    </tr>\n",
       "    <tr>\n",
       "      <th>70</th>\n",
       "      <td>IQFOIL FEM.</td>\n",
       "      <td>EUROPEAN CHAMPIONSHIP 2021</td>\n",
       "    </tr>\n",
       "    <tr>\n",
       "      <th>115</th>\n",
       "      <td>49ERFX</td>\n",
       "      <td>EUROPEAN CHAMPIONSHIP 2017</td>\n",
       "    </tr>\n",
       "    <tr>\n",
       "      <th>145</th>\n",
       "      <td>FORMULA KITE MASC.</td>\n",
       "      <td>WORLD CHAMPIONSHIP 2022</td>\n",
       "    </tr>\n",
       "    <tr>\n",
       "      <th>146</th>\n",
       "      <td>FORMULA KITE MASC.</td>\n",
       "      <td>WORLD CHAMPIONSHIP 2021</td>\n",
       "    </tr>\n",
       "    <tr>\n",
       "      <th>153</th>\n",
       "      <td>FORMULA KITE FEM.</td>\n",
       "      <td>WORLD CHAMPIONSHIP 2022</td>\n",
       "    </tr>\n",
       "    <tr>\n",
       "      <th>154</th>\n",
       "      <td>FORMULA KITE FEM.</td>\n",
       "      <td>WORLD CHAMPIONSHIP 2021</td>\n",
       "    </tr>\n",
       "  </tbody>\n",
       "</table>\n",
       "</div>"
      ],
      "text/plain": [
       "                 CLASSE                  CAMPEONATO\n",
       "58         IQFOIL MASC.     WORLD CHAMPIONSHIP 2021\n",
       "61         IQFOIL MASC.  EUROPEAN CHAMPIONSHIP 2021\n",
       "67          IQFOIL FEM.     WORLD CHAMPIONSHIP 2021\n",
       "70          IQFOIL FEM.  EUROPEAN CHAMPIONSHIP 2021\n",
       "115              49ERFX  EUROPEAN CHAMPIONSHIP 2017\n",
       "145  FORMULA KITE MASC.     WORLD CHAMPIONSHIP 2022\n",
       "146  FORMULA KITE MASC.     WORLD CHAMPIONSHIP 2021\n",
       "153   FORMULA KITE FEM.     WORLD CHAMPIONSHIP 2022\n",
       "154   FORMULA KITE FEM.     WORLD CHAMPIONSHIP 2021"
      ]
     },
     "execution_count": 9,
     "metadata": {},
     "output_type": "execute_result"
    }
   ],
   "source": [
    "flt = mapped[\"FullID\"].isin(extracted[\"FullID\"])\n",
    "mapped[~flt][[\"CLASSE\", \"CAMPEONATO\"]]"
   ]
  }
 ],
 "metadata": {
  "kernelspec": {
   "display_name": "Python 3",
   "language": "python",
   "name": "python3"
  },
  "language_info": {
   "codemirror_mode": {
    "name": "ipython",
    "version": 3
   },
   "file_extension": ".py",
   "mimetype": "text/x-python",
   "name": "python",
   "nbconvert_exporter": "python",
   "pygments_lexer": "ipython3",
   "version": "3.10.12"
  }
 },
 "nbformat": 4,
 "nbformat_minor": 2
}
