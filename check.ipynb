{
 "cells": [
  {
   "cell_type": "code",
   "execution_count": 1,
   "metadata": {},
   "outputs": [],
   "source": [
    "import pandas as pd"
   ]
  },
  {
   "cell_type": "code",
   "execution_count": 2,
   "metadata": {},
   "outputs": [
    {
     "name": "stderr",
     "output_type": "stream",
     "text": [
      "/var/folders/53/1typ0st128j24ztv1460xhb40000gn/T/ipykernel_1136/1918887247.py:1: DtypeWarning: Columns (8,9,10,11) have mixed types. Specify dtype option on import or set low_memory=False.\n",
      "  df_original = pd.read_csv('data/Banco de Súmulas - Sumulas.csv')\n"
     ]
    }
   ],
   "source": [
    "df_original = pd.read_csv('data/Banco de Súmulas - Sumulas.csv')\n",
    "df = pd.read_excel(\"data/ajustado.xlsx\")"
   ]
  },
  {
   "cell_type": "code",
   "execution_count": 3,
   "metadata": {},
   "outputs": [],
   "source": [
    "all = list(set(df_original[\"Punição\"].dropna()))"
   ]
  },
  {
   "cell_type": "code",
   "execution_count": 4,
   "metadata": {},
   "outputs": [],
   "source": [
    "exists = [\"DNC\", \"DNS\", \"OCS\", \"ZFP\", \"UFD\", \"BFD\", \"SCP\", \"NSC\", \"DNF\", \"RET\", \"DSQ\", \"DNE\", \"RDG\", \"DPI\"]"
   ]
  },
  {
   "cell_type": "code",
   "execution_count": 5,
   "metadata": {},
   "outputs": [],
   "source": [
    "flt = df[\"Punição\"].isin(exists)\n",
    "df_adjust = df[~flt]"
   ]
  },
  {
   "cell_type": "code",
   "execution_count": 6,
   "metadata": {},
   "outputs": [
    {
     "data": {
      "text/plain": [
       "Punição\n",
       "DN        699\n",
       "STP       322\n",
       "SPI        25\n",
       "DP         10\n",
       "ARB         7\n",
       "SP1         6\n",
       "PRP         6\n",
       "M-SCP       4\n",
       "FL-SCP      2\n",
       "RAF         2\n",
       "DCT         1\n",
       "Name: count, dtype: int64"
      ]
     },
     "execution_count": 6,
     "metadata": {},
     "output_type": "execute_result"
    }
   ],
   "source": [
    "df_adjust[\"Punição\"].value_counts()"
   ]
  }
 ],
 "metadata": {
  "kernelspec": {
   "display_name": "Python 3",
   "language": "python",
   "name": "python3"
  },
  "language_info": {
   "codemirror_mode": {
    "name": "ipython",
    "version": 3
   },
   "file_extension": ".py",
   "mimetype": "text/x-python",
   "name": "python",
   "nbconvert_exporter": "python",
   "pygments_lexer": "ipython3",
   "version": "3.11.4"
  }
 },
 "nbformat": 4,
 "nbformat_minor": 2
}
