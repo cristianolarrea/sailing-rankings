{
 "cells": [
  {
   "cell_type": "code",
   "execution_count": 8,
   "metadata": {},
   "outputs": [],
   "source": [
    "import pandas as pd"
   ]
  },
  {
   "cell_type": "code",
   "execution_count": 9,
   "metadata": {},
   "outputs": [
    {
     "name": "stderr",
     "output_type": "stream",
     "text": [
      "<ipython-input-9-34a880fcee15>:1: DtypeWarning: Columns (9) have mixed types. Specify dtype option on import or set low_memory=False.\n",
      "  df_original = pd.read_csv('data/Banco de Súmulas - Sumulas.csv')\n"
     ]
    }
   ],
   "source": [
    "df_original = pd.read_csv('data/Banco de Súmulas - Sumulas.csv')\n",
    "df = pd.read_excel(\"data/ajustado.xlsx\")"
   ]
  },
  {
   "cell_type": "code",
   "execution_count": 10,
   "metadata": {},
   "outputs": [],
   "source": [
    "all = list(set(df_original[\"Punição\"].dropna()))"
   ]
  },
  {
   "cell_type": "code",
   "execution_count": 11,
   "metadata": {},
   "outputs": [],
   "source": [
    "exists = [\"DNC\", \"DNS\", \"OCS\", \"ZFP\", \"UFD\", \"BFD\", \"SCP\", \"NSC\", \"DNF\", \"RET\", \"DSQ\", \"DNE\", \"RDG\", \"DPI\"]"
   ]
  },
  {
   "cell_type": "code",
   "execution_count": 12,
   "metadata": {},
   "outputs": [],
   "source": [
    "flt = df[\"Punição\"].isin(exists)\n",
    "df_adjust = df[~flt]"
   ]
  },
  {
   "cell_type": "code",
   "execution_count": 13,
   "metadata": {},
   "outputs": [
    {
     "data": {
      "text/plain": [
       "Punição\n",
       "DNC    4349\n",
       "BFD    1547\n",
       "UFD     937\n",
       "DNF     827\n",
       "DSQ     326\n",
       "RET     286\n",
       "RDG     201\n",
       "DNS      92\n",
       "DNE      67\n",
       "DPI      46\n",
       "OCS      31\n",
       "SCP      29\n",
       "Name: count, dtype: int64"
      ]
     },
     "execution_count": 13,
     "metadata": {},
     "output_type": "execute_result"
    }
   ],
   "source": [
    "df_adjust[\"Punição\"].value_counts()"
   ]
  }
 ],
 "metadata": {
  "kernelspec": {
   "display_name": "Python 3",
   "language": "python",
   "name": "python3"
  },
  "language_info": {
   "codemirror_mode": {
    "name": "ipython",
    "version": 3
   },
   "file_extension": ".py",
   "mimetype": "text/x-python",
   "name": "python",
   "nbconvert_exporter": "python",
   "pygments_lexer": "ipython3",
   "version": "3.10.12"
  }
 },
 "nbformat": 4,
 "nbformat_minor": 2
}
