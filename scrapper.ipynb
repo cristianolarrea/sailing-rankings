{
 "cells": [
  {
   "cell_type": "code",
   "execution_count": 107,
   "metadata": {},
   "outputs": [],
   "source": [
    "from selenium.webdriver import Chrome\n",
    "from selenium.webdriver.chrome.options import Options\n",
    "from bs4 import BeautifulSoup\n",
    "import pandas as pd"
   ]
  },
  {
   "cell_type": "markdown",
   "metadata": {},
   "source": [
    "## Getting page content by Selenium\n",
    "\n",
    "We need to load html content by selenium to avoid the Beautiful Soup load until the entire webpage is loaded."
   ]
  },
  {
   "cell_type": "code",
   "execution_count": 154,
   "metadata": {},
   "outputs": [],
   "source": [
    "URL = \"https://velacat.sailti.com/ca/default/races/resultsajax/id/5047/idsc2r/15119/allResults/1/handicap\""
   ]
  },
  {
   "cell_type": "code",
   "execution_count": 155,
   "metadata": {},
   "outputs": [],
   "source": [
    "COMPETICAO = \"2021 ILCA Standard Men's World Championship\"\n",
    "CATEGORIA = \"ILCA 7\""
   ]
  },
  {
   "cell_type": "code",
   "execution_count": 156,
   "metadata": {},
   "outputs": [],
   "source": [
    "options = Options()\n",
    "options.add_argument(\"--headless\")\n",
    "\n",
    "with Chrome(options=options) as browser:\n",
    "    browser.get(URL)\n",
    "    html = browser.page_source"
   ]
  },
  {
   "cell_type": "code",
   "execution_count": 157,
   "metadata": {},
   "outputs": [],
   "source": [
    "soup = BeautifulSoup(html, \"html.parser\")"
   ]
  },
  {
   "cell_type": "markdown",
   "metadata": {},
   "source": [
    "All data are in rows of a table, so we can find them by finding the tbody tag"
   ]
  },
  {
   "cell_type": "code",
   "execution_count": 158,
   "metadata": {},
   "outputs": [],
   "source": [
    "NUMERO_DE_PARTICIPANTES = 135\n",
    "DADOS_POR_LINHA = 16"
   ]
  },
  {
   "cell_type": "code",
   "execution_count": 193,
   "metadata": {},
   "outputs": [],
   "source": [
    "def get_flotilha(soup_object):\n",
    "    \"\"\"\n",
    "    This functions gets a input like <span style=\"display:none;\">punt_Yellow _0000003</span>\n",
    "    and returns the series of this data.\n",
    "    \"\"\"\n",
    "    if \"Yellow\" in str(soup_object) or \"Blue\" in str(soup_object):\n",
    "        return \"G\"\n",
    "    elif \"Silver\" in str(soup_object):\n",
    "        return \"P\"\n",
    "    elif \"Gold\" in str(soup_object):\n",
    "        return \"O\"\n",
    "    else:\n",
    "        return \"TO VERIFY\"\n",
    "    "
   ]
  },
  {
   "cell_type": "code",
   "execution_count": 194,
   "metadata": {},
   "outputs": [],
   "source": [
    "def get_pontuacao(text):\n",
    "    \"\"\"\n",
    "    This functions geta a string like \"'\\n\\npunt_Gold _0000002 2\\n                                            \\n'\"\n",
    "    and extract the part referent to the pontuation\n",
    "    \"\"\"\n",
    "    try:\n",
    "        pontuacao = text.split(\"\\n\")[2].split(\" \")[-1]\n",
    "    except:\n",
    "        pontuacao= \"TO VERIFY\"\n",
    "    return pontuacao\n",
    "    "
   ]
  },
  {
   "cell_type": "code",
   "execution_count": 216,
   "metadata": {},
   "outputs": [],
   "source": [
    "data = {\n",
    "    \"Id Resultado\": [],\n",
    "    \"Id Competidor\": [],\n",
    "    \"Nome Competidor\": [],\n",
    "    \"Id Competição\": [],\n",
    "    \"Classe Vela\": [],\n",
    "    \"Pontuação Regata\": [],\n",
    "    \"Flotilha\": [],\n",
    "    \"Posição Geral\": [],\n",
    "    \"Punição\": [],\n",
    "    \"Pontuação Total\": [],\n",
    "    \"Nett\": [],\n",
    "    \"Nome Competição\": []    \n",
    "}"
   ]
  },
  {
   "cell_type": "code",
   "execution_count": 217,
   "metadata": {},
   "outputs": [],
   "source": [
    "linhas = soup.find(\"tbody\").findChildren(\"td\")\n",
    "m = 0\n",
    "for i in range(0, (len(linhas)//DADOS_POR_LINHA)):\n",
    "    for j in range(8, 16):\n",
    "        if linhas[j + DADOS_POR_LINHA*i].text != \"\":\n",
    "            data[\"Id Resultado\"].append(m)\n",
    "            data[\"Id Competidor\"].append(None),\n",
    "            data[\"Nome Competidor\"].append(linhas[3+DADOS_POR_LINHA*i].text),\n",
    "            data[\"Id Competição\"].append(None),\n",
    "            data[\"Classe Vela\"].append(CATEGORIA),\n",
    "            data[\"Pontuação Regata\"].append(get_pontuacao(linhas[j + DADOS_POR_LINHA*i].text)),\n",
    "            data[\"Posição Geral\"].append(linhas[DADOS_POR_LINHA*i].text),\n",
    "            data[\"Flotilha\"].append(get_flotilha(linhas[j+DADOS_POR_LINHA*i]))\n",
    "            data[\"Punição\"].append(None),\n",
    "            data[\"Pontuação Total\"].append(linhas[7+DADOS_POR_LINHA*i].text),\n",
    "            data[\"Nett\"].append(linhas[6 + DADOS_POR_LINHA*i].text),\n",
    "            data[\"Nome Competição\"].append(COMPETICAO)\n",
    "        m += 1    \n"
   ]
  },
  {
   "cell_type": "code",
   "execution_count": 218,
   "metadata": {},
   "outputs": [],
   "source": [
    "df= pd.DataFrame(data)"
   ]
  },
  {
   "cell_type": "code",
   "execution_count": 219,
   "metadata": {},
   "outputs": [],
   "source": [
    "df.to_csv(f\"results/{COMPETICAO+CATEGORIA}.csv\")"
   ]
  },
  {
   "cell_type": "markdown",
   "metadata": {},
   "source": [
    "## RASCUNHOS"
   ]
  },
  {
   "cell_type": "code",
   "execution_count": 59,
   "metadata": {},
   "outputs": [],
   "source": [
    "linhas = soup.find(\"tbody\").findChildren(\"td\")"
   ]
  },
  {
   "cell_type": "code",
   "execution_count": 77,
   "metadata": {},
   "outputs": [
    {
     "name": "stdout",
     "output_type": "stream",
     "text": [
      "1\n"
     ]
    }
   ],
   "source": [
    "posicao = linhas[0].text\n",
    "print(posicao)"
   ]
  },
  {
   "cell_type": "code",
   "execution_count": 78,
   "metadata": {},
   "outputs": [
    {
     "name": "stdout",
     "output_type": "stream",
     "text": [
      "Thomas SAUNDERS \n"
     ]
    }
   ],
   "source": [
    "nome = linhas[3].text\n",
    "print(nome)"
   ]
  },
  {
   "cell_type": "code",
   "execution_count": 79,
   "metadata": {},
   "outputs": [
    {
     "name": "stdout",
     "output_type": "stream",
     "text": [
      "23\n"
     ]
    }
   ],
   "source": [
    "net = linhas[6].text\n",
    "print(net)"
   ]
  },
  {
   "cell_type": "code",
   "execution_count": 80,
   "metadata": {},
   "outputs": [
    {
     "name": "stdout",
     "output_type": "stream",
     "text": [
      "60\n"
     ]
    }
   ],
   "source": [
    "pontuacao = linhas[7].text\n",
    "print(pontuacao)"
   ]
  },
  {
   "cell_type": "code",
   "execution_count": null,
   "metadata": {},
   "outputs": [],
   "source": [
    "for i in range(8, 16): #"
   ]
  },
  {
   "cell_type": "code",
   "execution_count": 105,
   "metadata": {},
   "outputs": [
    {
     "data": {
      "text/plain": [
       "'\\n\\npunt_Gold _0000002 2\\n                                            \\n'"
      ]
     },
     "execution_count": 105,
     "metadata": {},
     "output_type": "execute_result"
    }
   ],
   "source": [
    "linhas[15].text"
   ]
  },
  {
   "cell_type": "code",
   "execution_count": 83,
   "metadata": {},
   "outputs": [
    {
     "data": {
      "text/plain": [
       "'  IRL 216890'"
      ]
     },
     "execution_count": 83,
     "metadata": {},
     "output_type": "execute_result"
    }
   ],
   "source": [
    "linhas[17].text"
   ]
  },
  {
   "cell_type": "code",
   "execution_count": 94,
   "metadata": {},
   "outputs": [
    {
     "name": "stdout",
     "output_type": "stream",
     "text": [
      "<span style=\"display:none;\">punt_Yellow _0000003</span>\n",
      "<span style=\"display:none;\">punt_Yellow _0000004</span>\n",
      "<span style=\"display:none;\">punt_Blue _0000007</span>\n",
      "<span style=\"display:none;\">punt_Blue _0000002</span>\n",
      "<span style=\"display:none;\">punt_Blue _0000037</span>\n",
      "<span style=\"display:none;\">punt_Gold _0000001</span>\n",
      "<span style=\"display:none;\">punt_Gold _0000004</span>\n",
      "<span style=\"display:none;\">punt_Gold _0000002</span>\n"
     ]
    }
   ],
   "source": [
    "for i in range(8, 16):\n",
    "    print(linhas[i].find(\"span\"))"
   ]
  },
  {
   "cell_type": "code",
   "execution_count": 129,
   "metadata": {},
   "outputs": [
    {
     "data": {
      "text/plain": [
       "<td align=\"center\" class=\"pos col-2x0\" rel=\"2x0\">\n",
       "<div align=\"center\" class=\"punt_Blue\">\n",
       "<span style=\"display:none;\">punt_Blue _0000005</span> 5\n",
       "                                            </div>\n",
       "</td>"
      ]
     },
     "execution_count": 129,
     "metadata": {},
     "output_type": "execute_result"
    }
   ],
   "source": [
    "linhas[120]"
   ]
  },
  {
   "cell_type": "code",
   "execution_count": null,
   "metadata": {},
   "outputs": [],
   "source": []
  }
 ],
 "metadata": {
  "kernelspec": {
   "display_name": "Python 3",
   "language": "python",
   "name": "python3"
  },
  "language_info": {
   "codemirror_mode": {
    "name": "ipython",
    "version": 3
   },
   "file_extension": ".py",
   "mimetype": "text/x-python",
   "name": "python",
   "nbconvert_exporter": "python",
   "pygments_lexer": "ipython3",
   "version": "3.8.9"
  },
  "orig_nbformat": 4
 },
 "nbformat": 4,
 "nbformat_minor": 2
}
