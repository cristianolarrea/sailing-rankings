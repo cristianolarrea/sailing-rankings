{
 "cells": [
  {
   "cell_type": "code",
   "execution_count": 18,
   "metadata": {},
   "outputs": [],
   "source": [
    "import pandas as pd\n",
    "import numpy as np\n",
    "import Levenshtein\n",
    "\n",
    "data = pd.read_csv('Banco de Súmulas - Sumulas.csv')"
   ]
  },
  {
   "cell_type": "code",
   "execution_count": 19,
   "metadata": {},
   "outputs": [],
   "source": [
    "unique_names = data['Nome Competidor'].unique()\n",
    "\n",
    "# up case all names\n",
    "unique_names = [name.upper() for name in unique_names]\n",
    "\n",
    "# remove accents\n",
    "import unidecode\n",
    "unique_names = [unidecode.unidecode(name) for name in unique_names]"
   ]
  },
  {
   "cell_type": "code",
   "execution_count": 41,
   "metadata": {},
   "outputs": [],
   "source": [
    "# create df where rows and columns are the names and the values are the levenshtein distance\n",
    "names_comparison = np.array(np.meshgrid(unique_names, unique_names)).T.reshape(-1,2)"
   ]
  },
  {
   "cell_type": "code",
   "execution_count": 42,
   "metadata": {},
   "outputs": [],
   "source": [
    "# create a third column with the levenshtein distance\n",
    "names_comparison = pd.DataFrame(names_comparison, columns=['name', 'other_names'])\n",
    "names_comparison['levenshtein_distance'] = names_comparison.apply(lambda row: Levenshtein.distance(row['name'], row['other_names']), axis=1)"
   ]
  },
  {
   "cell_type": "code",
   "execution_count": 43,
   "metadata": {},
   "outputs": [],
   "source": [
    "# remove rows where levenshtein distance is 0\n",
    "names_comparison = names_comparison[names_comparison['levenshtein_distance'] != 0]"
   ]
  },
  {
   "cell_type": "code",
   "execution_count": 44,
   "metadata": {},
   "outputs": [
    {
     "data": {
      "text/html": [
       "<div>\n",
       "<style scoped>\n",
       "    .dataframe tbody tr th:only-of-type {\n",
       "        vertical-align: middle;\n",
       "    }\n",
       "\n",
       "    .dataframe tbody tr th {\n",
       "        vertical-align: top;\n",
       "    }\n",
       "\n",
       "    .dataframe thead th {\n",
       "        text-align: right;\n",
       "    }\n",
       "</style>\n",
       "<table border=\"1\" class=\"dataframe\">\n",
       "  <thead>\n",
       "    <tr style=\"text-align: right;\">\n",
       "      <th></th>\n",
       "      <th>name</th>\n",
       "      <th>other_names</th>\n",
       "      <th>levenshtein_distance</th>\n",
       "    </tr>\n",
       "  </thead>\n",
       "  <tbody>\n",
       "    <tr>\n",
       "      <th>3771009</th>\n",
       "      <td>THOMAS VAN OFWEGEN</td>\n",
       "      <td>THOMAS VAN OFWEGWN</td>\n",
       "      <td>1</td>\n",
       "    </tr>\n",
       "    <tr>\n",
       "      <th>2955439</th>\n",
       "      <td>MAYA ASSHKENAZI</td>\n",
       "      <td>MAYA ASHKENAZI</td>\n",
       "      <td>1</td>\n",
       "    </tr>\n",
       "    <tr>\n",
       "      <th>4443657</th>\n",
       "      <td>MISAKI TANAKA SERA NAGAMATSU</td>\n",
       "      <td>MISAKI TANAKASERA NAGAMATSU</td>\n",
       "      <td>1</td>\n",
       "    </tr>\n",
       "    <tr>\n",
       "      <th>2555708</th>\n",
       "      <td>NITAI HASSON NOA LASRY</td>\n",
       "      <td>NITAI HASSONNOA LASRY</td>\n",
       "      <td>1</td>\n",
       "    </tr>\n",
       "    <tr>\n",
       "      <th>4430795</th>\n",
       "      <td>OLIVIA PRICE EVIE HASELDINE</td>\n",
       "      <td>OLIVIA PRICEEVIE HASELDINE</td>\n",
       "      <td>1</td>\n",
       "    </tr>\n",
       "    <tr>\n",
       "      <th>...</th>\n",
       "      <td>...</td>\n",
       "      <td>...</td>\n",
       "      <td>...</td>\n",
       "    </tr>\n",
       "    <tr>\n",
       "      <th>2617357</th>\n",
       "      <td>MAX NOCHER</td>\n",
       "      <td>MAXIME NOCHER</td>\n",
       "      <td>3</td>\n",
       "    </tr>\n",
       "    <tr>\n",
       "      <th>4013997</th>\n",
       "      <td>LI WAN</td>\n",
       "      <td>BI KUN</td>\n",
       "      <td>3</td>\n",
       "    </tr>\n",
       "    <tr>\n",
       "      <th>2445808</th>\n",
       "      <td>HAO CHEN</td>\n",
       "      <td>MAI/CHEN</td>\n",
       "      <td>3</td>\n",
       "    </tr>\n",
       "    <tr>\n",
       "      <th>393937</th>\n",
       "      <td>ALBERT BECKETT</td>\n",
       "      <td>ANDERS BECKETT</td>\n",
       "      <td>3</td>\n",
       "    </tr>\n",
       "    <tr>\n",
       "      <th>32851</th>\n",
       "      <td>NICO PARLIER</td>\n",
       "      <td>NICOLAS PARLIER</td>\n",
       "      <td>3</td>\n",
       "    </tr>\n",
       "  </tbody>\n",
       "</table>\n",
       "<p>400 rows × 3 columns</p>\n",
       "</div>"
      ],
      "text/plain": [
       "                                 name                  other_names  \\\n",
       "3771009            THOMAS VAN OFWEGEN           THOMAS VAN OFWEGWN   \n",
       "2955439               MAYA ASSHKENAZI               MAYA ASHKENAZI   \n",
       "4443657  MISAKI TANAKA SERA NAGAMATSU  MISAKI TANAKASERA NAGAMATSU   \n",
       "2555708        NITAI HASSON NOA LASRY        NITAI HASSONNOA LASRY   \n",
       "4430795   OLIVIA PRICE EVIE HASELDINE   OLIVIA PRICEEVIE HASELDINE   \n",
       "...                               ...                          ...   \n",
       "2617357                    MAX NOCHER                MAXIME NOCHER   \n",
       "4013997                        LI WAN                       BI KUN   \n",
       "2445808                      HAO CHEN                     MAI/CHEN   \n",
       "393937                 ALBERT BECKETT               ANDERS BECKETT   \n",
       "32851                    NICO PARLIER              NICOLAS PARLIER   \n",
       "\n",
       "         levenshtein_distance  \n",
       "3771009                     1  \n",
       "2955439                     1  \n",
       "4443657                     1  \n",
       "2555708                     1  \n",
       "4430795                     1  \n",
       "...                       ...  \n",
       "2617357                     3  \n",
       "4013997                     3  \n",
       "2445808                     3  \n",
       "393937                      3  \n",
       "32851                       3  \n",
       "\n",
       "[400 rows x 3 columns]"
      ]
     },
     "execution_count": 44,
     "metadata": {},
     "output_type": "execute_result"
    }
   ],
   "source": [
    "# show the names with the lowest levenshtein distance\n",
    "names_comparison.sort_values(by=['levenshtein_distance']).head(400)\n",
    "\n",
    "# get the names with levenshtein distance < 5\n",
    "# names_comparison_testing = names_comparison[names_comparison['levenshtein_distance'] < 7]\n"
   ]
  }
 ],
 "metadata": {
  "kernelspec": {
   "display_name": "Python 3",
   "language": "python",
   "name": "python3"
  },
  "language_info": {
   "codemirror_mode": {
    "name": "ipython",
    "version": 3
   },
   "file_extension": ".py",
   "mimetype": "text/x-python",
   "name": "python",
   "nbconvert_exporter": "python",
   "pygments_lexer": "ipython3",
   "version": "3.10.7"
  }
 },
 "nbformat": 4,
 "nbformat_minor": 2
}
