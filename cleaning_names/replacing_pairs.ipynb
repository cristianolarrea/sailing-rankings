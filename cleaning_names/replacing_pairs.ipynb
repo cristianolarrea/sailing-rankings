{
 "cells": [
  {
   "cell_type": "code",
   "execution_count": 14,
   "metadata": {},
   "outputs": [],
   "source": [
    "import pandas as pd\n",
    "import numpy as np\n",
    "import Levenshtein\n",
    "import re\n",
    "import unidecode \n",
    "import json\n",
    "\n",
    "data = pd.read_excel('../data/Banco de Súmulas.xlsx')"
   ]
  },
  {
   "cell_type": "code",
   "execution_count": 15,
   "metadata": {},
   "outputs": [
    {
     "name": "stdout",
     "output_type": "stream",
     "text": [
      "['49er' 'Ilca 6' 'IQFOIL Fem.' 'Formula Kite Masc.' 'IQFOIL Masc.'\n",
      " '49erFX' 'Formula Kite Fem.' 'Nacra 17' 'Ilca 7' 470.0]\n"
     ]
    }
   ],
   "source": [
    "# get unique classes\n",
    "classes = data['Classe Vela'].unique()\n",
    "print(classes)"
   ]
  },
  {
   "cell_type": "code",
   "execution_count": 16,
   "metadata": {},
   "outputs": [
    {
     "data": {
      "text/plain": [
       "48836"
      ]
     },
     "execution_count": 16,
     "metadata": {},
     "output_type": "execute_result"
    }
   ],
   "source": [
    "# keep only pair classes\n",
    "classes = [470, '49er', '49erFX', 'Nacra 17']\n",
    "data = data[data['Classe Vela'].isin(classes)]\n",
    "len(data)"
   ]
  },
  {
   "cell_type": "code",
   "execution_count": 17,
   "metadata": {},
   "outputs": [
    {
     "name": "stderr",
     "output_type": "stream",
     "text": [
      "C:\\Users\\Carol Erthal\\AppData\\Local\\Temp\\ipykernel_20664\\221886864.py:7: FutureWarning: The default value of regex will change from True to False in a future version.\n",
      "  data['Nome Competidor'] = data['Nome Competidor'].str.replace(r'\\s+', ' ')\n"
     ]
    },
    {
     "data": {
      "text/plain": [
       "1644"
      ]
     },
     "execution_count": 17,
     "metadata": {},
     "output_type": "execute_result"
    }
   ],
   "source": [
    "# treating strings\n",
    "\n",
    "# unidecode\n",
    "data['Nome Competidor'] = data['Nome Competidor'].apply(unidecode.unidecode)\n",
    "\n",
    "# replace more than one space by one space\n",
    "data['Nome Competidor'] = data['Nome Competidor'].str.replace(r'\\s+', ' ')\n",
    "\n",
    "# substituir [;] por [virgula espaço]\n",
    "data['Nome Competidor'] = data['Nome Competidor'].str.replace(r';', r', ')\n",
    "\n",
    "# substituir [ / ] por [virgula espaço]\n",
    "data['Nome Competidor'] = data['Nome Competidor'].str.replace(r' / ', r', ')\n",
    "\n",
    "for index, row in data.iterrows():\n",
    "    if re.match(r'^([A-Z]{2,})', row['Nome Competidor']):\n",
    "        # ERTHAL Carol LAMARCA Felipe\n",
    "        data.at[index, \"Nome Competidor\"] = re.sub(r'([a-z]{2,}) ([A-Z]{2,})', r'\\1, \\2', data.at[index, \"Nome Competidor\"])\n",
    "                \n",
    "        # ERTHAL CarolLAMARCA Felipe\n",
    "        data.at[index, \"Nome Competidor\"] = re.sub(r'([a-z]{2,})([A-Z]{2,})', r'\\1, \\2', data.at[index, \"Nome Competidor\"])\n",
    "\n",
    "    else:\n",
    "        # Carol ERTHALFelipe LAMARCA\n",
    "        data.at[index, \"Nome Competidor\"] = re.sub(r'([A-Z])([A-Z][a-z])', r'\\1, \\2', data.at[index, \"Nome Competidor\"])\n",
    "\n",
    "        # Carol ERTHAL Felipe LAMARCA\n",
    "        data.at[index, \"Nome Competidor\"] = re.sub(r'([A-Z]) ([A-Z][a-z])', r'\\1, \\2', data.at[index, \"Nome Competidor\"])\n",
    "\n",
    "        # Carol ErthalFelipe Lamarca / Erthal CarolLamarca Felipe\n",
    "        data.at[index, \"Nome Competidor\"] = re.sub(r'([a-z])([A-Z][a-z])', r'\\1, \\2', data.at[index, \"Nome Competidor\"])\n",
    "\n",
    "# upper case\n",
    "data['Nome Competidor'] = data['Nome Competidor'].str.upper()\n",
    "\n",
    "# get unique names\n",
    "names = data['Nome Competidor'].unique()\n",
    "len(names)"
   ]
  },
  {
   "cell_type": "code",
   "execution_count": 18,
   "metadata": {},
   "outputs": [],
   "source": [
    "# read json to dict\n",
    "with open('..\\data\\similar_names_pairs.json', 'r') as fp:\n",
    "    similar_names_dict = json.load(fp)\n",
    "\n",
    "# for each key, substitute the values by the key in the data\n",
    "for key in similar_names_dict:\n",
    "    for value in similar_names_dict[key]:\n",
    "        data['Nome Competidor'] = np.where(data['Nome Competidor'] == value, key, data['Nome Competidor'])"
   ]
  },
  {
   "cell_type": "code",
   "execution_count": 19,
   "metadata": {},
   "outputs": [
    {
     "data": {
      "text/plain": [
       "1112"
      ]
     },
     "execution_count": 19,
     "metadata": {},
     "output_type": "execute_result"
    }
   ],
   "source": [
    "names = data['Nome Competidor'].unique()\n",
    "len(names)"
   ]
  },
  {
   "cell_type": "code",
   "execution_count": 20,
   "metadata": {},
   "outputs": [
    {
     "data": {
      "text/plain": [
       "48836"
      ]
     },
     "execution_count": 20,
     "metadata": {},
     "output_type": "execute_result"
    }
   ],
   "source": [
    "len(data)"
   ]
  },
  {
   "cell_type": "code",
   "execution_count": 22,
   "metadata": {},
   "outputs": [],
   "source": [
    "# output data to csv\n",
    "data.to_csv('..\\data\\Banco de Súmulas - Pair Classes.csv', index=False)"
   ]
  }
 ],
 "metadata": {
  "kernelspec": {
   "display_name": "Python 3",
   "language": "python",
   "name": "python3"
  },
  "language_info": {
   "codemirror_mode": {
    "name": "ipython",
    "version": 3
   },
   "file_extension": ".py",
   "mimetype": "text/x-python",
   "name": "python",
   "nbconvert_exporter": "python",
   "pygments_lexer": "ipython3",
   "version": "3.10.7"
  }
 },
 "nbformat": 4,
 "nbformat_minor": 2
}
