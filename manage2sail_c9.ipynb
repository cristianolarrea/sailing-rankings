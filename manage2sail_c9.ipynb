{
 "cells": [
  {
   "cell_type": "code",
   "execution_count": 1,
   "metadata": {},
   "outputs": [],
   "source": [
    "import pandas as pd\n",
    "from utils import cluster9"
   ]
  },
  {
   "cell_type": "markdown",
   "metadata": {},
   "source": [
    "## **Manage2Sail**\n",
    "\n",
    "**Links de acesso aos dados de cada classe via Web**\n",
    "\n",
    "| Classe | Ano  | Campeonato | Link |\n",
    "| ---    | ---  |  --- | --- |\n",
    "| 49er   | 2020 | European Championship | https://manage2sail.com/api/event/c64b4c22-4afb-4889-9a4d-84ce7442aa35/regattaresult/e3c4eb48-f6ed-4ec7-b8ac-9f232ddea639 |\n",
    "| 49er   | 2018 | World Championship | https://manage2sail.com/api/event/c64b4c22-4afb-4889-9a4d-84ce7442aa35/regattaresult/518808dd-25a2-4c23-b413-ed73aabba3fc |\n",
    "| 49er   | 2017 | World Championship | https://manage2sail.com/api/event/c64b4c22-4afb-4889-9a4d-84ce7442aa35/regattaresult/89dc12b0-2d91-4877-88b7-825038ac4036 |\n",
    "| 49er   | 2016 | World Championship | https://manage2sail.com/api/event/c64b4c22-4afb-4889-9a4d-84ce7442aa35/regattaresult/34d61158-9068-4d8f-9ff1-95140af60d43 |\n",
    "| 49er   | 2016 | European Championship | https://manage2sail.com/api/event/c64b4c22-4afb-4889-9a4d-84ce7442aa35/regattaresult/b4f510d9-e46d-4641-a054-200fb82e8814 |\n",
    "| 49er   | 2015 | World Championship | https://manage2sail.com/api/event/c64b4c22-4afb-4889-9a4d-84ce7442aa35/regattaresult/6accf2e2-7593-46df-b0dd-d2c41bcfa6cb |\n",
    "| 49erFX | 2020 | European Championship | https://manage2sail.com/api/event/c64b4c22-4afb-4889-9a4d-84ce7442aa35/regattaresult/7bf103f7-bb7f-463d-873f-dfa796f3c139 |\n",
    "| 49erFX | 2018 | World Championship | https://manage2sail.com/api/event/c64b4c22-4afb-4889-9a4d-84ce7442aa35/regattaresult/9a4044bf-78b3-42fc-bf38-38b07a54ad0a |\n",
    "| 49erFX | 2017 | World Championship | https://manage2sail.com/api/event/c64b4c22-4afb-4889-9a4d-84ce7442aa35/regattaresult/363b2130-c76c-4311-8555-f039b7ed8b31 |\n",
    "| 49erFX | 2016 | World Championship | https://manage2sail.com/api/event/c64b4c22-4afb-4889-9a4d-84ce7442aa35/regattaresult/59b55784-fa1e-4191-bc9c-228e11f84f88 |\n",
    "| 49erFX | 2016 | European Championship | https://manage2sail.com/api/event/c64b4c22-4afb-4889-9a4d-84ce7442aa35/regattaresult/979278e1-bd55-461d-9f64-0fb64bf901b4 |\n",
    "| 49erFX | 2015 | World Championship | https://manage2sail.com/api/event/c64b4c22-4afb-4889-9a4d-84ce7442aa35/regattaresult/c1cb92d1-bad5-406b-b96c-9116cdd3b06c |\n",
    "| Ilca 7 | 2018 | World Championship | https://manage2sail.com/api/event/c64b4c22-4afb-4889-9a4d-84ce7442aa35/regattaresult/d6754053-b44f-45ee-b35a-4f089ec87d1d |\n",
    "| Ilca 6 | 2018 | World Championship | https://manage2sail.com/api/event/c64b4c22-4afb-4889-9a4d-84ce7442aa35/regattaresult/35094a41-da0f-43e2-bdb6-32945b2cbb17 |\n",
    "| Ilca 7 | 2018 | Semaine Olympique Francaise de Voile | https://manage2sail.com/api/event/c64b4c22-4afb-4889-9a4d-84ce7442aa35/regattaresult/f9177157-d702-4601-b6d2-1a12e644a0fb |\n",
    "| Ilca 6 | 2018 | Semaine Olympique Francaise de Voile | https://manage2sail.com/api/event/c64b4c22-4afb-4889-9a4d-84ce7442aa35/regattaresult/3925beb4-a0ec-42d0-b784-67a9f38994d3 |\n",
    "| Ilca 7 | 2017 | Semaine Olympique Francaise de Voile | https://manage2sail.com/api/event/c64b4c22-4afb-4889-9a4d-84ce7442aa35/regattaresult/e1eab430-62c6-411c-82f1-ee896b53a55f |\n",
    "| Ilca 6 | 2017 | Semaine Olympique Francaise de Voile | https://manage2sail.com/api/event/c64b4c22-4afb-4889-9a4d-84ce7442aa35/regattaresult/056dd04a-3fad-45f1-b9c2-894bdb176b43 |"
   ]
  },
  {
   "cell_type": "code",
   "execution_count": 2,
   "metadata": {},
   "outputs": [],
   "source": [
    "references = pd.read_excel('references.xlsx')\n",
    "references = references.tail(3)"
   ]
  },
  {
   "cell_type": "code",
   "execution_count": 3,
   "metadata": {},
   "outputs": [
    {
     "data": {
      "text/html": [
       "<div>\n",
       "<style scoped>\n",
       "    .dataframe tbody tr th:only-of-type {\n",
       "        vertical-align: middle;\n",
       "    }\n",
       "\n",
       "    .dataframe tbody tr th {\n",
       "        vertical-align: top;\n",
       "    }\n",
       "\n",
       "    .dataframe thead th {\n",
       "        text-align: right;\n",
       "    }\n",
       "</style>\n",
       "<table border=\"1\" class=\"dataframe\">\n",
       "  <thead>\n",
       "    <tr style=\"text-align: right;\">\n",
       "      <th></th>\n",
       "      <th>Classe Vela</th>\n",
       "      <th>Nome Competição</th>\n",
       "      <th>ID Competição</th>\n",
       "      <th>URL</th>\n",
       "    </tr>\n",
       "  </thead>\n",
       "  <tbody>\n",
       "    <tr>\n",
       "      <th>22</th>\n",
       "      <td>49erFx</td>\n",
       "      <td>European Championship 2022</td>\n",
       "      <td>5</td>\n",
       "      <td>https://manage2sail.com/api/event/c64b4c22-4af...</td>\n",
       "    </tr>\n",
       "    <tr>\n",
       "      <th>23</th>\n",
       "      <td>49er</td>\n",
       "      <td>European Championship 2022</td>\n",
       "      <td>5</td>\n",
       "      <td>https://manage2sail.com/api/event/c64b4c22-4af...</td>\n",
       "    </tr>\n",
       "    <tr>\n",
       "      <th>24</th>\n",
       "      <td>Nacra 17</td>\n",
       "      <td>European Championship 2022</td>\n",
       "      <td>5</td>\n",
       "      <td>https://manage2sail.com/api/event/c64b4c22-4af...</td>\n",
       "    </tr>\n",
       "  </tbody>\n",
       "</table>\n",
       "</div>"
      ],
      "text/plain": [
       "   Classe Vela             Nome Competição  ID Competição  \\\n",
       "22      49erFx  European Championship 2022              5   \n",
       "23        49er  European Championship 2022              5   \n",
       "24    Nacra 17  European Championship 2022              5   \n",
       "\n",
       "                                                  URL  \n",
       "22  https://manage2sail.com/api/event/c64b4c22-4af...  \n",
       "23  https://manage2sail.com/api/event/c64b4c22-4af...  \n",
       "24  https://manage2sail.com/api/event/c64b4c22-4af...  "
      ]
     },
     "execution_count": 3,
     "metadata": {},
     "output_type": "execute_result"
    }
   ],
   "source": [
    "references"
   ]
  },
  {
   "cell_type": "code",
   "execution_count": 4,
   "metadata": {},
   "outputs": [
    {
     "name": "stdout",
     "output_type": "stream",
     "text": [
      "Finished 49erFx European Championship 2022\n",
      "Finished 49er European Championship 2022\n",
      "Finished Nacra 17 European Championship 2022\n"
     ]
    }
   ],
   "source": [
    "for row in references.iterrows():\n",
    "    \n",
    "    reference = {\n",
    "        'Classe Vela': row[1]['Classe Vela'],\n",
    "        'Nome Competição': row[1]['Nome Competição'],\n",
    "        'ID Competição': row[1]['ID Competição'],\n",
    "        'URL': row[1]['URL']\n",
    "    }\n",
    "\n",
    "    cluster9(reference)\n",
    "    \n",
    "    print(f'Finished {reference[\"Classe Vela\"]} {reference[\"Nome Competição\"]}')"
   ]
  },
  {
   "cell_type": "code",
   "execution_count": 5,
   "metadata": {},
   "outputs": [],
   "source": [
    "# import os\n",
    "# df = pd.DataFrame()\n",
    "# count = 0\n",
    "# for file in os.listdir('results'):\n",
    "#     if file.endswith('.xlsx'):\n",
    "#         print(file)\n",
    "#         df_file = pd.read_excel(f'results/{file}')\n",
    "#         count = count + len(df_file)\n",
    "#         # concatenate the dataframes\n",
    "#         df = pd.concat([df, df_file])"
   ]
  }
 ],
 "metadata": {
  "kernelspec": {
   "display_name": "Python 3",
   "language": "python",
   "name": "python3"
  },
  "language_info": {
   "codemirror_mode": {
    "name": "ipython",
    "version": 3
   },
   "file_extension": ".py",
   "mimetype": "text/x-python",
   "name": "python",
   "nbconvert_exporter": "python",
   "pygments_lexer": "ipython3",
   "version": "3.10.12"
  }
 },
 "nbformat": 4,
 "nbformat_minor": 2
}
